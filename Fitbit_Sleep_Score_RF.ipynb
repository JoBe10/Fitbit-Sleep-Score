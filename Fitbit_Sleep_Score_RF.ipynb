{
 "cells": [
  {
   "cell_type": "markdown",
   "metadata": {},
   "source": [
    "# Deconstructing the Fitbit Sleep Score"
   ]
  },
  {
   "cell_type": "markdown",
   "metadata": {},
   "source": [
    "In this project I will use different Machine Learning models in order to get a better understanding of the Fitbit Sleep Score. For those people who have a Fitbit, you've probably been wondering how exactly Fitbit comes up with your sleep score. Sometimes you sleep for shorter periods of time with similar amounts of REM and deep sleep but still get a better sleep score. Other times you have rather low amounts of REM and deep sleep but a better score than a night of higher amounts of those. What's the secret behind this?\n",
    "That's precisely what I will answer throughout this project."
   ]
  },
  {
   "cell_type": "code",
   "execution_count": 120,
   "metadata": {},
   "outputs": [],
   "source": [
    "# Import all relevant libraries\n",
    "import pandas as pd\n",
    "import numpy as np\n",
    "import matplotlib.pyplot as plt\n",
    "from sklearn.model_selection import train_test_split\n",
    "from sklearn.preprocessing import StandardScaler\n",
    "from sklearn.ensemble import RandomForestRegressor\n",
    "from sklearn.model_selection import cross_val_score\n",
    "from sklearn.metrics import mean_absolute_error"
   ]
  },
  {
   "cell_type": "code",
   "execution_count": 121,
   "metadata": {},
   "outputs": [],
   "source": [
    "# Read the data\n",
    "sleep_data = pd.read_csv('/Users/Jonas/Desktop/DataScience/Fun_projects/Fitbit_Sleep_Score/Fitbit_Sleep_JB_041219_010720.csv')"
   ]
  },
  {
   "cell_type": "code",
   "execution_count": 122,
   "metadata": {
    "scrolled": true
   },
   "outputs": [
    {
     "data": {
      "text/html": [
       "<div>\n",
       "<style scoped>\n",
       "    .dataframe tbody tr th:only-of-type {\n",
       "        vertical-align: middle;\n",
       "    }\n",
       "\n",
       "    .dataframe tbody tr th {\n",
       "        vertical-align: top;\n",
       "    }\n",
       "\n",
       "    .dataframe thead th {\n",
       "        text-align: right;\n",
       "    }\n",
       "</style>\n",
       "<table border=\"1\" class=\"dataframe\">\n",
       "  <thead>\n",
       "    <tr style=\"text-align: right;\">\n",
       "      <th></th>\n",
       "      <th>Start Time</th>\n",
       "      <th>End Time</th>\n",
       "      <th>Minutes Asleep</th>\n",
       "      <th>Minutes Awake</th>\n",
       "      <th>Number of Awakenings</th>\n",
       "      <th>Time in Bed</th>\n",
       "      <th>Minutes REM Sleep</th>\n",
       "      <th>Minutes Light Sleep</th>\n",
       "      <th>Minutes Deep Sleep</th>\n",
       "      <th>overall_score</th>\n",
       "    </tr>\n",
       "  </thead>\n",
       "  <tbody>\n",
       "    <tr>\n",
       "      <th>0</th>\n",
       "      <td>30/6/20 21:57</td>\n",
       "      <td>1/7/20 5:59</td>\n",
       "      <td>402</td>\n",
       "      <td>79</td>\n",
       "      <td>40</td>\n",
       "      <td>481</td>\n",
       "      <td>32</td>\n",
       "      <td>282</td>\n",
       "      <td>88</td>\n",
       "      <td>71.0</td>\n",
       "    </tr>\n",
       "    <tr>\n",
       "      <th>1</th>\n",
       "      <td>29/6/20 21:35</td>\n",
       "      <td>30/6/20 6:02</td>\n",
       "      <td>444</td>\n",
       "      <td>63</td>\n",
       "      <td>36</td>\n",
       "      <td>507</td>\n",
       "      <td>51</td>\n",
       "      <td>332</td>\n",
       "      <td>61</td>\n",
       "      <td>78.0</td>\n",
       "    </tr>\n",
       "    <tr>\n",
       "      <th>2</th>\n",
       "      <td>28/6/20 22:01</td>\n",
       "      <td>29/6/20 6:01</td>\n",
       "      <td>420</td>\n",
       "      <td>60</td>\n",
       "      <td>36</td>\n",
       "      <td>480</td>\n",
       "      <td>37</td>\n",
       "      <td>335</td>\n",
       "      <td>48</td>\n",
       "      <td>78.0</td>\n",
       "    </tr>\n",
       "    <tr>\n",
       "      <th>3</th>\n",
       "      <td>27/6/20 22:05</td>\n",
       "      <td>28/6/20 9:27</td>\n",
       "      <td>567</td>\n",
       "      <td>115</td>\n",
       "      <td>51</td>\n",
       "      <td>682</td>\n",
       "      <td>83</td>\n",
       "      <td>390</td>\n",
       "      <td>94</td>\n",
       "      <td>75.0</td>\n",
       "    </tr>\n",
       "    <tr>\n",
       "      <th>4</th>\n",
       "      <td>26/6/20 21:40</td>\n",
       "      <td>27/6/20 7:35</td>\n",
       "      <td>495</td>\n",
       "      <td>100</td>\n",
       "      <td>35</td>\n",
       "      <td>595</td>\n",
       "      <td>75</td>\n",
       "      <td>335</td>\n",
       "      <td>85</td>\n",
       "      <td>78.0</td>\n",
       "    </tr>\n",
       "  </tbody>\n",
       "</table>\n",
       "</div>"
      ],
      "text/plain": [
       "      Start Time      End Time  Minutes Asleep  Minutes Awake  \\\n",
       "0  30/6/20 21:57   1/7/20 5:59             402             79   \n",
       "1  29/6/20 21:35  30/6/20 6:02             444             63   \n",
       "2  28/6/20 22:01  29/6/20 6:01             420             60   \n",
       "3  27/6/20 22:05  28/6/20 9:27             567            115   \n",
       "4  26/6/20 21:40  27/6/20 7:35             495            100   \n",
       "\n",
       "   Number of Awakenings  Time in Bed  Minutes REM Sleep  Minutes Light Sleep  \\\n",
       "0                    40          481                 32                  282   \n",
       "1                    36          507                 51                  332   \n",
       "2                    36          480                 37                  335   \n",
       "3                    51          682                 83                  390   \n",
       "4                    35          595                 75                  335   \n",
       "\n",
       "   Minutes Deep Sleep  overall_score  \n",
       "0                  88           71.0  \n",
       "1                  61           78.0  \n",
       "2                  48           78.0  \n",
       "3                  94           75.0  \n",
       "4                  85           78.0  "
      ]
     },
     "execution_count": 122,
     "metadata": {},
     "output_type": "execute_result"
    }
   ],
   "source": [
    "sleep_data.head()"
   ]
  },
  {
   "cell_type": "code",
   "execution_count": 123,
   "metadata": {},
   "outputs": [],
   "source": [
    "# Drop the last row as it doesn't have any sleep score data\n",
    "sleep_data.dropna(subset=['overall_score'], inplace=True)"
   ]
  },
  {
   "cell_type": "markdown",
   "metadata": {},
   "source": [
    "For now I will focus on the columns from Minutes Asleep to Minutes Deep Sleep as the features and the overall_score as the label as that most closely resembles the data that the Fitbit App provides to its users. The Number of Awakenings column seems interesting but isn't provided in the app either so I'll drop that one for now as well."
   ]
  },
  {
   "cell_type": "code",
   "execution_count": 124,
   "metadata": {},
   "outputs": [],
   "source": [
    "# Obtain column names for features\n",
    "feats = sleep_data.columns[2:9]\n",
    "\n",
    "X = sleep_data[feats].astype(float)\n",
    "X.drop('Number of Awakenings', axis=1, inplace=True)\n",
    "y = sleep_data['overall_score']"
   ]
  },
  {
   "cell_type": "code",
   "execution_count": 125,
   "metadata": {},
   "outputs": [],
   "source": [
    "# Split data into training and validation set\n",
    "X_train, X_valid, y_train, y_valid = train_test_split(X, y, test_size=0.2, random_state=42)\n",
    "# Remember: because now I'm looking at a Random Forest Regressor, scaling is not needed"
   ]
  },
  {
   "cell_type": "code",
   "execution_count": 126,
   "metadata": {},
   "outputs": [
    {
     "data": {
      "text/plain": [
       "RandomForestRegressor(random_state=42)"
      ]
     },
     "execution_count": 126,
     "metadata": {},
     "output_type": "execute_result"
    }
   ],
   "source": [
    "# To obtain a baseline model let's run a Random Forest Regressor with its default settings\n",
    "rf_base = RandomForestRegressor(random_state=42)\n",
    "rf_base.fit(X_train, y_train)"
   ]
  },
  {
   "cell_type": "code",
   "execution_count": 127,
   "metadata": {},
   "outputs": [],
   "source": [
    "# Make predictions \n",
    "preds = rf_base.predict(X_valid)"
   ]
  },
  {
   "cell_type": "code",
   "execution_count": 128,
   "metadata": {},
   "outputs": [
    {
     "name": "stdout",
     "output_type": "stream",
     "text": [
      "Accuracy: 96.11 %.\n"
     ]
    }
   ],
   "source": [
    "# Calculate mean absolute percentage error and accuracy\n",
    "errors = abs(preds - y_valid)\n",
    "mape = 100 * (errors / y_valid)\n",
    "accuracy = 100 - np.mean(mape)\n",
    "print('Accuracy:', round(accuracy, 2), '%.')"
   ]
  },
  {
   "cell_type": "code",
   "execution_count": 129,
   "metadata": {},
   "outputs": [
    {
     "data": {
      "text/plain": [
       "0.7233590563537902"
      ]
     },
     "execution_count": 129,
     "metadata": {},
     "output_type": "execute_result"
    }
   ],
   "source": [
    "# Also look at the model score\n",
    "rf_base.score(X_valid, y_valid)"
   ]
  },
  {
   "cell_type": "code",
   "execution_count": 130,
   "metadata": {},
   "outputs": [
    {
     "name": "stdout",
     "output_type": "stream",
     "text": [
      "Variable: Minutes Asleep       Importance: 0.61\n",
      "Variable: Minutes REM Sleep    Importance: 0.19\n",
      "Variable: Minutes Awake        Importance: 0.12\n",
      "Variable: Time in Bed          Importance: 0.03\n",
      "Variable: Minutes Deep Sleep   Importance: 0.03\n",
      "Variable: Minutes Light Sleep  Importance: 0.02\n"
     ]
    },
    {
     "data": {
      "text/plain": [
       "[None, None, None, None, None, None]"
      ]
     },
     "execution_count": 130,
     "metadata": {},
     "output_type": "execute_result"
    }
   ],
   "source": [
    "# Look at feature importances\n",
    "feature_list = list(X.columns)\n",
    "importances = list(rf_base.feature_importances_)\n",
    "\n",
    "# List of tuples with variable and importance ans subsequent sorting\n",
    "feature_importances = [(feature, round(importance, 2)) for feature, importance in zip(feature_list, importances)]\n",
    "feature_importances = sorted(feature_importances, key = lambda x: x[1], reverse=True)\n",
    "\n",
    "# Print out features and corresponding importances\n",
    "[print('Variable: {:20} Importance: {}'.format(*pair)) for pair in feature_importances]"
   ]
  },
  {
   "cell_type": "code",
   "execution_count": 132,
   "metadata": {},
   "outputs": [],
   "source": [
    "# Define function for converting hours and minutes into minutes\n",
    "def hours_to_mins(time):\n",
    "    hour = time[0]\n",
    "    mins = time[1]\n",
    "    mins = mins + hour * 60\n",
    "    return mins"
   ]
  },
  {
   "cell_type": "code",
   "execution_count": 133,
   "metadata": {},
   "outputs": [
    {
     "data": {
      "text/plain": [
       "Index(['Minutes Asleep', 'Minutes Awake', 'Time in Bed', 'Minutes REM Sleep',\n",
       "       'Minutes Light Sleep', 'Minutes Deep Sleep'],\n",
       "      dtype='object')"
      ]
     },
     "execution_count": 133,
     "metadata": {},
     "output_type": "execute_result"
    }
   ],
   "source": [
    "X_train.columns"
   ]
  },
  {
   "cell_type": "code",
   "execution_count": 142,
   "metadata": {},
   "outputs": [],
   "source": [
    "yesterday = [(7,12), (1,20), (8,32), (1,3), (4,45), (1,24)]"
   ]
  },
  {
   "cell_type": "code",
   "execution_count": 146,
   "metadata": {},
   "outputs": [],
   "source": [
    "# Define function to transform input times\n",
    "def get_input(times):\n",
    "    transformed = []\n",
    "    for time in times:\n",
    "        transformed.append(hours_to_mins(time))\n",
    "    transformed = np.array(transformed)\n",
    "    transformed = transformed.reshape(1, -1)\n",
    "    return transformed"
   ]
  },
  {
   "cell_type": "code",
   "execution_count": 149,
   "metadata": {},
   "outputs": [
    {
     "data": {
      "text/plain": [
       "array([[432,  80, 512,  63, 285,  84]])"
      ]
     },
     "execution_count": 149,
     "metadata": {},
     "output_type": "execute_result"
    }
   ],
   "source": [
    "# Convert last nights sleep score\n",
    "last_night = get_input(yesterday)\n",
    "last_night"
   ]
  },
  {
   "cell_type": "code",
   "execution_count": 148,
   "metadata": {},
   "outputs": [
    {
     "data": {
      "text/plain": [
       "array([75.8])"
      ]
     },
     "execution_count": 148,
     "metadata": {},
     "output_type": "execute_result"
    }
   ],
   "source": [
    "# Make a sleep score prediction (the actual sleep score was 77)\n",
    "rf_base.predict(last_night)"
   ]
  }
 ],
 "metadata": {
  "kernelspec": {
   "display_name": "Python 3",
   "language": "python",
   "name": "python3"
  },
  "language_info": {
   "codemirror_mode": {
    "name": "ipython",
    "version": 3
   },
   "file_extension": ".py",
   "mimetype": "text/x-python",
   "name": "python",
   "nbconvert_exporter": "python",
   "pygments_lexer": "ipython3",
   "version": "3.8.2"
  }
 },
 "nbformat": 4,
 "nbformat_minor": 4
}
