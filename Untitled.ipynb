{
 "cells": [
  {
   "cell_type": "markdown",
   "metadata": {},
   "source": [
    "# Deconstructing the Fitbit Sleep Score"
   ]
  },
  {
   "cell_type": "markdown",
   "metadata": {},
   "source": [
    "In this project I will use different Machine Learning models in order to get a better understanding of the Fitbit Sleep Score. For those people who have a Fitbit, you've probably been wondering how exactly Fitbit comes up with your sleep score. Sometimes you sleep for shorter periods of time with similar amounts of REM and deep sleep but still get a better sleep score. Other times you have rather low amounts of REM and deep sleep but a better score than a night of higher amounts of those. What's the secret behind this?\n",
    "That's precisely what I will answer throughout this project."
   ]
  },
  {
   "cell_type": "code",
   "execution_count": 2,
   "metadata": {},
   "outputs": [],
   "source": [
    "# Import all relevant libraries\n",
    "import pandas as pd\n",
    "import numpy as np\n",
    "import matplotlib.pyplot as plt\n",
    "from sklearn.model_selection import train_test_split\n",
    "from sklearn.preprocessing import MinMaxScaler\n",
    "from sklearn.linear_model import LinearRegression\n",
    "import statsmodels.api as sm\n",
    "from sklearn.ensemble import RandomForestRegressor\n",
    "from sklearn.pipeline import Pipeline\n",
    "from sklearn.model_selection import cross_val_score"
   ]
  },
  {
   "cell_type": "code",
   "execution_count": 58,
   "metadata": {},
   "outputs": [],
   "source": [
    "# Read the data\n",
    "sleep_data = pd.read_csv('/Users/Jonas/Desktop/DataScience/Fun_projects/Fitbit_Sleep_Score/Fitbit_Sleep_JB_041219_010720.csv')"
   ]
  },
  {
   "cell_type": "code",
   "execution_count": 59,
   "metadata": {
    "scrolled": true
   },
   "outputs": [
    {
     "data": {
      "text/html": [
       "<div>\n",
       "<style scoped>\n",
       "    .dataframe tbody tr th:only-of-type {\n",
       "        vertical-align: middle;\n",
       "    }\n",
       "\n",
       "    .dataframe tbody tr th {\n",
       "        vertical-align: top;\n",
       "    }\n",
       "\n",
       "    .dataframe thead th {\n",
       "        text-align: right;\n",
       "    }\n",
       "</style>\n",
       "<table border=\"1\" class=\"dataframe\">\n",
       "  <thead>\n",
       "    <tr style=\"text-align: right;\">\n",
       "      <th></th>\n",
       "      <th>Start Time</th>\n",
       "      <th>End Time</th>\n",
       "      <th>Minutes Asleep</th>\n",
       "      <th>Minutes Awake</th>\n",
       "      <th>Number of Awakenings</th>\n",
       "      <th>Time in Bed</th>\n",
       "      <th>Minutes REM Sleep</th>\n",
       "      <th>Minutes Light Sleep</th>\n",
       "      <th>Minutes Deep Sleep</th>\n",
       "      <th>overall_score</th>\n",
       "    </tr>\n",
       "  </thead>\n",
       "  <tbody>\n",
       "    <tr>\n",
       "      <th>0</th>\n",
       "      <td>30/6/20 21:57</td>\n",
       "      <td>1/7/20 5:59</td>\n",
       "      <td>402</td>\n",
       "      <td>79</td>\n",
       "      <td>40</td>\n",
       "      <td>481</td>\n",
       "      <td>32</td>\n",
       "      <td>282</td>\n",
       "      <td>88</td>\n",
       "      <td>71.0</td>\n",
       "    </tr>\n",
       "    <tr>\n",
       "      <th>1</th>\n",
       "      <td>29/6/20 21:35</td>\n",
       "      <td>30/6/20 6:02</td>\n",
       "      <td>444</td>\n",
       "      <td>63</td>\n",
       "      <td>36</td>\n",
       "      <td>507</td>\n",
       "      <td>51</td>\n",
       "      <td>332</td>\n",
       "      <td>61</td>\n",
       "      <td>78.0</td>\n",
       "    </tr>\n",
       "    <tr>\n",
       "      <th>2</th>\n",
       "      <td>28/6/20 22:01</td>\n",
       "      <td>29/6/20 6:01</td>\n",
       "      <td>420</td>\n",
       "      <td>60</td>\n",
       "      <td>36</td>\n",
       "      <td>480</td>\n",
       "      <td>37</td>\n",
       "      <td>335</td>\n",
       "      <td>48</td>\n",
       "      <td>78.0</td>\n",
       "    </tr>\n",
       "    <tr>\n",
       "      <th>3</th>\n",
       "      <td>27/6/20 22:05</td>\n",
       "      <td>28/6/20 9:27</td>\n",
       "      <td>567</td>\n",
       "      <td>115</td>\n",
       "      <td>51</td>\n",
       "      <td>682</td>\n",
       "      <td>83</td>\n",
       "      <td>390</td>\n",
       "      <td>94</td>\n",
       "      <td>75.0</td>\n",
       "    </tr>\n",
       "    <tr>\n",
       "      <th>4</th>\n",
       "      <td>26/6/20 21:40</td>\n",
       "      <td>27/6/20 7:35</td>\n",
       "      <td>495</td>\n",
       "      <td>100</td>\n",
       "      <td>35</td>\n",
       "      <td>595</td>\n",
       "      <td>75</td>\n",
       "      <td>335</td>\n",
       "      <td>85</td>\n",
       "      <td>78.0</td>\n",
       "    </tr>\n",
       "  </tbody>\n",
       "</table>\n",
       "</div>"
      ],
      "text/plain": [
       "      Start Time      End Time  Minutes Asleep  Minutes Awake  \\\n",
       "0  30/6/20 21:57   1/7/20 5:59             402             79   \n",
       "1  29/6/20 21:35  30/6/20 6:02             444             63   \n",
       "2  28/6/20 22:01  29/6/20 6:01             420             60   \n",
       "3  27/6/20 22:05  28/6/20 9:27             567            115   \n",
       "4  26/6/20 21:40  27/6/20 7:35             495            100   \n",
       "\n",
       "   Number of Awakenings  Time in Bed  Minutes REM Sleep  Minutes Light Sleep  \\\n",
       "0                    40          481                 32                  282   \n",
       "1                    36          507                 51                  332   \n",
       "2                    36          480                 37                  335   \n",
       "3                    51          682                 83                  390   \n",
       "4                    35          595                 75                  335   \n",
       "\n",
       "   Minutes Deep Sleep  overall_score  \n",
       "0                  88           71.0  \n",
       "1                  61           78.0  \n",
       "2                  48           78.0  \n",
       "3                  94           75.0  \n",
       "4                  85           78.0  "
      ]
     },
     "execution_count": 59,
     "metadata": {},
     "output_type": "execute_result"
    }
   ],
   "source": [
    "sleep_data.head()"
   ]
  },
  {
   "cell_type": "code",
   "execution_count": 67,
   "metadata": {},
   "outputs": [],
   "source": [
    "# Drop the last row as it doesn't have any sleep score data\n",
    "sleep_data.dropna(subset=['overall_score'], inplace=True)"
   ]
  },
  {
   "cell_type": "markdown",
   "metadata": {},
   "source": [
    "For now I will focus on the columns from Minutes Asleep to Minutes Deep Sleep as the features and the overall_score as the label as that most closely resembles the data that the Fitbit App provides to its users. The Number of Awakenings column seems interesting but isn't provided in the app either so I'll drop that one for now as well."
   ]
  },
  {
   "cell_type": "code",
   "execution_count": 68,
   "metadata": {},
   "outputs": [],
   "source": [
    "# Obtain column names for features\n",
    "feats = sleep_data.columns[2:9]\n",
    "\n",
    "X = sleep_data[feats].astype(float)\n",
    "X.drop('Number of Awakenings', axis=1, inplace=True)\n",
    "y = sleep_data['overall_score']"
   ]
  },
  {
   "cell_type": "code",
   "execution_count": null,
   "metadata": {},
   "outputs": [],
   "source": [
    "# Build a pipeline using Random Forest Regressor\n"
   ]
  }
 ],
 "metadata": {
  "kernelspec": {
   "display_name": "Python 3",
   "language": "python",
   "name": "python3"
  },
  "language_info": {
   "codemirror_mode": {
    "name": "ipython",
    "version": 3
   },
   "file_extension": ".py",
   "mimetype": "text/x-python",
   "name": "python",
   "nbconvert_exporter": "python",
   "pygments_lexer": "ipython3",
   "version": "3.8.2"
  }
 },
 "nbformat": 4,
 "nbformat_minor": 4
}
