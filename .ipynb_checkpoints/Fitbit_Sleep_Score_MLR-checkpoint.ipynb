{
 "cells": [
  {
   "cell_type": "markdown",
   "metadata": {},
   "source": [
    "# Deconstructing the Fitbit Sleep Score"
   ]
  },
  {
   "cell_type": "markdown",
   "metadata": {},
   "source": [
    "In this project I will use different Machine Learning models in order to get a better understanding of the Fitbit Sleep Score. For those people who have a Fitbit, you've probably been wondering how exactly Fitbit comes up with your sleep score. Sometimes you sleep for shorter periods of time with similar amounts of REM and deep sleep but still get a better sleep score. Other times you have rather low amounts of REM and deep sleep but a better score than a night of higher amounts of those. What's the secret behind this?\n",
    "That's precisely what I will answer throughout this project."
   ]
  },
  {
   "cell_type": "code",
   "execution_count": 76,
   "metadata": {},
   "outputs": [],
   "source": [
    "# Import all relevant libraries\n",
    "import pandas as pd\n",
    "import numpy as np\n",
    "import matplotlib.pyplot as plt\n",
    "from sklearn.model_selection import train_test_split\n",
    "from sklearn.preprocessing import MinMaxScaler\n",
    "from sklearn.linear_model import LinearRegression\n",
    "import statsmodels.api as sm"
   ]
  },
  {
   "cell_type": "code",
   "execution_count": 58,
   "metadata": {},
   "outputs": [],
   "source": [
    "# Read the data\n",
    "sleep_data = pd.read_csv('/Users/Jonas/Desktop/DataScience/Fun_projects/Fitbit_Sleep_Score/Fitbit_Sleep_JB_041219_010720.csv')"
   ]
  },
  {
   "cell_type": "code",
   "execution_count": 59,
   "metadata": {
    "scrolled": true
   },
   "outputs": [
    {
     "data": {
      "text/html": [
       "<div>\n",
       "<style scoped>\n",
       "    .dataframe tbody tr th:only-of-type {\n",
       "        vertical-align: middle;\n",
       "    }\n",
       "\n",
       "    .dataframe tbody tr th {\n",
       "        vertical-align: top;\n",
       "    }\n",
       "\n",
       "    .dataframe thead th {\n",
       "        text-align: right;\n",
       "    }\n",
       "</style>\n",
       "<table border=\"1\" class=\"dataframe\">\n",
       "  <thead>\n",
       "    <tr style=\"text-align: right;\">\n",
       "      <th></th>\n",
       "      <th>Start Time</th>\n",
       "      <th>End Time</th>\n",
       "      <th>Minutes Asleep</th>\n",
       "      <th>Minutes Awake</th>\n",
       "      <th>Number of Awakenings</th>\n",
       "      <th>Time in Bed</th>\n",
       "      <th>Minutes REM Sleep</th>\n",
       "      <th>Minutes Light Sleep</th>\n",
       "      <th>Minutes Deep Sleep</th>\n",
       "      <th>overall_score</th>\n",
       "    </tr>\n",
       "  </thead>\n",
       "  <tbody>\n",
       "    <tr>\n",
       "      <th>0</th>\n",
       "      <td>30/6/20 21:57</td>\n",
       "      <td>1/7/20 5:59</td>\n",
       "      <td>402</td>\n",
       "      <td>79</td>\n",
       "      <td>40</td>\n",
       "      <td>481</td>\n",
       "      <td>32</td>\n",
       "      <td>282</td>\n",
       "      <td>88</td>\n",
       "      <td>71.0</td>\n",
       "    </tr>\n",
       "    <tr>\n",
       "      <th>1</th>\n",
       "      <td>29/6/20 21:35</td>\n",
       "      <td>30/6/20 6:02</td>\n",
       "      <td>444</td>\n",
       "      <td>63</td>\n",
       "      <td>36</td>\n",
       "      <td>507</td>\n",
       "      <td>51</td>\n",
       "      <td>332</td>\n",
       "      <td>61</td>\n",
       "      <td>78.0</td>\n",
       "    </tr>\n",
       "    <tr>\n",
       "      <th>2</th>\n",
       "      <td>28/6/20 22:01</td>\n",
       "      <td>29/6/20 6:01</td>\n",
       "      <td>420</td>\n",
       "      <td>60</td>\n",
       "      <td>36</td>\n",
       "      <td>480</td>\n",
       "      <td>37</td>\n",
       "      <td>335</td>\n",
       "      <td>48</td>\n",
       "      <td>78.0</td>\n",
       "    </tr>\n",
       "    <tr>\n",
       "      <th>3</th>\n",
       "      <td>27/6/20 22:05</td>\n",
       "      <td>28/6/20 9:27</td>\n",
       "      <td>567</td>\n",
       "      <td>115</td>\n",
       "      <td>51</td>\n",
       "      <td>682</td>\n",
       "      <td>83</td>\n",
       "      <td>390</td>\n",
       "      <td>94</td>\n",
       "      <td>75.0</td>\n",
       "    </tr>\n",
       "    <tr>\n",
       "      <th>4</th>\n",
       "      <td>26/6/20 21:40</td>\n",
       "      <td>27/6/20 7:35</td>\n",
       "      <td>495</td>\n",
       "      <td>100</td>\n",
       "      <td>35</td>\n",
       "      <td>595</td>\n",
       "      <td>75</td>\n",
       "      <td>335</td>\n",
       "      <td>85</td>\n",
       "      <td>78.0</td>\n",
       "    </tr>\n",
       "  </tbody>\n",
       "</table>\n",
       "</div>"
      ],
      "text/plain": [
       "      Start Time      End Time  Minutes Asleep  Minutes Awake  \\\n",
       "0  30/6/20 21:57   1/7/20 5:59             402             79   \n",
       "1  29/6/20 21:35  30/6/20 6:02             444             63   \n",
       "2  28/6/20 22:01  29/6/20 6:01             420             60   \n",
       "3  27/6/20 22:05  28/6/20 9:27             567            115   \n",
       "4  26/6/20 21:40  27/6/20 7:35             495            100   \n",
       "\n",
       "   Number of Awakenings  Time in Bed  Minutes REM Sleep  Minutes Light Sleep  \\\n",
       "0                    40          481                 32                  282   \n",
       "1                    36          507                 51                  332   \n",
       "2                    36          480                 37                  335   \n",
       "3                    51          682                 83                  390   \n",
       "4                    35          595                 75                  335   \n",
       "\n",
       "   Minutes Deep Sleep  overall_score  \n",
       "0                  88           71.0  \n",
       "1                  61           78.0  \n",
       "2                  48           78.0  \n",
       "3                  94           75.0  \n",
       "4                  85           78.0  "
      ]
     },
     "execution_count": 59,
     "metadata": {},
     "output_type": "execute_result"
    }
   ],
   "source": [
    "sleep_data.head()"
   ]
  },
  {
   "cell_type": "code",
   "execution_count": 67,
   "metadata": {},
   "outputs": [],
   "source": [
    "# Drop the last row as it doesn't have any sleep score data\n",
    "sleep_data.dropna(subset=['overall_score'], inplace=True)"
   ]
  },
  {
   "cell_type": "markdown",
   "metadata": {},
   "source": [
    "For now I will focus on the columns from Minutes Asleep to Minutes Deep Sleep as the features and the overall_score as the label as that most closely resembles the data that the Fitbit App provides to its users. The Number of Awakenings column seems interesting but isn't provided in the app either so I'll drop that one for now as well."
   ]
  },
  {
   "cell_type": "code",
   "execution_count": 117,
   "metadata": {},
   "outputs": [],
   "source": [
    "# Obtain column names for features\n",
    "feats = sleep_data.columns[2:9]\n",
    "\n",
    "X = sleep_data[feats].astype(float)\n",
    "X.drop('Number of Awakenings', axis=1, inplace=True)\n",
    "y = sleep_data['overall_score']"
   ]
  },
  {
   "cell_type": "code",
   "execution_count": 69,
   "metadata": {},
   "outputs": [],
   "source": [
    "# Split data into training and validation set\n",
    "X_train, X_valid, y_train, y_valid = train_test_split(X, y, test_size=0.2, random_state=42)"
   ]
  },
  {
   "cell_type": "code",
   "execution_count": 77,
   "metadata": {},
   "outputs": [
    {
     "data": {
      "text/plain": [
       "array([[ 0.57525084,  0.17647059,  0.52225519,  0.36764706,  0.65517241,\n",
       "         0.2247191 ],\n",
       "       [ 0.42474916,  0.05882353,  0.35905045,  0.80147059,  0.14655172,\n",
       "         0.38202247],\n",
       "       [ 0.24749164,  0.27058824,  0.25519288,  0.27941176,  0.26724138,\n",
       "         0.26966292],\n",
       "       [ 0.79598662,  0.30588235,  0.75074184,  0.38970588,  0.83189655,\n",
       "         0.47191011],\n",
       "       [ 0.32441472,  0.44705882,  0.36795252,  0.23529412,  0.37068966,\n",
       "         0.3258427 ],\n",
       "       [ 0.69230769,  0.55294118,  0.72106825,  0.13970588,  0.6637931 ,\n",
       "         0.94382022],\n",
       "       [ 0.84615385,  0.51764706,  0.84866469,  0.52205882,  0.85344828,\n",
       "         0.38202247],\n",
       "       [ 0.14715719,  0.05882353,  0.11275964,  0.02941176,  0.36637931,\n",
       "         0.05617978],\n",
       "       [ 0.53511706,  0.27058824,  0.51038576,  0.41911765,  0.56034483,\n",
       "         0.25842697],\n",
       "       [ 0.05351171,  0.25882353,  0.08011869,  0.16911765,  0.06034483,\n",
       "         0.3258427 ],\n",
       "       [ 0.36120401,  0.38823529,  0.38575668,  0.31617647,  0.22413793,\n",
       "         0.70786517],\n",
       "       [ 0.40802676,  0.31764706,  0.40949555,  0.16176471,  0.54310345,\n",
       "         0.26966292],\n",
       "       [ 0.11036789, -0.11764706,  0.03560831,  0.47058824, -0.02586207,\n",
       "         0.28089888],\n",
       "       [ 0.2541806 ,  0.43529412,  0.30267062,  0.56617647,  0.01293103,\n",
       "         0.51685393],\n",
       "       [ 0.5083612 ,  0.24705882,  0.48071217,  0.41911765,  0.49568966,\n",
       "         0.33707865],\n",
       "       [ 0.63879599,  0.71764706,  0.71513353,  0.33823529,  0.68103448,\n",
       "         0.41573034],\n",
       "       [ 0.24414716,  0.70588235,  0.3620178 ,  0.15441176,  0.5       ,\n",
       "        -0.15730337],\n",
       "       [ 0.82608696,  0.64705882,  0.86350148,  0.27941176,  0.89224138,\n",
       "         0.58426966],\n",
       "       [ 0.23076923,  0.35294118,  0.2611276 ,  0.23529412,  0.20258621,\n",
       "         0.4494382 ],\n",
       "       [ 0.72240803,  0.69411765,  0.78338279,  0.40441176,  0.5387931 ,\n",
       "         0.96629213],\n",
       "       [ 0.45819398,  0.63529412,  0.53412463,  0.22794118,  0.45689655,\n",
       "         0.56179775],\n",
       "       [ 0.52173913,  0.69411765,  0.60534125,  0.24264706,  0.63793103,\n",
       "         0.28089888],\n",
       "       [ 0.2173913 ,  0.24705882,  0.22255193,  0.45588235,  0.125     ,\n",
       "         0.26966292],\n",
       "       [ 0.17725753,  0.16470588,  0.16617211,  0.44852941, -0.07758621,\n",
       "         0.6741573 ],\n",
       "       [ 0.67558528,  0.36470588,  0.65875371,  0.51470588,  0.53448276,\n",
       "         0.65168539],\n",
       "       [ 0.39464883,  0.35294118,  0.40652819,  0.25      ,  0.43534483,\n",
       "         0.37078652],\n",
       "       [ 0.7993311 ,  0.34117647,  0.76261128,  0.61029412,  0.69827586,\n",
       "         0.49438202],\n",
       "       [ 0.26086957,  0.18823529,  0.2462908 ,  0.41911765,  0.27155172,\n",
       "         0.08988764],\n",
       "       [ 0.45150502,  0.30588235,  0.44510386,  0.40441176,  0.43103448,\n",
       "         0.33707865],\n",
       "       [ 0.40468227,  0.44705882,  0.43916914,  0.29411765,  0.36637931,\n",
       "         0.51685393],\n",
       "       [ 0.37458194,  0.01176471,  0.30267062,  0.58088235,  0.06896552,\n",
       "         0.75280899],\n",
       "       [ 0.28762542,  0.64705882,  0.38575668,  0.28676471,  0.25431034,\n",
       "         0.42696629],\n",
       "       [ 0.24414716,  0.22352941,  0.24035608,  0.47058824,  0.04741379,\n",
       "         0.53932584],\n",
       "       [ 0.24414716,  0.92941176,  0.41839763,  0.03676471,  0.25862069,\n",
       "         0.65168539],\n",
       "       [ 0.07023411,  0.28235294,  0.10089021,  0.29411765, -0.06465517,\n",
       "         0.51685393],\n",
       "       [ 0.23411371,  0.31764706,  0.25519288,  0.23529412,  0.14655172,\n",
       "         0.60674157],\n",
       "       [ 0.33444816,  0.09411765,  0.28783383,  0.47794118,  0.20258621,\n",
       "         0.42696629],\n",
       "       [ 0.73578595,  0.61176471,  0.77448071,  0.61029412,  0.5       ,\n",
       "         0.79775281],\n",
       "       [ 0.35785953,  0.36470588,  0.3768546 ,  0.30882353,  0.33189655,\n",
       "         0.42696629],\n",
       "       [ 0.24080268,  0.12941176,  0.21364985,  0.50735294, -0.05603448,\n",
       "         0.74157303],\n",
       "       [ 0.24749164,  0.25882353,  0.25222552,  0.27205882,  0.19396552,\n",
       "         0.47191011],\n",
       "       [ 0.13377926,  0.44705882,  0.19881306,  0.17647059,  0.10344828,\n",
       "         0.47191011]])"
      ]
     },
     "execution_count": 77,
     "metadata": {},
     "output_type": "execute_result"
    }
   ],
   "source": [
    "# Scale the feature data\n",
    "scaler = MinMaxScaler()\n",
    "scaler.fit_transform(X_train)\n",
    "scaler.transform(X_valid)"
   ]
  },
  {
   "cell_type": "code",
   "execution_count": 78,
   "metadata": {},
   "outputs": [],
   "source": [
    "# Create and fit the model\n",
    "regressor = LinearRegression()\n",
    "mlr = regressor.fit(X_train, y_train)"
   ]
  },
  {
   "cell_type": "code",
   "execution_count": 79,
   "metadata": {},
   "outputs": [],
   "source": [
    "# Make a prediction based on the model\n",
    "y_predict = mlr.predict(X_valid)"
   ]
  },
  {
   "cell_type": "code",
   "execution_count": 84,
   "metadata": {},
   "outputs": [
    {
     "data": {
      "text/plain": [
       "Text(0.5, 1.0, 'Actual vs. predicted sleep score')"
      ]
     },
     "execution_count": 84,
     "metadata": {},
     "output_type": "execute_result"
    },
    {
     "data": {
      "image/png": "[encoded data removed]",
      "text/plain": [
       "<Figure size 432x288 with 1 Axes>"
      ]
     },
     "metadata": {
      "needs_background": "light"
     },
     "output_type": "display_data"
    }
   ],
   "source": [
    "# Plot the prediction against the actual labels\n",
    "plt.scatter(y_valid, y_predict)\n",
    "plt.xlabel('Actual sleep score')\n",
    "plt.ylabel('Predicted sleep score')\n",
    "plt.title('Actual vs. predicted sleep score')"
   ]
  },
  {
   "cell_type": "code",
   "execution_count": 82,
   "metadata": {},
   "outputs": [
    {
     "data": {
      "text/plain": [
       "0.7307151533039744"
      ]
     },
     "execution_count": 82,
     "metadata": {},
     "output_type": "execute_result"
    }
   ],
   "source": [
    "# Observe the test score\n",
    "mlr.score(X_valid, y_valid)"
   ]
  },
  {
   "cell_type": "code",
   "execution_count": 83,
   "metadata": {},
   "outputs": [
    {
     "data": {
      "text/html": [
       "<table class=\"simpletable\">\n",
       "<caption>OLS Regression Results</caption>\n",
       "<tr>\n",
       "  <th>Dep. Variable:</th>      <td>overall_score</td>  <th>  R-squared:         </th> <td>   0.753</td>\n",
       "</tr>\n",
       "<tr>\n",
       "  <th>Model:</th>                   <td>OLS</td>       <th>  Adj. R-squared:    </th> <td>   0.748</td>\n",
       "</tr>\n",
       "<tr>\n",
       "  <th>Method:</th>             <td>Least Squares</td>  <th>  F-statistic:       </th> <td>   155.6</td>\n",
       "</tr>\n",
       "<tr>\n",
       "  <th>Date:</th>             <td>Thu, 02 Jul 2020</td> <th>  Prob (F-statistic):</th> <td>8.41e-61</td>\n",
       "</tr>\n",
       "<tr>\n",
       "  <th>Time:</th>                 <td>10:26:36</td>     <th>  Log-Likelihood:    </th> <td> -522.64</td>\n",
       "</tr>\n",
       "<tr>\n",
       "  <th>No. Observations:</th>      <td>   209</td>      <th>  AIC:               </th> <td>   1055.</td>\n",
       "</tr>\n",
       "<tr>\n",
       "  <th>Df Residuals:</th>          <td>   204</td>      <th>  BIC:               </th> <td>   1072.</td>\n",
       "</tr>\n",
       "<tr>\n",
       "  <th>Df Model:</th>              <td>     4</td>      <th>                     </th>     <td> </td>   \n",
       "</tr>\n",
       "<tr>\n",
       "  <th>Covariance Type:</th>      <td>nonrobust</td>    <th>                     </th>     <td> </td>   \n",
       "</tr>\n",
       "</table>\n",
       "<table class=\"simpletable\">\n",
       "<tr>\n",
       "           <td></td>              <th>coef</th>     <th>std err</th>      <th>t</th>      <th>P>|t|</th>  <th>[0.025</th>    <th>0.975]</th>  \n",
       "</tr>\n",
       "<tr>\n",
       "  <th>const</th>               <td>   45.7978</td> <td>    1.605</td> <td>   28.536</td> <td> 0.000</td> <td>   42.633</td> <td>   48.962</td>\n",
       "</tr>\n",
       "<tr>\n",
       "  <th>Minutes Asleep</th>      <td>    0.0891</td> <td>    0.005</td> <td>   16.707</td> <td> 0.000</td> <td>    0.079</td> <td>    0.100</td>\n",
       "</tr>\n",
       "<tr>\n",
       "  <th>Minutes Awake</th>       <td>   -0.1071</td> <td>    0.010</td> <td>  -11.095</td> <td> 0.000</td> <td>   -0.126</td> <td>   -0.088</td>\n",
       "</tr>\n",
       "<tr>\n",
       "  <th>Time in Bed</th>         <td>   -0.0180</td> <td>    0.005</td> <td>   -3.596</td> <td> 0.000</td> <td>   -0.028</td> <td>   -0.008</td>\n",
       "</tr>\n",
       "<tr>\n",
       "  <th>Minutes REM Sleep</th>   <td>    0.0637</td> <td>    0.009</td> <td>    7.471</td> <td> 0.000</td> <td>    0.047</td> <td>    0.080</td>\n",
       "</tr>\n",
       "<tr>\n",
       "  <th>Minutes Light Sleep</th> <td>    0.0045</td> <td>    0.006</td> <td>    0.810</td> <td> 0.419</td> <td>   -0.006</td> <td>    0.015</td>\n",
       "</tr>\n",
       "<tr>\n",
       "  <th>Minutes Deep Sleep</th>  <td>    0.0209</td> <td>    0.010</td> <td>    2.159</td> <td> 0.032</td> <td>    0.002</td> <td>    0.040</td>\n",
       "</tr>\n",
       "</table>\n",
       "<table class=\"simpletable\">\n",
       "<tr>\n",
       "  <th>Omnibus:</th>       <td> 7.804</td> <th>  Durbin-Watson:     </th> <td>   1.750</td>\n",
       "</tr>\n",
       "<tr>\n",
       "  <th>Prob(Omnibus):</th> <td> 0.020</td> <th>  Jarque-Bera (JB):  </th> <td>   7.610</td>\n",
       "</tr>\n",
       "<tr>\n",
       "  <th>Skew:</th>          <td>-0.450</td> <th>  Prob(JB):          </th> <td>  0.0223</td>\n",
       "</tr>\n",
       "<tr>\n",
       "  <th>Kurtosis:</th>      <td> 3.254</td> <th>  Cond. No.          </th> <td>1.51e+17</td>\n",
       "</tr>\n",
       "</table><br/><br/>Warnings:<br/>[1] Standard Errors assume that the covariance matrix of the errors is correctly specified.<br/>[2] The smallest eigenvalue is 5.21e-27. This might indicate that there are<br/>strong multicollinearity problems or that the design matrix is singular."
      ],
      "text/plain": [
       "<class 'statsmodels.iolib.summary.Summary'>\n",
       "\"\"\"\n",
       "                            OLS Regression Results                            \n",
       "==============================================================================\n",
       "Dep. Variable:          overall_score   R-squared:                       0.753\n",
       "Model:                            OLS   Adj. R-squared:                  0.748\n",
       "Method:                 Least Squares   F-statistic:                     155.6\n",
       "Date:                Thu, 02 Jul 2020   Prob (F-statistic):           8.41e-61\n",
       "Time:                        10:26:36   Log-Likelihood:                -522.64\n",
       "No. Observations:                 209   AIC:                             1055.\n",
       "Df Residuals:                     204   BIC:                             1072.\n",
       "Df Model:                           4                                         \n",
       "Covariance Type:            nonrobust                                         \n",
       "=======================================================================================\n",
       "                          coef    std err          t      P>|t|      [0.025      0.975]\n",
       "---------------------------------------------------------------------------------------\n",
       "const                  45.7978      1.605     28.536      0.000      42.633      48.962\n",
       "Minutes Asleep          0.0891      0.005     16.707      0.000       0.079       0.100\n",
       "Minutes Awake          -0.1071      0.010    -11.095      0.000      -0.126      -0.088\n",
       "Time in Bed            -0.0180      0.005     -3.596      0.000      -0.028      -0.008\n",
       "Minutes REM Sleep       0.0637      0.009      7.471      0.000       0.047       0.080\n",
       "Minutes Light Sleep     0.0045      0.006      0.810      0.419      -0.006       0.015\n",
       "Minutes Deep Sleep      0.0209      0.010      2.159      0.032       0.002       0.040\n",
       "==============================================================================\n",
       "Omnibus:                        7.804   Durbin-Watson:                   1.750\n",
       "Prob(Omnibus):                  0.020   Jarque-Bera (JB):                7.610\n",
       "Skew:                          -0.450   Prob(JB):                       0.0223\n",
       "Kurtosis:                       3.254   Cond. No.                     1.51e+17\n",
       "==============================================================================\n",
       "\n",
       "Warnings:\n",
       "[1] Standard Errors assume that the covariance matrix of the errors is correctly specified.\n",
       "[2] The smallest eigenvalue is 5.21e-27. This might indicate that there are\n",
       "strong multicollinearity problems or that the design matrix is singular.\n",
       "\"\"\""
      ]
     },
     "execution_count": 83,
     "metadata": {},
     "output_type": "execute_result"
    }
   ],
   "source": [
    "# Inspect the statsmodel results\n",
    "X2 = sm.add_constant(X)\n",
    "est = sm.OLS(y, X2)\n",
    "est2 = est.fit()\n",
    "est2.summary()"
   ]
  },
  {
   "cell_type": "code",
   "execution_count": 99,
   "metadata": {},
   "outputs": [
    {
     "data": {
      "text/html": [
       "<div>\n",
       "<style scoped>\n",
       "    .dataframe tbody tr th:only-of-type {\n",
       "        vertical-align: middle;\n",
       "    }\n",
       "\n",
       "    .dataframe tbody tr th {\n",
       "        vertical-align: top;\n",
       "    }\n",
       "\n",
       "    .dataframe thead th {\n",
       "        text-align: right;\n",
       "    }\n",
       "</style>\n",
       "<table border=\"1\" class=\"dataframe\">\n",
       "  <thead>\n",
       "    <tr style=\"text-align: right;\">\n",
       "      <th></th>\n",
       "      <th>Minutes Asleep</th>\n",
       "      <th>Minutes Awake</th>\n",
       "      <th>Time in Bed</th>\n",
       "      <th>Minutes REM Sleep</th>\n",
       "      <th>Minutes Light Sleep</th>\n",
       "      <th>Minutes Deep Sleep</th>\n",
       "    </tr>\n",
       "  </thead>\n",
       "  <tbody>\n",
       "    <tr>\n",
       "      <th>Minutes Asleep</th>\n",
       "      <td>1.000000</td>\n",
       "      <td>0.425129</td>\n",
       "      <td>0.973082</td>\n",
       "      <td>0.540433</td>\n",
       "      <td>0.842955</td>\n",
       "      <td>0.309902</td>\n",
       "    </tr>\n",
       "    <tr>\n",
       "      <th>Minutes Awake</th>\n",
       "      <td>0.425129</td>\n",
       "      <td>1.000000</td>\n",
       "      <td>0.622283</td>\n",
       "      <td>-0.096565</td>\n",
       "      <td>0.478304</td>\n",
       "      <td>0.209863</td>\n",
       "    </tr>\n",
       "    <tr>\n",
       "      <th>Time in Bed</th>\n",
       "      <td>0.973082</td>\n",
       "      <td>0.622283</td>\n",
       "      <td>1.000000</td>\n",
       "      <td>0.442799</td>\n",
       "      <td>0.850803</td>\n",
       "      <td>0.321450</td>\n",
       "    </tr>\n",
       "    <tr>\n",
       "      <th>Minutes REM Sleep</th>\n",
       "      <td>0.540433</td>\n",
       "      <td>-0.096565</td>\n",
       "      <td>0.442799</td>\n",
       "      <td>1.000000</td>\n",
       "      <td>0.126178</td>\n",
       "      <td>0.176252</td>\n",
       "    </tr>\n",
       "    <tr>\n",
       "      <th>Minutes Light Sleep</th>\n",
       "      <td>0.842955</td>\n",
       "      <td>0.478304</td>\n",
       "      <td>0.850803</td>\n",
       "      <td>0.126178</td>\n",
       "      <td>1.000000</td>\n",
       "      <td>-0.093675</td>\n",
       "    </tr>\n",
       "    <tr>\n",
       "      <th>Minutes Deep Sleep</th>\n",
       "      <td>0.309902</td>\n",
       "      <td>0.209863</td>\n",
       "      <td>0.321450</td>\n",
       "      <td>0.176252</td>\n",
       "      <td>-0.093675</td>\n",
       "      <td>1.000000</td>\n",
       "    </tr>\n",
       "  </tbody>\n",
       "</table>\n",
       "</div>"
      ],
      "text/plain": [
       "                     Minutes Asleep  Minutes Awake  Time in Bed  \\\n",
       "Minutes Asleep             1.000000       0.425129     0.973082   \n",
       "Minutes Awake              0.425129       1.000000     0.622283   \n",
       "Time in Bed                0.973082       0.622283     1.000000   \n",
       "Minutes REM Sleep          0.540433      -0.096565     0.442799   \n",
       "Minutes Light Sleep        0.842955       0.478304     0.850803   \n",
       "Minutes Deep Sleep         0.309902       0.209863     0.321450   \n",
       "\n",
       "                     Minutes REM Sleep  Minutes Light Sleep  \\\n",
       "Minutes Asleep                0.540433             0.842955   \n",
       "Minutes Awake                -0.096565             0.478304   \n",
       "Time in Bed                   0.442799             0.850803   \n",
       "Minutes REM Sleep             1.000000             0.126178   \n",
       "Minutes Light Sleep           0.126178             1.000000   \n",
       "Minutes Deep Sleep            0.176252            -0.093675   \n",
       "\n",
       "                     Minutes Deep Sleep  \n",
       "Minutes Asleep                 0.309902  \n",
       "Minutes Awake                  0.209863  \n",
       "Time in Bed                    0.321450  \n",
       "Minutes REM Sleep              0.176252  \n",
       "Minutes Light Sleep           -0.093675  \n",
       "Minutes Deep Sleep             1.000000  "
      ]
     },
     "execution_count": 99,
     "metadata": {},
     "output_type": "execute_result"
    }
   ],
   "source": [
    "# Test for collinearity!\n",
    "X.corr()"
   ]
  },
  {
   "cell_type": "code",
   "execution_count": 118,
   "metadata": {},
   "outputs": [
    {
     "data": {
      "text/html": [
       "<div>\n",
       "<style scoped>\n",
       "    .dataframe tbody tr th:only-of-type {\n",
       "        vertical-align: middle;\n",
       "    }\n",
       "\n",
       "    .dataframe tbody tr th {\n",
       "        vertical-align: top;\n",
       "    }\n",
       "\n",
       "    .dataframe thead th {\n",
       "        text-align: right;\n",
       "    }\n",
       "</style>\n",
       "<table border=\"1\" class=\"dataframe\">\n",
       "  <thead>\n",
       "    <tr style=\"text-align: right;\">\n",
       "      <th></th>\n",
       "      <th>Minutes Awake</th>\n",
       "      <th>Time in Bed</th>\n",
       "      <th>Minutes REM Sleep</th>\n",
       "    </tr>\n",
       "  </thead>\n",
       "  <tbody>\n",
       "    <tr>\n",
       "      <th>Minutes Awake</th>\n",
       "      <td>1.000000</td>\n",
       "      <td>0.622283</td>\n",
       "      <td>-0.096565</td>\n",
       "    </tr>\n",
       "    <tr>\n",
       "      <th>Time in Bed</th>\n",
       "      <td>0.622283</td>\n",
       "      <td>1.000000</td>\n",
       "      <td>0.442799</td>\n",
       "    </tr>\n",
       "    <tr>\n",
       "      <th>Minutes REM Sleep</th>\n",
       "      <td>-0.096565</td>\n",
       "      <td>0.442799</td>\n",
       "      <td>1.000000</td>\n",
       "    </tr>\n",
       "  </tbody>\n",
       "</table>\n",
       "</div>"
      ],
      "text/plain": [
       "                   Minutes Awake  Time in Bed  Minutes REM Sleep\n",
       "Minutes Awake           1.000000     0.622283          -0.096565\n",
       "Time in Bed             0.622283     1.000000           0.442799\n",
       "Minutes REM Sleep      -0.096565     0.442799           1.000000"
      ]
     },
     "execution_count": 118,
     "metadata": {},
     "output_type": "execute_result"
    }
   ],
   "source": [
    "# Drop Time in Bed from the DataFrame\n",
    "X.drop(['Minutes Asleep', 'Minutes Light Sleep', 'Minutes Deep Sleep'], axis=1, inplace=True)\n",
    "X.corr()"
   ]
  },
  {
   "cell_type": "code",
   "execution_count": 119,
   "metadata": {},
   "outputs": [],
   "source": [
    "# Rerun the Multiple Linear Regression\n",
    "\n",
    "# Split data into training and validation set\n",
    "X_train, X_valid, y_train, y_valid = train_test_split(X, y, test_size=0.2, random_state=42)\n",
    "\n",
    "# Scale the feature data\n",
    "scaler = MinMaxScaler()\n",
    "scaler.fit_transform(X_train)\n",
    "scaler.transform(X_valid)\n",
    "\n",
    "# Create and fit the model\n",
    "regressor = LinearRegression()\n",
    "mlr = regressor.fit(X_train, y_train)"
   ]
  },
  {
   "cell_type": "code",
   "execution_count": 120,
   "metadata": {},
   "outputs": [
    {
     "data": {
      "text/plain": [
       "0.7311749958454803"
      ]
     },
     "execution_count": 120,
     "metadata": {},
     "output_type": "execute_result"
    }
   ],
   "source": [
    "# Observe the test score\n",
    "mlr.score(X_valid, y_valid)"
   ]
  },
  {
   "cell_type": "code",
   "execution_count": 121,
   "metadata": {},
   "outputs": [
    {
     "data": {
      "text/html": [
       "<table class=\"simpletable\">\n",
       "<caption>OLS Regression Results</caption>\n",
       "<tr>\n",
       "  <th>Dep. Variable:</th>      <td>overall_score</td>  <th>  R-squared:         </th> <td>   0.751</td>\n",
       "</tr>\n",
       "<tr>\n",
       "  <th>Model:</th>                   <td>OLS</td>       <th>  Adj. R-squared:    </th> <td>   0.747</td>\n",
       "</tr>\n",
       "<tr>\n",
       "  <th>Method:</th>             <td>Least Squares</td>  <th>  F-statistic:       </th> <td>   205.7</td>\n",
       "</tr>\n",
       "<tr>\n",
       "  <th>Date:</th>             <td>Thu, 02 Jul 2020</td> <th>  Prob (F-statistic):</th> <td>1.50e-61</td>\n",
       "</tr>\n",
       "<tr>\n",
       "  <th>Time:</th>                 <td>11:55:31</td>     <th>  Log-Likelihood:    </th> <td> -523.70</td>\n",
       "</tr>\n",
       "<tr>\n",
       "  <th>No. Observations:</th>      <td>   209</td>      <th>  AIC:               </th> <td>   1055.</td>\n",
       "</tr>\n",
       "<tr>\n",
       "  <th>Df Residuals:</th>          <td>   205</td>      <th>  BIC:               </th> <td>   1069.</td>\n",
       "</tr>\n",
       "<tr>\n",
       "  <th>Df Model:</th>              <td>     3</td>      <th>                     </th>     <td> </td>   \n",
       "</tr>\n",
       "<tr>\n",
       "  <th>Covariance Type:</th>      <td>nonrobust</td>    <th>                     </th>     <td> </td>   \n",
       "</tr>\n",
       "</table>\n",
       "<table class=\"simpletable\">\n",
       "<tr>\n",
       "          <td></td>             <th>coef</th>     <th>std err</th>      <th>t</th>      <th>P>|t|</th>  <th>[0.025</th>    <th>0.975]</th>  \n",
       "</tr>\n",
       "<tr>\n",
       "  <th>const</th>             <td>   46.3079</td> <td>    1.569</td> <td>   29.507</td> <td> 0.000</td> <td>   43.214</td> <td>   49.402</td>\n",
       "</tr>\n",
       "<tr>\n",
       "  <th>Minutes Awake</th>     <td>   -0.1997</td> <td>    0.018</td> <td>  -11.260</td> <td> 0.000</td> <td>   -0.235</td> <td>   -0.165</td>\n",
       "</tr>\n",
       "<tr>\n",
       "  <th>Time in Bed</th>       <td>    0.0767</td> <td>    0.005</td> <td>   15.302</td> <td> 0.000</td> <td>    0.067</td> <td>    0.087</td>\n",
       "</tr>\n",
       "<tr>\n",
       "  <th>Minutes REM Sleep</th> <td>    0.0602</td> <td>    0.012</td> <td>    5.014</td> <td> 0.000</td> <td>    0.037</td> <td>    0.084</td>\n",
       "</tr>\n",
       "</table>\n",
       "<table class=\"simpletable\">\n",
       "<tr>\n",
       "  <th>Omnibus:</th>       <td> 7.610</td> <th>  Durbin-Watson:     </th> <td>   1.792</td>\n",
       "</tr>\n",
       "<tr>\n",
       "  <th>Prob(Omnibus):</th> <td> 0.022</td> <th>  Jarque-Bera (JB):  </th> <td>   7.445</td>\n",
       "</tr>\n",
       "<tr>\n",
       "  <th>Skew:</th>          <td>-0.451</td> <th>  Prob(JB):          </th> <td>  0.0242</td>\n",
       "</tr>\n",
       "<tr>\n",
       "  <th>Kurtosis:</th>      <td> 3.202</td> <th>  Cond. No.          </th> <td>4.03e+03</td>\n",
       "</tr>\n",
       "</table><br/><br/>Warnings:<br/>[1] Standard Errors assume that the covariance matrix of the errors is correctly specified.<br/>[2] The condition number is large, 4.03e+03. This might indicate that there are<br/>strong multicollinearity or other numerical problems."
      ],
      "text/plain": [
       "<class 'statsmodels.iolib.summary.Summary'>\n",
       "\"\"\"\n",
       "                            OLS Regression Results                            \n",
       "==============================================================================\n",
       "Dep. Variable:          overall_score   R-squared:                       0.751\n",
       "Model:                            OLS   Adj. R-squared:                  0.747\n",
       "Method:                 Least Squares   F-statistic:                     205.7\n",
       "Date:                Thu, 02 Jul 2020   Prob (F-statistic):           1.50e-61\n",
       "Time:                        11:55:31   Log-Likelihood:                -523.70\n",
       "No. Observations:                 209   AIC:                             1055.\n",
       "Df Residuals:                     205   BIC:                             1069.\n",
       "Df Model:                           3                                         \n",
       "Covariance Type:            nonrobust                                         \n",
       "=====================================================================================\n",
       "                        coef    std err          t      P>|t|      [0.025      0.975]\n",
       "-------------------------------------------------------------------------------------\n",
       "const                46.3079      1.569     29.507      0.000      43.214      49.402\n",
       "Minutes Awake        -0.1997      0.018    -11.260      0.000      -0.235      -0.165\n",
       "Time in Bed           0.0767      0.005     15.302      0.000       0.067       0.087\n",
       "Minutes REM Sleep     0.0602      0.012      5.014      0.000       0.037       0.084\n",
       "==============================================================================\n",
       "Omnibus:                        7.610   Durbin-Watson:                   1.792\n",
       "Prob(Omnibus):                  0.022   Jarque-Bera (JB):                7.445\n",
       "Skew:                          -0.451   Prob(JB):                       0.0242\n",
       "Kurtosis:                       3.202   Cond. No.                     4.03e+03\n",
       "==============================================================================\n",
       "\n",
       "Warnings:\n",
       "[1] Standard Errors assume that the covariance matrix of the errors is correctly specified.\n",
       "[2] The condition number is large, 4.03e+03. This might indicate that there are\n",
       "strong multicollinearity or other numerical problems.\n",
       "\"\"\""
      ]
     },
     "execution_count": 121,
     "metadata": {},
     "output_type": "execute_result"
    }
   ],
   "source": [
    "# Inspect the statsmodel results\n",
    "X2 = sm.add_constant(X)\n",
    "est = sm.OLS(y, X2)\n",
    "est2 = est.fit()\n",
    "est2.summary()"
   ]
  },
  {
   "cell_type": "code",
   "execution_count": 123,
   "metadata": {},
   "outputs": [],
   "source": [
    "# Define function for converting hours and minutes into minutes\n",
    "def hours_to_mins(time):\n",
    "    hour = time[0]\n",
    "    mins = time[1]\n",
    "    mins = mins + hour * 60\n",
    "    return mins"
   ]
  },
  {
   "cell_type": "code",
   "execution_count": 124,
   "metadata": {},
   "outputs": [
    {
     "data": {
      "text/plain": [
       "Index(['Minutes Awake', 'Time in Bed', 'Minutes REM Sleep'], dtype='object')"
      ]
     },
     "execution_count": 124,
     "metadata": {},
     "output_type": "execute_result"
    }
   ],
   "source": [
    "X_train.columns"
   ]
  },
  {
   "cell_type": "code",
   "execution_count": 126,
   "metadata": {},
   "outputs": [],
   "source": [
    "yesterday = [(1,20), (8,32), (1,3)]"
   ]
  },
  {
   "cell_type": "code",
   "execution_count": 128,
   "metadata": {},
   "outputs": [],
   "source": [
    "# Define function to transform input times\n",
    "def get_input(times):\n",
    "    transformed = []\n",
    "    for time in times:\n",
    "        transformed.append(hours_to_mins(time))\n",
    "    transformed = np.array(transformed)\n",
    "    transformed = transformed.reshape(1, -1)\n",
    "    return transformed"
   ]
  },
  {
   "cell_type": "code",
   "execution_count": 130,
   "metadata": {},
   "outputs": [
    {
     "data": {
      "text/plain": [
       "array([[ 80, 512,  63]])"
      ]
     },
     "execution_count": 130,
     "metadata": {},
     "output_type": "execute_result"
    }
   ],
   "source": [
    "# Convert last nights sleep score\n",
    "last_night = get_input(yesterday)\n",
    "last_night"
   ]
  },
  {
   "cell_type": "code",
   "execution_count": 131,
   "metadata": {},
   "outputs": [
    {
     "data": {
      "text/plain": [
       "array([73.59933386])"
      ]
     },
     "execution_count": 131,
     "metadata": {},
     "output_type": "execute_result"
    }
   ],
   "source": [
    "# Make a sleep score prediction (the actual sleep score was 77)\n",
    "mlr.predict(last_night)"
   ]
  }
 ],
 "metadata": {
  "kernelspec": {
   "display_name": "Python 3",
   "language": "python",
   "name": "python3"
  },
  "language_info": {
   "codemirror_mode": {
    "name": "ipython",
    "version": 3
   },
   "file_extension": ".py",
   "mimetype": "text/x-python",
   "name": "python",
   "nbconvert_exporter": "python",
   "pygments_lexer": "ipython3",
   "version": "3.8.2"
  }
 },
 "nbformat": 4,
 "nbformat_minor": 4
}
