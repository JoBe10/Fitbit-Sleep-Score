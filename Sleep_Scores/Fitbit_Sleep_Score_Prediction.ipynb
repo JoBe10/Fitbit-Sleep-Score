{
 "cells": [
  {
   "cell_type": "markdown",
   "metadata": {},
   "source": [
    "# Using Machine Learning to Predict Fitbit Sleep Scores"
   ]
  },
  {
   "cell_type": "markdown",
   "metadata": {},
   "source": [
    "In this project I'm going to apply various Machine Learning models to predict Fitbit Sleep Scores based on a sample of almost one year of sleep score data. I will compare the accuracies of teh different models and look into the feature importances in each of the models."
   ]
  },
  {
   "cell_type": "markdown",
   "metadata": {},
   "source": [
    "## Import the relevant libraries and data"
   ]
  },
  {
   "cell_type": "code",
   "execution_count": 229,
   "metadata": {},
   "outputs": [],
   "source": [
    "# Import all relevant libraries\n",
    "import pandas as pd\n",
    "import matplotlib.pyplot as plt\n",
    "import numpy as np\n",
    "import seaborn as sns\n",
    "from sklearn.preprocessing import MinMaxScaler\n",
    "from sklearn.preprocessing import StandardScaler\n",
    "from sklearn.model_selection import train_test_split\n",
    "from sklearn.linear_model import LinearRegression\n",
    "from sklearn.linear_model import Lasso\n",
    "from sklearn.ensemble import RandomForestRegressor\n",
    "from xgboost import XGBRegressor\n",
    "import statsmodels.api as sm\n",
    "from statsmodels.stats.outliers_influence import variance_inflation_factor\n",
    "from sklearn.metrics import mean_squared_error\n",
    "from sklearn.metrics import mean_absolute_error\n",
    "from sklearn.metrics import r2_score\n",
    "from sklearn.model_selection import cross_val_score\n",
    "from sklearn.model_selection import KFold\n",
    "from sklearn.model_selection import RandomizedSearchCV"
   ]
  },
  {
   "cell_type": "code",
   "execution_count": 264,
   "metadata": {},
   "outputs": [],
   "source": [
    "# Import the app data\n",
    "sleep_stats_data = pd.read_csv('sleep_stats.csv')\n",
    "\n",
    "# Import the score data\n",
    "sleep_score_data = pd.read_csv('sleep_score.csv').iloc[:,:2]"
   ]
  },
  {
   "cell_type": "code",
   "execution_count": 265,
   "metadata": {
    "scrolled": false
   },
   "outputs": [
    {
     "data": {
      "text/html": [
       "<div>\n",
       "<style scoped>\n",
       "    .dataframe tbody tr th:only-of-type {\n",
       "        vertical-align: middle;\n",
       "    }\n",
       "\n",
       "    .dataframe tbody tr th {\n",
       "        vertical-align: top;\n",
       "    }\n",
       "\n",
       "    .dataframe thead th {\n",
       "        text-align: right;\n",
       "    }\n",
       "</style>\n",
       "<table border=\"1\" class=\"dataframe\">\n",
       "  <thead>\n",
       "    <tr style=\"text-align: right;\">\n",
       "      <th></th>\n",
       "      <th>Sleep</th>\n",
       "      <th>Unnamed: 1</th>\n",
       "      <th>Unnamed: 2</th>\n",
       "      <th>Unnamed: 3</th>\n",
       "      <th>Unnamed: 4</th>\n",
       "      <th>Unnamed: 5</th>\n",
       "      <th>Unnamed: 6</th>\n",
       "      <th>Unnamed: 7</th>\n",
       "      <th>Unnamed: 8</th>\n",
       "    </tr>\n",
       "  </thead>\n",
       "  <tbody>\n",
       "    <tr>\n",
       "      <th>0</th>\n",
       "      <td>Start Time</td>\n",
       "      <td>End Time</td>\n",
       "      <td>Minutes Asleep</td>\n",
       "      <td>Minutes Awake</td>\n",
       "      <td>Number of Awakenings</td>\n",
       "      <td>Time in Bed</td>\n",
       "      <td>Minutes REM Sleep</td>\n",
       "      <td>Minutes Light Sleep</td>\n",
       "      <td>Minutes Deep Sleep</td>\n",
       "    </tr>\n",
       "    <tr>\n",
       "      <th>1</th>\n",
       "      <td>2020-07-01 10:05PM</td>\n",
       "      <td>2020-07-02 6:23AM</td>\n",
       "      <td>456</td>\n",
       "      <td>42</td>\n",
       "      <td>37</td>\n",
       "      <td>498</td>\n",
       "      <td>94</td>\n",
       "      <td>271</td>\n",
       "      <td>91</td>\n",
       "    </tr>\n",
       "    <tr>\n",
       "      <th>2</th>\n",
       "      <td>2020-06-30 9:43PM</td>\n",
       "      <td>2020-07-01 6:03AM</td>\n",
       "      <td>412</td>\n",
       "      <td>88</td>\n",
       "      <td>32</td>\n",
       "      <td>500</td>\n",
       "      <td>79</td>\n",
       "      <td>208</td>\n",
       "      <td>125</td>\n",
       "    </tr>\n",
       "    <tr>\n",
       "      <th>3</th>\n",
       "      <td>2020-06-29 10:03PM</td>\n",
       "      <td>2020-06-30 5:57AM</td>\n",
       "      <td>412</td>\n",
       "      <td>61</td>\n",
       "      <td>26</td>\n",
       "      <td>473</td>\n",
       "      <td>91</td>\n",
       "      <td>242</td>\n",
       "      <td>79</td>\n",
       "    </tr>\n",
       "    <tr>\n",
       "      <th>4</th>\n",
       "      <td>2020-06-28 11:24PM</td>\n",
       "      <td>2020-06-29 6:05AM</td>\n",
       "      <td>342</td>\n",
       "      <td>59</td>\n",
       "      <td>26</td>\n",
       "      <td>401</td>\n",
       "      <td>71</td>\n",
       "      <td>196</td>\n",
       "      <td>75</td>\n",
       "    </tr>\n",
       "  </tbody>\n",
       "</table>\n",
       "</div>"
      ],
      "text/plain": [
       "                Sleep         Unnamed: 1      Unnamed: 2     Unnamed: 3  \\\n",
       "0          Start Time           End Time  Minutes Asleep  Minutes Awake   \n",
       "1  2020-07-01 10:05PM  2020-07-02 6:23AM             456             42   \n",
       "2   2020-06-30 9:43PM  2020-07-01 6:03AM             412             88   \n",
       "3  2020-06-29 10:03PM  2020-06-30 5:57AM             412             61   \n",
       "4  2020-06-28 11:24PM  2020-06-29 6:05AM             342             59   \n",
       "\n",
       "             Unnamed: 4   Unnamed: 5         Unnamed: 6           Unnamed: 7  \\\n",
       "0  Number of Awakenings  Time in Bed  Minutes REM Sleep  Minutes Light Sleep   \n",
       "1                    37          498                 94                  271   \n",
       "2                    32          500                 79                  208   \n",
       "3                    26          473                 91                  242   \n",
       "4                    26          401                 71                  196   \n",
       "\n",
       "           Unnamed: 8  \n",
       "0  Minutes Deep Sleep  \n",
       "1                  91  \n",
       "2                 125  \n",
       "3                  79  \n",
       "4                  75  "
      ]
     },
     "execution_count": 265,
     "metadata": {},
     "output_type": "execute_result"
    }
   ],
   "source": [
    "# Inspect the first rows of the sleep stats DataFrame\n",
    "sleep_stats_data.head()"
   ]
  },
  {
   "cell_type": "code",
   "execution_count": 266,
   "metadata": {},
   "outputs": [
    {
     "data": {
      "text/html": [
       "<div>\n",
       "<style scoped>\n",
       "    .dataframe tbody tr th:only-of-type {\n",
       "        vertical-align: middle;\n",
       "    }\n",
       "\n",
       "    .dataframe tbody tr th {\n",
       "        vertical-align: top;\n",
       "    }\n",
       "\n",
       "    .dataframe thead th {\n",
       "        text-align: right;\n",
       "    }\n",
       "</style>\n",
       "<table border=\"1\" class=\"dataframe\">\n",
       "  <thead>\n",
       "    <tr style=\"text-align: right;\">\n",
       "      <th></th>\n",
       "      <th>Start Time</th>\n",
       "      <th>End Time</th>\n",
       "      <th>Minutes Asleep</th>\n",
       "      <th>Minutes Awake</th>\n",
       "      <th>Number of Awakenings</th>\n",
       "      <th>Time in Bed</th>\n",
       "      <th>Minutes REM Sleep</th>\n",
       "      <th>Minutes Light Sleep</th>\n",
       "      <th>Minutes Deep Sleep</th>\n",
       "    </tr>\n",
       "  </thead>\n",
       "  <tbody>\n",
       "    <tr>\n",
       "      <th>1</th>\n",
       "      <td>2020-07-01 10:05PM</td>\n",
       "      <td>2020-07-02 6:23AM</td>\n",
       "      <td>456</td>\n",
       "      <td>42</td>\n",
       "      <td>37</td>\n",
       "      <td>498</td>\n",
       "      <td>94</td>\n",
       "      <td>271</td>\n",
       "      <td>91</td>\n",
       "    </tr>\n",
       "    <tr>\n",
       "      <th>2</th>\n",
       "      <td>2020-06-30 9:43PM</td>\n",
       "      <td>2020-07-01 6:03AM</td>\n",
       "      <td>412</td>\n",
       "      <td>88</td>\n",
       "      <td>32</td>\n",
       "      <td>500</td>\n",
       "      <td>79</td>\n",
       "      <td>208</td>\n",
       "      <td>125</td>\n",
       "    </tr>\n",
       "    <tr>\n",
       "      <th>3</th>\n",
       "      <td>2020-06-29 10:03PM</td>\n",
       "      <td>2020-06-30 5:57AM</td>\n",
       "      <td>412</td>\n",
       "      <td>61</td>\n",
       "      <td>26</td>\n",
       "      <td>473</td>\n",
       "      <td>91</td>\n",
       "      <td>242</td>\n",
       "      <td>79</td>\n",
       "    </tr>\n",
       "    <tr>\n",
       "      <th>4</th>\n",
       "      <td>2020-06-28 11:24PM</td>\n",
       "      <td>2020-06-29 6:05AM</td>\n",
       "      <td>342</td>\n",
       "      <td>59</td>\n",
       "      <td>26</td>\n",
       "      <td>401</td>\n",
       "      <td>71</td>\n",
       "      <td>196</td>\n",
       "      <td>75</td>\n",
       "    </tr>\n",
       "    <tr>\n",
       "      <th>5</th>\n",
       "      <td>2020-06-27 10:42PM</td>\n",
       "      <td>2020-06-28 9:20AM</td>\n",
       "      <td>530</td>\n",
       "      <td>108</td>\n",
       "      <td>39</td>\n",
       "      <td>638</td>\n",
       "      <td>98</td>\n",
       "      <td>305</td>\n",
       "      <td>127</td>\n",
       "    </tr>\n",
       "    <tr>\n",
       "      <th>...</th>\n",
       "      <td>...</td>\n",
       "      <td>...</td>\n",
       "      <td>...</td>\n",
       "      <td>...</td>\n",
       "      <td>...</td>\n",
       "      <td>...</td>\n",
       "      <td>...</td>\n",
       "      <td>...</td>\n",
       "      <td>...</td>\n",
       "    </tr>\n",
       "    <tr>\n",
       "      <th>318</th>\n",
       "      <td>2019-07-12 11:11PM</td>\n",
       "      <td>2019-07-13 7:05AM</td>\n",
       "      <td>423</td>\n",
       "      <td>51</td>\n",
       "      <td>28</td>\n",
       "      <td>474</td>\n",
       "      <td>89</td>\n",
       "      <td>263</td>\n",
       "      <td>71</td>\n",
       "    </tr>\n",
       "    <tr>\n",
       "      <th>319</th>\n",
       "      <td>2019-07-11 9:58PM</td>\n",
       "      <td>2019-07-12 8:23AM</td>\n",
       "      <td>540</td>\n",
       "      <td>85</td>\n",
       "      <td>30</td>\n",
       "      <td>625</td>\n",
       "      <td>114</td>\n",
       "      <td>324</td>\n",
       "      <td>102</td>\n",
       "    </tr>\n",
       "    <tr>\n",
       "      <th>320</th>\n",
       "      <td>2019-07-10 9:43PM</td>\n",
       "      <td>2019-07-11 7:32AM</td>\n",
       "      <td>525</td>\n",
       "      <td>64</td>\n",
       "      <td>31</td>\n",
       "      <td>589</td>\n",
       "      <td>93</td>\n",
       "      <td>322</td>\n",
       "      <td>110</td>\n",
       "    </tr>\n",
       "    <tr>\n",
       "      <th>321</th>\n",
       "      <td>2019-07-09 9:12PM</td>\n",
       "      <td>2019-07-10 7:31AM</td>\n",
       "      <td>536</td>\n",
       "      <td>83</td>\n",
       "      <td>38</td>\n",
       "      <td>619</td>\n",
       "      <td>124</td>\n",
       "      <td>336</td>\n",
       "      <td>76</td>\n",
       "    </tr>\n",
       "    <tr>\n",
       "      <th>322</th>\n",
       "      <td>2019-07-07 10:53PM</td>\n",
       "      <td>2019-07-08 5:42AM</td>\n",
       "      <td>372</td>\n",
       "      <td>36</td>\n",
       "      <td>29</td>\n",
       "      <td>408</td>\n",
       "      <td>84</td>\n",
       "      <td>245</td>\n",
       "      <td>43</td>\n",
       "    </tr>\n",
       "  </tbody>\n",
       "</table>\n",
       "<p>322 rows × 9 columns</p>\n",
       "</div>"
      ],
      "text/plain": [
       "0            Start Time           End Time Minutes Asleep Minutes Awake  \\\n",
       "1    2020-07-01 10:05PM  2020-07-02 6:23AM            456            42   \n",
       "2     2020-06-30 9:43PM  2020-07-01 6:03AM            412            88   \n",
       "3    2020-06-29 10:03PM  2020-06-30 5:57AM            412            61   \n",
       "4    2020-06-28 11:24PM  2020-06-29 6:05AM            342            59   \n",
       "5    2020-06-27 10:42PM  2020-06-28 9:20AM            530           108   \n",
       "..                  ...                ...            ...           ...   \n",
       "318  2019-07-12 11:11PM  2019-07-13 7:05AM            423            51   \n",
       "319   2019-07-11 9:58PM  2019-07-12 8:23AM            540            85   \n",
       "320   2019-07-10 9:43PM  2019-07-11 7:32AM            525            64   \n",
       "321   2019-07-09 9:12PM  2019-07-10 7:31AM            536            83   \n",
       "322  2019-07-07 10:53PM  2019-07-08 5:42AM            372            36   \n",
       "\n",
       "0   Number of Awakenings Time in Bed Minutes REM Sleep Minutes Light Sleep  \\\n",
       "1                     37         498                94                 271   \n",
       "2                     32         500                79                 208   \n",
       "3                     26         473                91                 242   \n",
       "4                     26         401                71                 196   \n",
       "5                     39         638                98                 305   \n",
       "..                   ...         ...               ...                 ...   \n",
       "318                   28         474                89                 263   \n",
       "319                   30         625               114                 324   \n",
       "320                   31         589                93                 322   \n",
       "321                   38         619               124                 336   \n",
       "322                   29         408                84                 245   \n",
       "\n",
       "0   Minutes Deep Sleep  \n",
       "1                   91  \n",
       "2                  125  \n",
       "3                   79  \n",
       "4                   75  \n",
       "5                  127  \n",
       "..                 ...  \n",
       "318                 71  \n",
       "319                102  \n",
       "320                110  \n",
       "321                 76  \n",
       "322                 43  \n",
       "\n",
       "[322 rows x 9 columns]"
      ]
     },
     "execution_count": 266,
     "metadata": {},
     "output_type": "execute_result"
    }
   ],
   "source": [
    "# Make the first row the column headers\n",
    "sleep_stats_data.columns = sleep_stats_data.iloc[0]\n",
    "\n",
    "# Drop the first row from the DataFrame\n",
    "sleep_stats_data.drop(sleep_stats_data.index[0], inplace=True)\n",
    "sleep_stats_data"
   ]
  },
  {
   "cell_type": "code",
   "execution_count": 270,
   "metadata": {},
   "outputs": [
    {
     "name": "stdout",
     "output_type": "stream",
     "text": [
      "<class 'pandas.core.frame.DataFrame'>\n",
      "Int64Index: 322 entries, 1 to 322\n",
      "Data columns (total 9 columns):\n",
      " #   Column                Non-Null Count  Dtype \n",
      "---  ------                --------------  ----- \n",
      " 0   Start Time            322 non-null    object\n",
      " 1   End Time              322 non-null    object\n",
      " 2   Minutes Asleep        322 non-null    object\n",
      " 3   Minutes Awake         322 non-null    object\n",
      " 4   Number of Awakenings  322 non-null    object\n",
      " 5   Time in Bed           322 non-null    object\n",
      " 6   Minutes REM Sleep     287 non-null    object\n",
      " 7   Minutes Light Sleep   287 non-null    object\n",
      " 8   Minutes Deep Sleep    287 non-null    object\n",
      "dtypes: object(9)\n",
      "memory usage: 25.2+ KB\n"
     ]
    }
   ],
   "source": [
    "# Obtain some information about the DataFrame\n",
    "sleep_stats_data.info()"
   ]
  },
  {
   "cell_type": "code",
   "execution_count": 234,
   "metadata": {},
   "outputs": [
    {
     "data": {
      "text/html": [
       "<div>\n",
       "<style scoped>\n",
       "    .dataframe tbody tr th:only-of-type {\n",
       "        vertical-align: middle;\n",
       "    }\n",
       "\n",
       "    .dataframe tbody tr th {\n",
       "        vertical-align: top;\n",
       "    }\n",
       "\n",
       "    .dataframe thead th {\n",
       "        text-align: right;\n",
       "    }\n",
       "</style>\n",
       "<table border=\"1\" class=\"dataframe\">\n",
       "  <thead>\n",
       "    <tr style=\"text-align: right;\">\n",
       "      <th></th>\n",
       "      <th>Start Time</th>\n",
       "      <th>End Time</th>\n",
       "      <th>Minutes Asleep</th>\n",
       "      <th>Minutes Awake</th>\n",
       "      <th>Number of Awakenings</th>\n",
       "      <th>Time in Bed</th>\n",
       "      <th>Minutes REM Sleep</th>\n",
       "      <th>Minutes Light Sleep</th>\n",
       "      <th>Minutes Deep Sleep</th>\n",
       "    </tr>\n",
       "  </thead>\n",
       "  <tbody>\n",
       "    <tr>\n",
       "      <th>77</th>\n",
       "      <td>2020-04-16 2:09PM</td>\n",
       "      <td>2020-04-16 3:27PM</td>\n",
       "      <td>76</td>\n",
       "      <td>2</td>\n",
       "      <td>0</td>\n",
       "      <td>78</td>\n",
       "      <td>NaN</td>\n",
       "      <td>NaN</td>\n",
       "      <td>NaN</td>\n",
       "    </tr>\n",
       "    <tr>\n",
       "      <th>103</th>\n",
       "      <td>2020-03-22 1:47PM</td>\n",
       "      <td>2020-03-22 3:21PM</td>\n",
       "      <td>83</td>\n",
       "      <td>1</td>\n",
       "      <td>1</td>\n",
       "      <td>93</td>\n",
       "      <td>NaN</td>\n",
       "      <td>NaN</td>\n",
       "      <td>NaN</td>\n",
       "    </tr>\n",
       "    <tr>\n",
       "      <th>115</th>\n",
       "      <td>2020-03-11 4:19PM</td>\n",
       "      <td>2020-03-11 5:24PM</td>\n",
       "      <td>55</td>\n",
       "      <td>6</td>\n",
       "      <td>1</td>\n",
       "      <td>65</td>\n",
       "      <td>NaN</td>\n",
       "      <td>NaN</td>\n",
       "      <td>NaN</td>\n",
       "    </tr>\n",
       "    <tr>\n",
       "      <th>121</th>\n",
       "      <td>2020-03-06 3:40PM</td>\n",
       "      <td>2020-03-06 4:40PM</td>\n",
       "      <td>53</td>\n",
       "      <td>7</td>\n",
       "      <td>0</td>\n",
       "      <td>60</td>\n",
       "      <td>NaN</td>\n",
       "      <td>NaN</td>\n",
       "      <td>NaN</td>\n",
       "    </tr>\n",
       "    <tr>\n",
       "      <th>134</th>\n",
       "      <td>2020-02-23 2:28PM</td>\n",
       "      <td>2020-02-23 3:42PM</td>\n",
       "      <td>68</td>\n",
       "      <td>5</td>\n",
       "      <td>0</td>\n",
       "      <td>74</td>\n",
       "      <td>NaN</td>\n",
       "      <td>NaN</td>\n",
       "      <td>NaN</td>\n",
       "    </tr>\n",
       "  </tbody>\n",
       "</table>\n",
       "</div>"
      ],
      "text/plain": [
       "0           Start Time           End Time Minutes Asleep Minutes Awake  \\\n",
       "77   2020-04-16 2:09PM  2020-04-16 3:27PM             76             2   \n",
       "103  2020-03-22 1:47PM  2020-03-22 3:21PM             83             1   \n",
       "115  2020-03-11 4:19PM  2020-03-11 5:24PM             55             6   \n",
       "121  2020-03-06 3:40PM  2020-03-06 4:40PM             53             7   \n",
       "134  2020-02-23 2:28PM  2020-02-23 3:42PM             68             5   \n",
       "\n",
       "0   Number of Awakenings Time in Bed Minutes REM Sleep Minutes Light Sleep  \\\n",
       "77                     0          78               NaN                 NaN   \n",
       "103                    1          93               NaN                 NaN   \n",
       "115                    1          65               NaN                 NaN   \n",
       "121                    0          60               NaN                 NaN   \n",
       "134                    0          74               NaN                 NaN   \n",
       "\n",
       "0   Minutes Deep Sleep  \n",
       "77                 NaN  \n",
       "103                NaN  \n",
       "115                NaN  \n",
       "121                NaN  \n",
       "134                NaN  "
      ]
     },
     "execution_count": 234,
     "metadata": {},
     "output_type": "execute_result"
    }
   ],
   "source": [
    "# Inspect the first five rows with missing values\n",
    "sleep_stats_data[sleep_stats_data['Minutes REM Sleep'].isna()].head()"
   ]
  },
  {
   "cell_type": "markdown",
   "metadata": {},
   "source": [
    "Upon inspection and by having a close look at start and finishing times for the sleep stats with NaNs for REM, Light and Deep sleep we see that these data points refer to afternoon naps. These should be excluded from our data set as they do not have a sleep score or the necessary sleep stats attached to them."
   ]
  },
  {
   "cell_type": "code",
   "execution_count": 287,
   "metadata": {},
   "outputs": [],
   "source": [
    "# Drop rows with NaNs\n",
    "sleep_stats_data.dropna(axis=0, inplace=True)"
   ]
  },
  {
   "cell_type": "code",
   "execution_count": 293,
   "metadata": {},
   "outputs": [],
   "source": [
    "# Convert columns 2-8 to data type float\n",
    "cols_to_convert = sleep_stats_data.columns[2:]\n",
    "sleep_stats_data[cols_to_convert] = sleep_stats_data[cols_to_convert].astype(float)"
   ]
  },
  {
   "cell_type": "code",
   "execution_count": 294,
   "metadata": {},
   "outputs": [
    {
     "name": "stdout",
     "output_type": "stream",
     "text": [
      "<class 'pandas.core.frame.DataFrame'>\n",
      "Int64Index: 287 entries, 1 to 322\n",
      "Data columns (total 9 columns):\n",
      " #   Column                Non-Null Count  Dtype  \n",
      "---  ------                --------------  -----  \n",
      " 0   Start Time            287 non-null    object \n",
      " 1   End Time              287 non-null    object \n",
      " 2   Minutes Asleep        287 non-null    float64\n",
      " 3   Minutes Awake         287 non-null    float64\n",
      " 4   Number of Awakenings  287 non-null    float64\n",
      " 5   Time in Bed           287 non-null    float64\n",
      " 6   Minutes REM Sleep     287 non-null    float64\n",
      " 7   Minutes Light Sleep   287 non-null    float64\n",
      " 8   Minutes Deep Sleep    287 non-null    float64\n",
      "dtypes: float64(7), object(2)\n",
      "memory usage: 22.4+ KB\n"
     ]
    }
   ],
   "source": [
    "sleep_stats_data.info()"
   ]
  },
  {
   "cell_type": "code",
   "execution_count": 236,
   "metadata": {},
   "outputs": [
    {
     "data": {
      "text/html": [
       "<div>\n",
       "<style scoped>\n",
       "    .dataframe tbody tr th:only-of-type {\n",
       "        vertical-align: middle;\n",
       "    }\n",
       "\n",
       "    .dataframe tbody tr th {\n",
       "        vertical-align: top;\n",
       "    }\n",
       "\n",
       "    .dataframe thead th {\n",
       "        text-align: right;\n",
       "    }\n",
       "</style>\n",
       "<table border=\"1\" class=\"dataframe\">\n",
       "  <thead>\n",
       "    <tr style=\"text-align: right;\">\n",
       "      <th></th>\n",
       "      <th>timestamp</th>\n",
       "      <th>overall_score</th>\n",
       "    </tr>\n",
       "  </thead>\n",
       "  <tbody>\n",
       "    <tr>\n",
       "      <th>0</th>\n",
       "      <td>2020-07-02T06:23:30Z</td>\n",
       "      <td>86</td>\n",
       "    </tr>\n",
       "    <tr>\n",
       "      <th>1</th>\n",
       "      <td>2020-07-01T06:03:30Z</td>\n",
       "      <td>77</td>\n",
       "    </tr>\n",
       "    <tr>\n",
       "      <th>2</th>\n",
       "      <td>2020-06-30T05:57:00Z</td>\n",
       "      <td>78</td>\n",
       "    </tr>\n",
       "    <tr>\n",
       "      <th>3</th>\n",
       "      <td>2020-06-29T06:05:00Z</td>\n",
       "      <td>76</td>\n",
       "    </tr>\n",
       "    <tr>\n",
       "      <th>4</th>\n",
       "      <td>2020-06-28T09:20:30Z</td>\n",
       "      <td>82</td>\n",
       "    </tr>\n",
       "  </tbody>\n",
       "</table>\n",
       "</div>"
      ],
      "text/plain": [
       "              timestamp  overall_score\n",
       "0  2020-07-02T06:23:30Z             86\n",
       "1  2020-07-01T06:03:30Z             77\n",
       "2  2020-06-30T05:57:00Z             78\n",
       "3  2020-06-29T06:05:00Z             76\n",
       "4  2020-06-28T09:20:30Z             82"
      ]
     },
     "execution_count": 236,
     "metadata": {},
     "output_type": "execute_result"
    }
   ],
   "source": [
    "# Inspect the first rows of the sleep score DataFrame\n",
    "sleep_score_data.head()"
   ]
  },
  {
   "cell_type": "code",
   "execution_count": 295,
   "metadata": {},
   "outputs": [
    {
     "name": "stdout",
     "output_type": "stream",
     "text": [
      "<class 'pandas.core.frame.DataFrame'>\n",
      "RangeIndex: 286 entries, 0 to 285\n",
      "Data columns (total 2 columns):\n",
      " #   Column         Non-Null Count  Dtype \n",
      "---  ------         --------------  ----- \n",
      " 0   timestamp      286 non-null    object\n",
      " 1   overall_score  286 non-null    int64 \n",
      "dtypes: int64(1), object(1)\n",
      "memory usage: 4.6+ KB\n"
     ]
    }
   ],
   "source": [
    "# Inspect the summary for the sleep score df\n",
    "sleep_score_data.info()"
   ]
  },
  {
   "cell_type": "markdown",
   "metadata": {},
   "source": [
    "I want to be able to merge the two DataFrames on the date. As of now there are slight differences in how the times are displayed. The sleep_stat DataFrame has both starting and ending dates but what we care about are ending dates (those are always the dates on which the sleep score is provided). I will drop the beginning date column, transform the dates so that they are in the same format across the two DataFrames and then merge the DataFrames on the date."
   ]
  },
  {
   "cell_type": "code",
   "execution_count": 296,
   "metadata": {},
   "outputs": [],
   "source": [
    "# Drop start time column from sleep_stat\n",
    "sleep_stats_data.drop(columns='Start Time', inplace=True)"
   ]
  },
  {
   "cell_type": "code",
   "execution_count": 297,
   "metadata": {},
   "outputs": [],
   "source": [
    "# Separate date into new column\n",
    "sleep_stats_data['Date'] = sleep_stats_data['End Time'].apply(lambda x: x[:10])\n",
    "sleep_score_data['Date'] = sleep_score_data.timestamp.apply(lambda x: x[:10])"
   ]
  },
  {
   "cell_type": "code",
   "execution_count": 298,
   "metadata": {},
   "outputs": [
    {
     "data": {
      "text/html": [
       "<div>\n",
       "<style scoped>\n",
       "    .dataframe tbody tr th:only-of-type {\n",
       "        vertical-align: middle;\n",
       "    }\n",
       "\n",
       "    .dataframe tbody tr th {\n",
       "        vertical-align: top;\n",
       "    }\n",
       "\n",
       "    .dataframe thead th {\n",
       "        text-align: right;\n",
       "    }\n",
       "</style>\n",
       "<table border=\"1\" class=\"dataframe\">\n",
       "  <thead>\n",
       "    <tr style=\"text-align: right;\">\n",
       "      <th></th>\n",
       "      <th>End Time</th>\n",
       "      <th>Minutes Asleep</th>\n",
       "      <th>Minutes Awake</th>\n",
       "      <th>Number of Awakenings</th>\n",
       "      <th>Time in Bed</th>\n",
       "      <th>Minutes REM Sleep</th>\n",
       "      <th>Minutes Light Sleep</th>\n",
       "      <th>Minutes Deep Sleep</th>\n",
       "      <th>Date</th>\n",
       "      <th>timestamp</th>\n",
       "      <th>overall_score</th>\n",
       "    </tr>\n",
       "  </thead>\n",
       "  <tbody>\n",
       "    <tr>\n",
       "      <th>0</th>\n",
       "      <td>2020-07-02 6:23AM</td>\n",
       "      <td>456.0</td>\n",
       "      <td>42.0</td>\n",
       "      <td>37.0</td>\n",
       "      <td>498.0</td>\n",
       "      <td>94.0</td>\n",
       "      <td>271.0</td>\n",
       "      <td>91.0</td>\n",
       "      <td>2020-07-02</td>\n",
       "      <td>2020-07-02T06:23:30Z</td>\n",
       "      <td>86.0</td>\n",
       "    </tr>\n",
       "    <tr>\n",
       "      <th>1</th>\n",
       "      <td>2020-07-01 6:03AM</td>\n",
       "      <td>412.0</td>\n",
       "      <td>88.0</td>\n",
       "      <td>32.0</td>\n",
       "      <td>500.0</td>\n",
       "      <td>79.0</td>\n",
       "      <td>208.0</td>\n",
       "      <td>125.0</td>\n",
       "      <td>2020-07-01</td>\n",
       "      <td>2020-07-01T06:03:30Z</td>\n",
       "      <td>77.0</td>\n",
       "    </tr>\n",
       "    <tr>\n",
       "      <th>2</th>\n",
       "      <td>2020-06-30 5:57AM</td>\n",
       "      <td>412.0</td>\n",
       "      <td>61.0</td>\n",
       "      <td>26.0</td>\n",
       "      <td>473.0</td>\n",
       "      <td>91.0</td>\n",
       "      <td>242.0</td>\n",
       "      <td>79.0</td>\n",
       "      <td>2020-06-30</td>\n",
       "      <td>2020-06-30T05:57:00Z</td>\n",
       "      <td>78.0</td>\n",
       "    </tr>\n",
       "    <tr>\n",
       "      <th>3</th>\n",
       "      <td>2020-06-29 6:05AM</td>\n",
       "      <td>342.0</td>\n",
       "      <td>59.0</td>\n",
       "      <td>26.0</td>\n",
       "      <td>401.0</td>\n",
       "      <td>71.0</td>\n",
       "      <td>196.0</td>\n",
       "      <td>75.0</td>\n",
       "      <td>2020-06-29</td>\n",
       "      <td>2020-06-29T06:05:00Z</td>\n",
       "      <td>76.0</td>\n",
       "    </tr>\n",
       "    <tr>\n",
       "      <th>4</th>\n",
       "      <td>2020-06-28 9:20AM</td>\n",
       "      <td>530.0</td>\n",
       "      <td>108.0</td>\n",
       "      <td>39.0</td>\n",
       "      <td>638.0</td>\n",
       "      <td>98.0</td>\n",
       "      <td>305.0</td>\n",
       "      <td>127.0</td>\n",
       "      <td>2020-06-28</td>\n",
       "      <td>2020-06-28T09:20:30Z</td>\n",
       "      <td>82.0</td>\n",
       "    </tr>\n",
       "  </tbody>\n",
       "</table>\n",
       "</div>"
      ],
      "text/plain": [
       "            End Time  Minutes Asleep  Minutes Awake  Number of Awakenings  \\\n",
       "0  2020-07-02 6:23AM           456.0           42.0                  37.0   \n",
       "1  2020-07-01 6:03AM           412.0           88.0                  32.0   \n",
       "2  2020-06-30 5:57AM           412.0           61.0                  26.0   \n",
       "3  2020-06-29 6:05AM           342.0           59.0                  26.0   \n",
       "4  2020-06-28 9:20AM           530.0          108.0                  39.0   \n",
       "\n",
       "   Time in Bed  Minutes REM Sleep  Minutes Light Sleep  Minutes Deep Sleep  \\\n",
       "0        498.0               94.0                271.0                91.0   \n",
       "1        500.0               79.0                208.0               125.0   \n",
       "2        473.0               91.0                242.0                79.0   \n",
       "3        401.0               71.0                196.0                75.0   \n",
       "4        638.0               98.0                305.0               127.0   \n",
       "\n",
       "         Date             timestamp  overall_score  \n",
       "0  2020-07-02  2020-07-02T06:23:30Z           86.0  \n",
       "1  2020-07-01  2020-07-01T06:03:30Z           77.0  \n",
       "2  2020-06-30  2020-06-30T05:57:00Z           78.0  \n",
       "3  2020-06-29  2020-06-29T06:05:00Z           76.0  \n",
       "4  2020-06-28  2020-06-28T09:20:30Z           82.0  "
      ]
     },
     "execution_count": 298,
     "metadata": {},
     "output_type": "execute_result"
    }
   ],
   "source": [
    "# Merge the two DataFrames\n",
    "joined_data = sleep_stats_data.merge(sleep_score_data, on='Date', how='left')\n",
    "joined_data.head()"
   ]
  },
  {
   "cell_type": "code",
   "execution_count": 300,
   "metadata": {},
   "outputs": [],
   "source": [
    "# Drop redundant columns\n",
    "sleep_data = joined_data.drop(columns=['End Time', 'timestamp', 'Date', 'Number of Awakenings'])"
   ]
  },
  {
   "cell_type": "code",
   "execution_count": 301,
   "metadata": {},
   "outputs": [],
   "source": [
    "# Drop last nan\n",
    "sleep_data.dropna(axis=0,inplace=True)"
   ]
  },
  {
   "cell_type": "code",
   "execution_count": 302,
   "metadata": {},
   "outputs": [
    {
     "data": {
      "text/html": [
       "<div>\n",
       "<style scoped>\n",
       "    .dataframe tbody tr th:only-of-type {\n",
       "        vertical-align: middle;\n",
       "    }\n",
       "\n",
       "    .dataframe tbody tr th {\n",
       "        vertical-align: top;\n",
       "    }\n",
       "\n",
       "    .dataframe thead th {\n",
       "        text-align: right;\n",
       "    }\n",
       "</style>\n",
       "<table border=\"1\" class=\"dataframe\">\n",
       "  <thead>\n",
       "    <tr style=\"text-align: right;\">\n",
       "      <th></th>\n",
       "      <th>Minutes Asleep</th>\n",
       "      <th>Minutes Awake</th>\n",
       "      <th>Time in Bed</th>\n",
       "      <th>Minutes REM Sleep</th>\n",
       "      <th>Minutes Light Sleep</th>\n",
       "      <th>Minutes Deep Sleep</th>\n",
       "      <th>overall_score</th>\n",
       "    </tr>\n",
       "  </thead>\n",
       "  <tbody>\n",
       "    <tr>\n",
       "      <th>0</th>\n",
       "      <td>456.0</td>\n",
       "      <td>42.0</td>\n",
       "      <td>498.0</td>\n",
       "      <td>94.0</td>\n",
       "      <td>271.0</td>\n",
       "      <td>91.0</td>\n",
       "      <td>86.0</td>\n",
       "    </tr>\n",
       "    <tr>\n",
       "      <th>1</th>\n",
       "      <td>412.0</td>\n",
       "      <td>88.0</td>\n",
       "      <td>500.0</td>\n",
       "      <td>79.0</td>\n",
       "      <td>208.0</td>\n",
       "      <td>125.0</td>\n",
       "      <td>77.0</td>\n",
       "    </tr>\n",
       "    <tr>\n",
       "      <th>2</th>\n",
       "      <td>412.0</td>\n",
       "      <td>61.0</td>\n",
       "      <td>473.0</td>\n",
       "      <td>91.0</td>\n",
       "      <td>242.0</td>\n",
       "      <td>79.0</td>\n",
       "      <td>78.0</td>\n",
       "    </tr>\n",
       "    <tr>\n",
       "      <th>3</th>\n",
       "      <td>342.0</td>\n",
       "      <td>59.0</td>\n",
       "      <td>401.0</td>\n",
       "      <td>71.0</td>\n",
       "      <td>196.0</td>\n",
       "      <td>75.0</td>\n",
       "      <td>76.0</td>\n",
       "    </tr>\n",
       "    <tr>\n",
       "      <th>4</th>\n",
       "      <td>530.0</td>\n",
       "      <td>108.0</td>\n",
       "      <td>638.0</td>\n",
       "      <td>98.0</td>\n",
       "      <td>305.0</td>\n",
       "      <td>127.0</td>\n",
       "      <td>82.0</td>\n",
       "    </tr>\n",
       "  </tbody>\n",
       "</table>\n",
       "</div>"
      ],
      "text/plain": [
       "   Minutes Asleep  Minutes Awake  Time in Bed  Minutes REM Sleep  \\\n",
       "0           456.0           42.0        498.0               94.0   \n",
       "1           412.0           88.0        500.0               79.0   \n",
       "2           412.0           61.0        473.0               91.0   \n",
       "3           342.0           59.0        401.0               71.0   \n",
       "4           530.0          108.0        638.0               98.0   \n",
       "\n",
       "   Minutes Light Sleep  Minutes Deep Sleep  overall_score  \n",
       "0                271.0                91.0           86.0  \n",
       "1                208.0               125.0           77.0  \n",
       "2                242.0                79.0           78.0  \n",
       "3                196.0                75.0           76.0  \n",
       "4                305.0               127.0           82.0  "
      ]
     },
     "execution_count": 302,
     "metadata": {},
     "output_type": "execute_result"
    }
   ],
   "source": [
    "# Look at first five rows\n",
    "sleep_data.head()"
   ]
  },
  {
   "cell_type": "markdown",
   "metadata": {},
   "source": [
    "## Visualise the relationships between features and sleep score"
   ]
  },
  {
   "cell_type": "markdown",
   "metadata": {},
   "source": [
    "Before moving on to the analysis and building of Machine Learning models I want to have a look at the relationship that each individual feature has with the overall sleep score to get a sense of their impact on it."
   ]
  },
  {
   "cell_type": "code",
   "execution_count": 75,
   "metadata": {},
   "outputs": [],
   "source": [
    "# Define a function to plot the scatterplots of the relationships between all independent variables and the dependent\n",
    "# variable\n",
    "def plot_relationships(df, num_cols):\n",
    "    variables = df.columns\n",
    "    # This function assumes that the dependent variable is in the last column\n",
    "    dep_var = variables[-1]\n",
    "    ind_var = variables[:-1]\n",
    "    figs = len(dep_var)\n",
    "    num_cols = num_cols\n",
    "    num_rows = round(figs / num_cols) + 1\n",
    "    fig = 1\n",
    "    plt.figure(figsize=(20,30))\n",
    "    # Loop through all independent variables and create the scatter plot\n",
    "    for i in ind_var:\n",
    "        pltfignums = [str(num_rows), str(num_cols), str(fig)]\n",
    "        pltfig = int(''.join(pltfignums))\n",
    "        plt.subplot(pltfig)\n",
    "        plt.scatter(df[i], df[dep_var])\n",
    "        plt.xlabel(str(i))\n",
    "        plt.ylabel(str(dep_var))\n",
    "        fig +=1"
   ]
  },
  {
   "cell_type": "code",
   "execution_count": 103,
   "metadata": {},
   "outputs": [
    {
     "data": {
      "image/png": "[encoded data removed]",
      "text/plain": [
       "<Figure size 1440x2160 with 6 Axes>"
      ]
     },
     "metadata": {
      "needs_background": "light"
     },
     "output_type": "display_data"
    }
   ],
   "source": [
    "# Call the function with the reduced app data DataFrame and subplots in a grid of two columns\n",
    "plot_relationships(sleep_data, 3)"
   ]
  },
  {
   "cell_type": "markdown",
   "metadata": {},
   "source": [
    "Taken by themselves, Minutes Asleep and Minutes REM Sleep seem to have the strongest positive relationships with the overall sleep score. Generally speaking this makes sense because more time in bed should lead to more sleep, and therefore more quality sleep, and REM sleep has been found to be extremely important for many restorative functions and memory formation. (Elaborate more!)"
   ]
  },
  {
   "cell_type": "code",
   "execution_count": 104,
   "metadata": {},
   "outputs": [
    {
     "data": {
      "text/plain": [
       "<matplotlib.axes._subplots.AxesSubplot at 0x124e82070>"
      ]
     },
     "execution_count": 104,
     "metadata": {},
     "output_type": "execute_result"
    },
    {
     "data": {
      "image/png": "[encoded data removed]",
      "text/plain": [
       "<Figure size 720x432 with 2 Axes>"
      ]
     },
     "metadata": {
      "needs_background": "light"
     },
     "output_type": "display_data"
    }
   ],
   "source": [
    "# Inspect the correlations\n",
    "plt.figure(figsize=(10, 6))\n",
    "sns.heatmap(sleep_data.corr(), annot=True, cmap='coolwarm', fmt='.2g')"
   ]
  },
  {
   "cell_type": "markdown",
   "metadata": {},
   "source": [
    "## Inspect sleep score distribution"
   ]
  },
  {
   "cell_type": "code",
   "execution_count": 105,
   "metadata": {},
   "outputs": [
    {
     "data": {
      "text/plain": [
       "32"
      ]
     },
     "execution_count": 105,
     "metadata": {},
     "output_type": "execute_result"
    }
   ],
   "source": [
    "# Find spread of sleep score values\n",
    "spread = int(max(sleep_data.overall_score) - min(sleep_data.overall_score))\n",
    "spread"
   ]
  },
  {
   "cell_type": "code",
   "execution_count": 106,
   "metadata": {},
   "outputs": [
    {
     "data": {
      "text/plain": [
       "<matplotlib.legend.Legend at 0x1243e7250>"
      ]
     },
     "execution_count": 106,
     "metadata": {},
     "output_type": "execute_result"
    },
    {
     "data": {
      "image/png": "[encoded data removed]",
      "text/plain": [
       "<Figure size 1080x576 with 1 Axes>"
      ]
     },
     "metadata": {
      "needs_background": "light"
     },
     "output_type": "display_data"
    }
   ],
   "source": [
    "# Plot sleep score histogram and its mean\n",
    "plt.figure(figsize=(15,8))\n",
    "plt.hist(sleep_data.overall_score, bins=spread)\n",
    "plt.axvline(sleep_data.overall_score.mean(), color='r', label='Average Sleep Score')\n",
    "plt.xlabel('Sleep Score')\n",
    "plt.ylabel('Frequency')\n",
    "plt.title('Sleep Score Distribution')\n",
    "plt.legend()"
   ]
  },
  {
   "cell_type": "markdown",
   "metadata": {},
   "source": [
    "The distribution of sleep scores is skewed to the left. This makes sense because bad night sleeps are more likely to occur than exceptionally good ones due to multiple reasons such as staying out late, having to gte up extremely early, etc. Given that the average sleep score in the data set is already relatively high at 82 and the upper limit being 100, it is by definition difficult to have many outliers that lie above the average."
   ]
  },
  {
   "cell_type": "markdown",
   "metadata": {},
   "source": [
    "## Split the data into training, validation and test set"
   ]
  },
  {
   "cell_type": "markdown",
   "metadata": {},
   "source": [
    "Most data science projects that can be found online provide a training set and a test set that are well separated and that leave out the variable to be predicted in the test set, so as to assure no spillover effects. The training set can then be split into training and validation set without worrying about the test set because that has been neatly separated out already. Because I am solely relying on the data I was able to obtain from Fitbit, I have to split the data into training, validation and test set myself. There are many ways to do this but the most straight forward is to use the train_test_split twice.\n",
    "\n",
    "Furthermore, when building Machine Learning models it is crictical to make sure that information about test (and validation) data does not spill over into the the training stage of model building. Because the scaling of features always involves some information about the data that is used for the scaling (i.e. mean, variance, maximum or minimum values) we have to make sure that the test and validation set are separated from the training set before we scale the data. Therefore, before I proceed I split the data into training, validation and test set. "
   ]
  },
  {
   "cell_type": "code",
   "execution_count": 314,
   "metadata": {},
   "outputs": [],
   "source": [
    "# Perform first split\n",
    "X_train_temp, X_test, y_train_temp, y_test = train_test_split(sleep_data.iloc[:,:-1], \n",
    "                                                              sleep_data['overall_score'], test_size=0.2, \n",
    "                                                              random_state=42)"
   ]
  },
  {
   "cell_type": "code",
   "execution_count": 315,
   "metadata": {},
   "outputs": [],
   "source": [
    "# Perform the second split\n",
    "X_train, X_valid, y_train, y_valid = train_test_split(X_train_temp, y_train_temp, test_size=0.25, random_state=42)"
   ]
  },
  {
   "cell_type": "code",
   "execution_count": 316,
   "metadata": {},
   "outputs": [
    {
     "data": {
      "text/plain": [
       "(171, 57, 58)"
      ]
     },
     "execution_count": 316,
     "metadata": {},
     "output_type": "execute_result"
    }
   ],
   "source": [
    "# Check the lengths of the different subsets\n",
    "len(X_train), len(X_valid), len(X_test)"
   ]
  },
  {
   "cell_type": "code",
   "execution_count": 317,
   "metadata": {},
   "outputs": [
    {
     "data": {
      "text/plain": [
       "6"
      ]
     },
     "execution_count": 317,
     "metadata": {},
     "output_type": "execute_result"
    }
   ],
   "source": [
    "len(X_valid.columns)"
   ]
  },
  {
   "cell_type": "markdown",
   "metadata": {},
   "source": [
    "Now that we have a training set, validation set and test set we can proceed as follows: Train models on the training data, measure their accuracy on the validation data, tweak the model to be more accurate and measure the new accuracy, once we're happy with its performance we measure its generalisability on the test data."
   ]
  },
  {
   "cell_type": "code",
   "execution_count": 361,
   "metadata": {},
   "outputs": [
    {
     "data": {
      "text/plain": [
       "<matplotlib.axes._subplots.AxesSubplot at 0x126094d30>"
      ]
     },
     "execution_count": 361,
     "metadata": {},
     "output_type": "execute_result"
    },
    {
     "data": {
      "image/png": "[encoded data removed]",
      "text/plain": [
       "<Figure size 1080x576 with 1 Axes>"
      ]
     },
     "metadata": {
      "needs_background": "light"
     },
     "output_type": "display_data"
    }
   ],
   "source": [
    "plt.figure(figsize=(15,8))\n",
    "sns.boxplot(data=X_train.iloc[:,1:], orient='h', palette='Set2')"
   ]
  },
  {
   "cell_type": "markdown",
   "metadata": {},
   "source": [
    "## Scaling the Features"
   ]
  },
  {
   "cell_type": "markdown",
   "metadata": {},
   "source": [
    "Although for the Machine Learning Models in this project feature scaling is not required, it is considered best practice to scale features when comparing different models and their performance."
   ]
  },
  {
   "cell_type": "code",
   "execution_count": 318,
   "metadata": {},
   "outputs": [
    {
     "data": {
      "text/plain": [
       "array([[ 0.47416413,  0.32      ,  0.45801527,  0.53125   ,  0.44032922,\n",
       "         0.49193548],\n",
       "       [ 0.71732523,  0.11      ,  0.60814249,  0.725     ,  0.63374486,\n",
       "         0.50806452],\n",
       "       [ 0.23100304,  0.33      ,  0.25699746,  0.38125   ,  0.49382716,\n",
       "        -0.06451613],\n",
       "       [ 0.21276596,  0.3       ,  0.23409669,  0.4375    ,  0.21399177,\n",
       "         0.36290323],\n",
       "       [ 0.24924012,  0.67      ,  0.35877863,  0.43125   ,  0.10699588,\n",
       "         0.67741935],\n",
       "       [ 0.11246201,  0.44      ,  0.18575064, -0.03125   ,  0.34567901,\n",
       "         0.44354839],\n",
       "       [ 0.62006079,  0.51      ,  0.62849873,  0.525     ,  0.59670782,\n",
       "         0.58064516],\n",
       "       [ 0.70212766,  0.48      ,  0.68956743,  0.55      ,  0.51028807,\n",
       "         0.93548387],\n",
       "       [ 0.17021277,  0.17      ,  0.1653944 ,  0.2625    ,  0.12345679,\n",
       "         0.65322581],\n",
       "       [ 0.39209726,  0.36      ,  0.39949109,  0.50625   ,  0.35802469,\n",
       "         0.46774194],\n",
       "       [ 0.38297872,  0.33      ,  0.38422392,  0.475     ,  0.24691358,\n",
       "         0.7016129 ],\n",
       "       [ 0.56231003,  0.57      ,  0.59541985,  0.35625   ,  0.67489712,\n",
       "         0.49193548],\n",
       "       [ 0.58054711,  0.47      ,  0.58524173,  0.65      ,  0.49382716,\n",
       "         0.51612903],\n",
       "       [ 0.42857143,  0.27      ,  0.40712468,  0.3375    ,  0.44032922,\n",
       "         0.62096774],\n",
       "       [ 0.52583587,  0.36      ,  0.51145038,  0.68125   ,  0.37860082,\n",
       "         0.55645161],\n",
       "       [ 0.42553191,  0.19      ,  0.38422392,  0.45      ,  0.35802469,\n",
       "         0.62903226],\n",
       "       [ 0.58662614,  0.72      ,  0.65394402,  0.375     ,  0.69135802,\n",
       "         0.5       ],\n",
       "       [ 0.24012158,  0.43      ,  0.29007634,  0.29375   ,  0.26748971,\n",
       "         0.51612903],\n",
       "       [ 0.53495441,  0.32      ,  0.50890585,  0.51875   ,  0.35802469,\n",
       "         0.83064516],\n",
       "       [ 0.00607903,  0.08      ,  0.00508906,  0.325     ,  0.0617284 ,\n",
       "         0.25806452],\n",
       "       [ 0.31610942,  0.24      ,  0.30534351,  0.475     ,  0.21399177,\n",
       "         0.58870968],\n",
       "       [ 0.44072948,  0.19      ,  0.39694656,  0.675     ,  0.14403292,\n",
       "         0.7983871 ],\n",
       "       [ 0.20364742,  0.25      ,  0.21374046,  0.2625    ,  0.11111111,\n",
       "         0.76612903],\n",
       "       [ 0.20972644,  0.3       ,  0.23155216,  0.2375    ,  0.30452675,\n",
       "         0.43548387],\n",
       "       [ 0.62917933,  0.39      ,  0.60559796,  0.575     ,  0.65843621,\n",
       "         0.41935484],\n",
       "       [ 0.67781155,  0.7       ,  0.72519084,  0.9125    ,  0.43209877,\n",
       "         0.55645161],\n",
       "       [ 0.45896657,  0.32      ,  0.44529262,  0.4375    ,  0.48559671,\n",
       "         0.48387097],\n",
       "       [ 0.55319149,  0.23      ,  0.50127226,  0.6125    ,  0.36213992,\n",
       "         0.75      ],\n",
       "       [ 0.78723404,  0.53      ,  0.7735369 ,  0.99375   ,  0.31687243,\n",
       "         0.96774194],\n",
       "       [ 0.39513678,  0.22      ,  0.36641221,  0.4625    ,  0.43621399,\n",
       "         0.37903226],\n",
       "       [ 0.11854103,  0.25      ,  0.14249364,  0.31875   ,  0.1399177 ,\n",
       "         0.41129032],\n",
       "       [ 0.59574468,  0.36      ,  0.56997455,  0.5       ,  0.53497942,\n",
       "         0.66935484],\n",
       "       [ 0.3343465 ,  0.16      ,  0.30025445,  0.74375   ,  0.00823045,\n",
       "         0.69354839],\n",
       "       [ 0.32218845,  0.47      ,  0.36895674,  0.325     ,  0.28395062,\n",
       "         0.66129032],\n",
       "       [ 0.27963526,  0.36      ,  0.30534351,  0.3375    ,  0.32510288,\n",
       "         0.4516129 ],\n",
       "       [ 0.05775076,  0.22      ,  0.08396947,  0.2125    ,  0.14403292,\n",
       "         0.37903226],\n",
       "       [ 0.40729483,  0.6       ,  0.47328244,  0.275     ,  0.43621399,\n",
       "         0.65322581],\n",
       "       [ 0.68085106,  0.54      ,  0.6870229 ,  0.55625   ,  0.61728395,\n",
       "         0.66129032],\n",
       "       [ 0.44984802,  0.6       ,  0.50890585,  0.26875   ,  0.44444444,\n",
       "         0.75806452],\n",
       "       [ 0.60486322,  0.43      ,  0.59541985,  0.6875    ,  0.48559671,\n",
       "         0.5483871 ],\n",
       "       [ 0.53191489,  0.74      ,  0.61323155,  0.4625    ,  0.67901235,\n",
       "         0.26612903],\n",
       "       [ 0.28571429,  0.53      ,  0.35368957,  0.55      ,  0.10288066,\n",
       "         0.62903226],\n",
       "       [ 0.41641337,  0.12      ,  0.35877863,  0.45625   ,  0.33744856,\n",
       "         0.63709677],\n",
       "       [ 0.3100304 ,  0.09      ,  0.26208651,  0.40625   ,  0.218107  ,\n",
       "         0.65322581],\n",
       "       [ 0.51671733,  0.27      ,  0.48091603,  0.5375    ,  0.55555556,\n",
       "         0.37096774],\n",
       "       [ 0.58966565,  0.47      ,  0.59287532,  0.725     ,  0.39506173,\n",
       "         0.63709677],\n",
       "       [ 0.07294833,  0.15      ,  0.07888041,  0.39375   , -0.02469136,\n",
       "         0.51612903],\n",
       "       [ 0.443769  ,  0.44      ,  0.46310433,  0.14375   ,  0.67489712,\n",
       "         0.4516129 ],\n",
       "       [ 0.48328267,  0.52      ,  0.51653944,  0.35      ,  0.39917695,\n",
       "         0.83064516],\n",
       "       [ 0.25531915,  0.31      ,  0.27226463,  0.36875   ,  0.30041152,\n",
       "         0.39516129],\n",
       "       [ 0.3100304 ,  0.45      ,  0.35368957,  0.325     ,  0.21399177,\n",
       "         0.76612903],\n",
       "       [ 0.6443769 ,  0.39      ,  0.61832061,  0.43125   ,  0.85185185,\n",
       "         0.26612903],\n",
       "       [ 0.00607903,  0.22      ,  0.04071247,  0.0375    ,  0.25102881,\n",
       "         0.25806452],\n",
       "       [ 0.35866261,  0.22      ,  0.33587786,  0.3625    ,  0.34979424,\n",
       "         0.58064516],\n",
       "       [ 0.31610942,  0.38      ,  0.34096692,  0.55625   ,  0.15226337,\n",
       "         0.60483871],\n",
       "       [ 0.79331307,  0.6       ,  0.79643766,  0.8125    ,  0.3909465 ,\n",
       "         1.07258065],\n",
       "       [ 0.61398176,  0.27      ,  0.56234097,  0.56875   ,  0.56378601,\n",
       "         0.57258065],\n",
       "       [ 0.29179331,  0.5       ,  0.35114504,  0.26875   ,  0.45679012,\n",
       "         0.31451613]])"
      ]
     },
     "execution_count": 318,
     "metadata": {},
     "output_type": "execute_result"
    }
   ],
   "source": [
    "# Create the scaler with object range of 0-1\n",
    "scaler = MinMaxScaler()\n",
    "\n",
    "# Fit and transform using the training data\n",
    "scaler.fit_transform(X_train)\n",
    "\n",
    "# Transform the validation and test features\n",
    "scaler.transform(X_valid)\n",
    "scaler.transform(X_test)"
   ]
  },
  {
   "cell_type": "markdown",
   "metadata": {},
   "source": [
    "## Feature Selection using Lasso Regression"
   ]
  },
  {
   "cell_type": "markdown",
   "metadata": {},
   "source": [
    "Fitting a linear regression minimises a loss function by choosing coefficients for each feature variable. One problem with that is that large coefficients can lead to overfitting, meaning that the model will perform well on the training data but poorly on data it has never seen before. This is where regularisation comes in. Essentially, you just alter the loss function to penalise large coefficients. Lasso Regression, unlike the closely related Ridge Regression, can be used to select important features of a dataset. This is because it tends tos hrink the coefficients of less important features to close to zero."
   ]
  },
  {
   "cell_type": "code",
   "execution_count": 327,
   "metadata": {},
   "outputs": [
    {
     "data": {
      "text/plain": [
       "Lasso(alpha=0.1)"
      ]
     },
     "execution_count": 327,
     "metadata": {},
     "output_type": "execute_result"
    }
   ],
   "source": [
    "# Create the model\n",
    "lasso = Lasso(alpha=0.1)\n",
    "\n",
    "# Fit the model to the training data\n",
    "lasso.fit(X_train, y_train)"
   ]
  },
  {
   "cell_type": "code",
   "execution_count": 329,
   "metadata": {},
   "outputs": [
    {
     "data": {
      "text/plain": [
       "Text(0.5, 1.0, 'Lasso coefficients for sleep data features')"
      ]
     },
     "execution_count": 329,
     "metadata": {},
     "output_type": "execute_result"
    },
    {
     "data": {
      "image/png": "[encoded data removed]",
      "text/plain": [
       "<Figure size 720x432 with 1 Axes>"
      ]
     },
     "metadata": {
      "needs_background": "light"
     },
     "output_type": "display_data"
    }
   ],
   "source": [
    "# Extract the coefficients\n",
    "lasso_coef = lasso.coef_\n",
    "\n",
    "# Plot the coefficients\n",
    "plt.figure(figsize=(10, 6))\n",
    "plt.plot(range(len(X_train.columns)), lasso_coef)\n",
    "plt.xticks(range(len(X_train.columns)), X_train.columns, rotation=60)\n",
    "plt.axhline(0.0, linestyle='--', color='r')\n",
    "plt.ylabel('Coefficients')\n",
    "plt.title('Lasso coefficients for sleep data features')"
   ]
  },
  {
   "cell_type": "markdown",
   "metadata": {},
   "source": [
    "The Lasso Regression algorithm has reduced the coefficients of Time in Bed and Minutes Light Sleep to close to zero, deeming them less important than the other four features. This comes in handy as we would face major multicollinearity issues if we included all of the features in our models. Multicollinearity itself is not an issue when you only care about predictive power of the model but it makes interpreting the model reliably almost impossible. I would like to buidl Machine Learning models that perform well but are also somewhat interpretable, which is why a reduction in multicollinearity is needed.\n",
    "\n",
    "For further analysis I will only include Minutes Asleep, Minutes Awake, Minutes REM Sleep and Minutes Deep Sleep as features in the models."
   ]
  },
  {
   "cell_type": "code",
   "execution_count": 345,
   "metadata": {},
   "outputs": [
    {
     "name": "stderr",
     "output_type": "stream",
     "text": [
      "/Library/Frameworks/Python.framework/Versions/3.8/lib/python3.8/site-packages/pandas/core/frame.py:3990: SettingWithCopyWarning: \n",
      "A value is trying to be set on a copy of a slice from a DataFrame\n",
      "\n",
      "See the caveats in the documentation: https://pandas.pydata.org/pandas-docs/stable/user_guide/indexing.html#returning-a-view-versus-a-copy\n",
      "  return super().drop(\n"
     ]
    }
   ],
   "source": [
    "# Create a list of the columns to drop\n",
    "cols_to_drop = ['Time in Bed', 'Minutes Light Sleep']\n",
    "\n",
    "# Drop these columns from training, validation and test data\n",
    "X_train_temp.drop(columns=cols_to_drop, inplace=True)\n",
    "X_train.drop(columns=cols_to_drop, inplace=True)\n",
    "X_valid.drop(columns=cols_to_drop, inplace=True)\n",
    "X_test.drop(columns=cols_to_drop, inplace=True)"
   ]
  },
  {
   "cell_type": "markdown",
   "metadata": {},
   "source": [
    "## Defining performance measures"
   ]
  },
  {
   "cell_type": "markdown",
   "metadata": {},
   "source": [
    "The performance measures I want to use to compare the different ML models are Accuracy and Score. Average Error is added to the list as an extra."
   ]
  },
  {
   "cell_type": "code",
   "execution_count": 115,
   "metadata": {},
   "outputs": [],
   "source": [
    "def scoring(model, test_features, test_labels):\n",
    "    predictions = model.predict(test_features)\n",
    "    mae = mean_absolute_error(test_labels, predictions)\n",
    "    mse = mean_squared_error(test_labels, predictions)\n",
    "    r2 = r2_score(test_labels, predictions)\n",
    "    errors = abs(predictions - test_labels)\n",
    "    mape = 100 * np.mean(errors / test_labels)\n",
    "    accuracy = 100 - mape\n",
    "    print('Model Performance')\n",
    "    print('Mean Absolute Error: {:0.4f}.'.format(mae))\n",
    "    print('Mean Squared Error: {:0.4f}.'.format(mse))\n",
    "    print('R^2 Score = {:0.4f}.'.format(r2))\n",
    "    print('Accuracy = {:0.2f}%.'.format(accuracy))"
   ]
  },
  {
   "cell_type": "markdown",
   "metadata": {},
   "source": [
    "Accuracy is typically used as a performance measure in classification problems and not regression problems because it refers to the proportion of correct predictions that the model makes. The ways I use accuracy for the regression models in this analysis is different. Accuracy for the regression models is a measure of how far off (in percentage terms) the prediction in sleep score will be from the actual sleep score, on average. For example, if the actual sleep score is 80 and the model has an accuracy of 96%, meaning that on average it is 4% off, the model is expected to make a prediction for the sleep score in the range of 76.8 (80 - (80 x 0.04)) to 83.2 (80 + (80 x 0.04)). "
   ]
  },
  {
   "cell_type": "markdown",
   "metadata": {},
   "source": [
    "## Establish a Baseline"
   ]
  },
  {
   "cell_type": "markdown",
   "metadata": {},
   "source": [
    "The baseline that I will compare the performance of the Machine Learning models against will be simply predicting the average Sleep Score every night. A good model should be substantially better than just predicting the average every night."
   ]
  },
  {
   "cell_type": "code",
   "execution_count": 362,
   "metadata": {},
   "outputs": [
    {
     "name": "stdout",
     "output_type": "stream",
     "text": [
      "Model Performance\n",
      "Mean Absolute Error: 5.4912.\n",
      "Mean Squared Error: 47.9474.\n",
      "R^2 Score = -0.1037.\n",
      "Accuracy = 92.68%.\n"
     ]
    }
   ],
   "source": [
    "# Create list of median predictions that has the same length as y_valid\n",
    "baseline_y = [y_train.median()] * len(y_valid)\n",
    "\n",
    "# Compute the relevant scores\n",
    "base_predictions = baseline_y\n",
    "base_mae = mean_absolute_error(y_valid, base_predictions)\n",
    "base_mse = mean_squared_error(y_valid, base_predictions)\n",
    "base_r2 = r2_score(y_valid, base_predictions)\n",
    "base_errors = abs(base_predictions - y_valid)\n",
    "base_mape = 100 * np.mean(base_errors / y_valid)\n",
    "base_accuracy = 100 - base_mape\n",
    "print('Model Performance')\n",
    "print('Mean Absolute Error: {:0.4f}.'.format(base_mae))\n",
    "print('Mean Squared Error: {:0.4f}.'.format(base_mse))\n",
    "print('R^2 Score = {:0.4f}.'.format(base_r2))\n",
    "print('Accuracy = {:0.2f}%.'.format(base_accuracy))"
   ]
  },
  {
   "cell_type": "markdown",
   "metadata": {},
   "source": [
    "## Multiple Linear Regression"
   ]
  },
  {
   "cell_type": "markdown",
   "metadata": {},
   "source": [
    "The first model I would like to use is MLR. I used MLR in another project to understand the relationship between the independent variables and the sleep score. This time, I will use it to make predictions about sleep scores and test the accuracy of this linear model."
   ]
  },
  {
   "cell_type": "code",
   "execution_count": 347,
   "metadata": {},
   "outputs": [],
   "source": [
    "# Create regressor\n",
    "regressor = LinearRegression()\n",
    "\n",
    "# Fit MLR model to training data\n",
    "mlr = regressor.fit(X_train, y_train)"
   ]
  },
  {
   "cell_type": "code",
   "execution_count": 348,
   "metadata": {},
   "outputs": [
    {
     "name": "stdout",
     "output_type": "stream",
     "text": [
      "Model Performance\n",
      "Mean Absolute Error: 2.5870.\n",
      "Mean Squared Error: 10.5967.\n",
      "R^2 Score = 0.7561.\n",
      "Accuracy = 96.63%.\n"
     ]
    }
   ],
   "source": [
    "# Evaluate the performance\n",
    "scoring(mlr, X_valid, y_valid)"
   ]
  },
  {
   "cell_type": "code",
   "execution_count": 349,
   "metadata": {},
   "outputs": [
    {
     "data": {
      "text/html": [
       "<table class=\"simpletable\">\n",
       "<caption>OLS Regression Results</caption>\n",
       "<tr>\n",
       "  <th>Dep. Variable:</th>      <td>overall_score</td>  <th>  R-squared:         </th> <td>   0.663</td>\n",
       "</tr>\n",
       "<tr>\n",
       "  <th>Model:</th>                   <td>OLS</td>       <th>  Adj. R-squared:    </th> <td>   0.655</td>\n",
       "</tr>\n",
       "<tr>\n",
       "  <th>Method:</th>             <td>Least Squares</td>  <th>  F-statistic:       </th> <td>   81.60</td>\n",
       "</tr>\n",
       "<tr>\n",
       "  <th>Date:</th>             <td>Sun, 02 Aug 2020</td> <th>  Prob (F-statistic):</th> <td>3.60e-38</td>\n",
       "</tr>\n",
       "<tr>\n",
       "  <th>Time:</th>                 <td>16:57:37</td>     <th>  Log-Likelihood:    </th> <td> -408.37</td>\n",
       "</tr>\n",
       "<tr>\n",
       "  <th>No. Observations:</th>      <td>   171</td>      <th>  AIC:               </th> <td>   826.7</td>\n",
       "</tr>\n",
       "<tr>\n",
       "  <th>Df Residuals:</th>          <td>   166</td>      <th>  BIC:               </th> <td>   842.4</td>\n",
       "</tr>\n",
       "<tr>\n",
       "  <th>Df Model:</th>              <td>     4</td>      <th>                     </th>     <td> </td>   \n",
       "</tr>\n",
       "<tr>\n",
       "  <th>Covariance Type:</th>      <td>nonrobust</td>    <th>                     </th>     <td> </td>   \n",
       "</tr>\n",
       "</table>\n",
       "<table class=\"simpletable\">\n",
       "<tr>\n",
       "           <td></td>             <th>coef</th>     <th>std err</th>      <th>t</th>      <th>P>|t|</th>  <th>[0.025</th>    <th>0.975]</th>  \n",
       "</tr>\n",
       "<tr>\n",
       "  <th>const</th>              <td>   59.5066</td> <td>    1.614</td> <td>   36.864</td> <td> 0.000</td> <td>   56.319</td> <td>   62.694</td>\n",
       "</tr>\n",
       "<tr>\n",
       "  <th>Minutes Asleep</th>     <td>    0.0389</td> <td>    0.005</td> <td>    7.925</td> <td> 0.000</td> <td>    0.029</td> <td>    0.049</td>\n",
       "</tr>\n",
       "<tr>\n",
       "  <th>Minutes Awake</th>      <td>   -0.1018</td> <td>    0.015</td> <td>   -6.847</td> <td> 0.000</td> <td>   -0.131</td> <td>   -0.072</td>\n",
       "</tr>\n",
       "<tr>\n",
       "  <th>Minutes REM Sleep</th>  <td>    0.0793</td> <td>    0.011</td> <td>    7.307</td> <td> 0.000</td> <td>    0.058</td> <td>    0.101</td>\n",
       "</tr>\n",
       "<tr>\n",
       "  <th>Minutes Deep Sleep</th> <td>    0.0357</td> <td>    0.011</td> <td>    3.395</td> <td> 0.001</td> <td>    0.015</td> <td>    0.056</td>\n",
       "</tr>\n",
       "</table>\n",
       "<table class=\"simpletable\">\n",
       "<tr>\n",
       "  <th>Omnibus:</th>       <td> 9.143</td> <th>  Durbin-Watson:     </th> <td>   1.963</td>\n",
       "</tr>\n",
       "<tr>\n",
       "  <th>Prob(Omnibus):</th> <td> 0.010</td> <th>  Jarque-Bera (JB):  </th> <td>   9.051</td>\n",
       "</tr>\n",
       "<tr>\n",
       "  <th>Skew:</th>          <td>-0.535</td> <th>  Prob(JB):          </th> <td>  0.0108</td>\n",
       "</tr>\n",
       "<tr>\n",
       "  <th>Kurtosis:</th>      <td> 3.355</td> <th>  Cond. No.          </th> <td>3.98e+03</td>\n",
       "</tr>\n",
       "</table><br/><br/>Warnings:<br/>[1] Standard Errors assume that the covariance matrix of the errors is correctly specified.<br/>[2] The condition number is large, 3.98e+03. This might indicate that there are<br/>strong multicollinearity or other numerical problems."
      ],
      "text/plain": [
       "<class 'statsmodels.iolib.summary.Summary'>\n",
       "\"\"\"\n",
       "                            OLS Regression Results                            \n",
       "==============================================================================\n",
       "Dep. Variable:          overall_score   R-squared:                       0.663\n",
       "Model:                            OLS   Adj. R-squared:                  0.655\n",
       "Method:                 Least Squares   F-statistic:                     81.60\n",
       "Date:                Sun, 02 Aug 2020   Prob (F-statistic):           3.60e-38\n",
       "Time:                        16:57:37   Log-Likelihood:                -408.37\n",
       "No. Observations:                 171   AIC:                             826.7\n",
       "Df Residuals:                     166   BIC:                             842.4\n",
       "Df Model:                           4                                         \n",
       "Covariance Type:            nonrobust                                         \n",
       "======================================================================================\n",
       "                         coef    std err          t      P>|t|      [0.025      0.975]\n",
       "--------------------------------------------------------------------------------------\n",
       "const                 59.5066      1.614     36.864      0.000      56.319      62.694\n",
       "Minutes Asleep         0.0389      0.005      7.925      0.000       0.029       0.049\n",
       "Minutes Awake         -0.1018      0.015     -6.847      0.000      -0.131      -0.072\n",
       "Minutes REM Sleep      0.0793      0.011      7.307      0.000       0.058       0.101\n",
       "Minutes Deep Sleep     0.0357      0.011      3.395      0.001       0.015       0.056\n",
       "==============================================================================\n",
       "Omnibus:                        9.143   Durbin-Watson:                   1.963\n",
       "Prob(Omnibus):                  0.010   Jarque-Bera (JB):                9.051\n",
       "Skew:                          -0.535   Prob(JB):                       0.0108\n",
       "Kurtosis:                       3.355   Cond. No.                     3.98e+03\n",
       "==============================================================================\n",
       "\n",
       "Warnings:\n",
       "[1] Standard Errors assume that the covariance matrix of the errors is correctly specified.\n",
       "[2] The condition number is large, 3.98e+03. This might indicate that there are\n",
       "strong multicollinearity or other numerical problems.\n",
       "\"\"\""
      ]
     },
     "execution_count": 349,
     "metadata": {},
     "output_type": "execute_result"
    }
   ],
   "source": [
    "# Inspect the statsmodel results\n",
    "X_mlr = sm.add_constant(X_train)\n",
    "est = sm.OLS(y_train, X_mlr)\n",
    "est2 = est.fit()\n",
    "est2.summary()"
   ]
  },
  {
   "cell_type": "markdown",
   "metadata": {},
   "source": [
    "The coefficients in our model are close to those of the MLR using the entire dataset. Looking at the feature importances in combination with the sign of the coefficients provides an important insight (ignoring multicollinearity!). Minutes Awake seem to have the biggest impact on sleep score and because that variable has a negative coefficient, it's impact is a sleep score reducing one. Disregarding multicollinearity, these feature importances indicate that it takes more than two minutes of REM sleep to make up for one minute of being awake. Furthermore, REM sleep appears to be almost twice as important as deep sleep when it comes to their impact on sleep score."
   ]
  },
  {
   "cell_type": "markdown",
   "metadata": {},
   "source": [
    "## Random Forest"
   ]
  },
  {
   "cell_type": "code",
   "execution_count": 352,
   "metadata": {},
   "outputs": [],
   "source": [
    "# Create regressor\n",
    "rf_regressor = RandomForestRegressor(random_state=42)\n",
    "\n",
    "# Fit RF model to training data\n",
    "rf = rf_regressor.fit(X_train, y_train)"
   ]
  },
  {
   "cell_type": "code",
   "execution_count": 353,
   "metadata": {},
   "outputs": [
    {
     "name": "stdout",
     "output_type": "stream",
     "text": [
      "Model Performance\n",
      "Mean Absolute Error: 2.5875.\n",
      "Mean Squared Error: 11.3915.\n",
      "R^2 Score = 0.7378.\n",
      "Accuracy = 96.58%.\n"
     ]
    }
   ],
   "source": [
    "# Evaluate the performance\n",
    "scoring(rf, X_valid, y_valid)"
   ]
  },
  {
   "cell_type": "code",
   "execution_count": 354,
   "metadata": {},
   "outputs": [
    {
     "data": {
      "text/plain": [
       "[<matplotlib.lines.Line2D at 0x1255d8280>]"
      ]
     },
     "execution_count": 354,
     "metadata": {},
     "output_type": "execute_result"
    },
    {
     "data": {
      "image/png": "[encoded data removed]",
      "text/plain": [
       "<Figure size 432x288 with 1 Axes>"
      ]
     },
     "metadata": {
      "needs_background": "light"
     },
     "output_type": "display_data"
    }
   ],
   "source": [
    "# Make predictions\n",
    "y_pred = rf.predict(X_valid)\n",
    "\n",
    "x = np.linspace(65, 90, 25)\n",
    "y = x\n",
    "\n",
    "plt.scatter(y_pred, y_valid)\n",
    "plt.plot(x, y)"
   ]
  },
  {
   "cell_type": "code",
   "execution_count": 355,
   "metadata": {},
   "outputs": [
    {
     "data": {
      "text/html": [
       "<div>\n",
       "<style scoped>\n",
       "    .dataframe tbody tr th:only-of-type {\n",
       "        vertical-align: middle;\n",
       "    }\n",
       "\n",
       "    .dataframe tbody tr th {\n",
       "        vertical-align: top;\n",
       "    }\n",
       "\n",
       "    .dataframe thead th {\n",
       "        text-align: right;\n",
       "    }\n",
       "</style>\n",
       "<table border=\"1\" class=\"dataframe\">\n",
       "  <thead>\n",
       "    <tr style=\"text-align: right;\">\n",
       "      <th></th>\n",
       "      <th>Feature Importance</th>\n",
       "    </tr>\n",
       "  </thead>\n",
       "  <tbody>\n",
       "    <tr>\n",
       "      <th>Minutes Asleep</th>\n",
       "      <td>0.479255</td>\n",
       "    </tr>\n",
       "    <tr>\n",
       "      <th>Minutes Awake</th>\n",
       "      <td>0.111434</td>\n",
       "    </tr>\n",
       "    <tr>\n",
       "      <th>Minutes REM Sleep</th>\n",
       "      <td>0.326952</td>\n",
       "    </tr>\n",
       "    <tr>\n",
       "      <th>Minutes Deep Sleep</th>\n",
       "      <td>0.082359</td>\n",
       "    </tr>\n",
       "  </tbody>\n",
       "</table>\n",
       "</div>"
      ],
      "text/plain": [
       "                    Feature Importance\n",
       "Minutes Asleep                0.479255\n",
       "Minutes Awake                 0.111434\n",
       "Minutes REM Sleep             0.326952\n",
       "Minutes Deep Sleep            0.082359"
      ]
     },
     "execution_count": 355,
     "metadata": {},
     "output_type": "execute_result"
    }
   ],
   "source": [
    "# Create a DataFrame of the feature importances \n",
    "rf_feats = pd.DataFrame(rf.feature_importances_, index=X_train.columns, columns=['Feature Importance'])\n",
    "rf_feats"
   ]
  },
  {
   "cell_type": "markdown",
   "metadata": {},
   "source": [
    "In case of a random forest regression, feature importance represents a measure of how much a feature decreases impurity in the set decision trees. Remember that at every node in a tree the data has to be split so that similar value sof dependent variables end up in the same set after the split, thereby decreasing the impurity. For classification problems, the measure of impurity is called Gini Impurity, which is absed on information gain, and for regression problems the measure of impurity is variance. In a random forest regression, therefore, a more important feature is one that leads to a split in the dataset that leads to a strong decrease in variance.\n",
    "\n",
    "Minutes REM sleep appears to be the feature that decreases impurity the most, followed by Time in Bed and then Minutes Awake and Minutes Deep Sleep. \n",
    "\n",
    "In this model, we have to be careful and not attach too much value to the feature importances of the model. The reason is that the features are correlated and therefore once one of the features is used as a predictor the importance of the others will automatically be reduced since a lot of the impurity that they could have removed is already removed by the feature that was considered before them and is highly correlated to them.\n",
    "\n",
    "Next, let's look at Extreme Gradient Boosting."
   ]
  },
  {
   "cell_type": "markdown",
   "metadata": {},
   "source": [
    "## Extreme Gradient Boosting "
   ]
  },
  {
   "cell_type": "code",
   "execution_count": 363,
   "metadata": {},
   "outputs": [],
   "source": [
    "# Create regressor\n",
    "xgb_regressor = XGBRegressor(random_state=42)\n",
    "\n",
    "# Fit model to training data\n",
    "xgb = xgb_regressor.fit(X_train, y_train)"
   ]
  },
  {
   "cell_type": "code",
   "execution_count": 364,
   "metadata": {},
   "outputs": [
    {
     "name": "stdout",
     "output_type": "stream",
     "text": [
      "Model Performance\n",
      "Mean Absolute Error: 2.6357.\n",
      "Mean Squared Error: 11.3007.\n",
      "R^2 Score = 0.7399.\n",
      "Accuracy = 96.58%.\n"
     ]
    }
   ],
   "source": [
    "# Evaluate the performance\n",
    "scoring(xgb, X_valid, y_valid)"
   ]
  },
  {
   "cell_type": "code",
   "execution_count": 358,
   "metadata": {},
   "outputs": [
    {
     "data": {
      "text/html": [
       "<div>\n",
       "<style scoped>\n",
       "    .dataframe tbody tr th:only-of-type {\n",
       "        vertical-align: middle;\n",
       "    }\n",
       "\n",
       "    .dataframe tbody tr th {\n",
       "        vertical-align: top;\n",
       "    }\n",
       "\n",
       "    .dataframe thead th {\n",
       "        text-align: right;\n",
       "    }\n",
       "</style>\n",
       "<table border=\"1\" class=\"dataframe\">\n",
       "  <thead>\n",
       "    <tr style=\"text-align: right;\">\n",
       "      <th></th>\n",
       "      <th>Feature Importance</th>\n",
       "    </tr>\n",
       "  </thead>\n",
       "  <tbody>\n",
       "    <tr>\n",
       "      <th>Minutes Asleep</th>\n",
       "      <td>0.209856</td>\n",
       "    </tr>\n",
       "    <tr>\n",
       "      <th>Minutes Awake</th>\n",
       "      <td>0.172582</td>\n",
       "    </tr>\n",
       "    <tr>\n",
       "      <th>Minutes REM Sleep</th>\n",
       "      <td>0.437949</td>\n",
       "    </tr>\n",
       "    <tr>\n",
       "      <th>Minutes Deep Sleep</th>\n",
       "      <td>0.179613</td>\n",
       "    </tr>\n",
       "  </tbody>\n",
       "</table>\n",
       "</div>"
      ],
      "text/plain": [
       "                    Feature Importance\n",
       "Minutes Asleep                0.209856\n",
       "Minutes Awake                 0.172582\n",
       "Minutes REM Sleep             0.437949\n",
       "Minutes Deep Sleep            0.179613"
      ]
     },
     "execution_count": 358,
     "metadata": {},
     "output_type": "execute_result"
    }
   ],
   "source": [
    "# Create a DataFrame to inspect the feature importances again\n",
    "xgb_feats = pd.DataFrame(xgb.feature_importances_, index=X_train.columns, columns=['Feature Importance'])\n",
    "xgb_feats"
   ]
  },
  {
   "cell_type": "markdown",
   "metadata": {},
   "source": [
    "Interestingly, Minutes REM Sleep is by far the most important feature again and, similar to the Random Forest, Time in Bed is the second most important."
   ]
  },
  {
   "cell_type": "markdown",
   "metadata": {},
   "source": [
    "## Introducing Cross-Validation"
   ]
  },
  {
   "cell_type": "markdown",
   "metadata": {},
   "source": [
    "Because I am using a relatively small dataset of sleep scores and related features, a simple train test split may lead to over- or underfitting, meaning that the model may be either fitted too well to the training data or not well enough. One solution to this potential problem is to use Cross Validation. The general concept of Cross Validation is similar to that of splitting the data into training and testing data and can be thought of as a repeated train test split with subsequent testing of the model accuracy. In a train test split you train the model on one subset of the data and test it on the remaining data but you do that only once. In Cross Validation you perform multiple train test splits and for each split the test and training data are different. Basically, you split the data into a number of subsets, called folds, hold out one set at a time, train the model on the remaining data and test it on the hold out set. You repeat these steps until you have used every subset as the test set, i.e. by definition the number of times you perform these steps is equal to the number of folds you split the dataset into."
   ]
  },
  {
   "cell_type": "code",
   "execution_count": 139,
   "metadata": {},
   "outputs": [],
   "source": [
    "# Redefine the models to be tested\n",
    "mlr_reg = LinearRegression()\n",
    "rf_reg = RandomForestRegressor(random_state=42)\n",
    "xgb_reg = xgb_regressor = XGBRegressor(random_state=42)"
   ]
  },
  {
   "cell_type": "code",
   "execution_count": 140,
   "metadata": {},
   "outputs": [],
   "source": [
    "# Put the models in a list to be used for cross validation\n",
    "models = [mlr_reg, rf_reg, xgb_reg]"
   ]
  },
  {
   "cell_type": "code",
   "execution_count": 153,
   "metadata": {},
   "outputs": [],
   "source": [
    "def cv_comparison(models, X, y, cv):\n",
    "    cv_accuracies = pd.DataFrame()\n",
    "    maes = []\n",
    "    mses = []\n",
    "    r2s = []\n",
    "    accs = []\n",
    "    for model in models:\n",
    "        mae = -np.round(cross_val_score(model, X, y, scoring='neg_mean_absolute_error', cv=cv), 4)\n",
    "        maes.append(mae)\n",
    "        mae_avg = round(mae.mean(), 4)\n",
    "        mse = -np.round(cross_val_score(model, X, y, scoring='neg_mean_squared_error', cv=cv), 4)\n",
    "        mses.append(mse)\n",
    "        mse_avg = round(mse.mean(), 4)\n",
    "        r2 = np.round(cross_val_score(model, X, y, scoring='r2', cv=cv), 4)\n",
    "        r2s.append(r2)\n",
    "        r2_avg = round(r2.mean(), 4)\n",
    "        acc = np.round((100 - (100 * (mae * len(X))) / sum(y)), 4)\n",
    "        accs.append(acc)\n",
    "        acc_avg = round(acc.mean(), 4)\n",
    "        cv_accuracies[str(model)] = [mae_avg, mse_avg, r2_avg, acc_avg]\n",
    "    cv_accuracies.index = ['Mean Absolute Error', 'Mean Squared Error', 'R^2', 'Accuracy']\n",
    "    return cv_accuracies, maes, mses, r2s, accs"
   ]
  },
  {
   "cell_type": "code",
   "execution_count": 154,
   "metadata": {},
   "outputs": [],
   "source": [
    "# Run the cross-validation comparison with the models used in this analysis\n",
    "comp, maes, mses, r2s, accs = cv_comparison(models, X_train_temp, y_train_temp, 4)"
   ]
  },
  {
   "cell_type": "code",
   "execution_count": 155,
   "metadata": {},
   "outputs": [
    {
     "data": {
      "text/html": [
       "<div>\n",
       "<style scoped>\n",
       "    .dataframe tbody tr th:only-of-type {\n",
       "        vertical-align: middle;\n",
       "    }\n",
       "\n",
       "    .dataframe tbody tr th {\n",
       "        vertical-align: top;\n",
       "    }\n",
       "\n",
       "    .dataframe thead th {\n",
       "        text-align: right;\n",
       "    }\n",
       "</style>\n",
       "<table border=\"1\" class=\"dataframe\">\n",
       "  <thead>\n",
       "    <tr style=\"text-align: right;\">\n",
       "      <th></th>\n",
       "      <th>Multiple Linear Regression</th>\n",
       "      <th>Random Forest</th>\n",
       "      <th>Extreme Gradient Boosting</th>\n",
       "    </tr>\n",
       "  </thead>\n",
       "  <tbody>\n",
       "    <tr>\n",
       "      <th>Mean Absolute Error</th>\n",
       "      <td>2.1114</td>\n",
       "      <td>2.0543</td>\n",
       "      <td>2.2055</td>\n",
       "    </tr>\n",
       "    <tr>\n",
       "      <th>Mean Squared Error</th>\n",
       "      <td>7.6080</td>\n",
       "      <td>7.3837</td>\n",
       "      <td>8.0732</td>\n",
       "    </tr>\n",
       "    <tr>\n",
       "      <th>R^2</th>\n",
       "      <td>0.7051</td>\n",
       "      <td>0.7251</td>\n",
       "      <td>0.6850</td>\n",
       "    </tr>\n",
       "    <tr>\n",
       "      <th>Accuracy</th>\n",
       "      <td>97.4158</td>\n",
       "      <td>97.4858</td>\n",
       "      <td>97.3007</td>\n",
       "    </tr>\n",
       "  </tbody>\n",
       "</table>\n",
       "</div>"
      ],
      "text/plain": [
       "                     Multiple Linear Regression  Random Forest  \\\n",
       "Mean Absolute Error                      2.1114         2.0543   \n",
       "Mean Squared Error                       7.6080         7.3837   \n",
       "R^2                                      0.7051         0.7251   \n",
       "Accuracy                                97.4158        97.4858   \n",
       "\n",
       "                     Extreme Gradient Boosting  \n",
       "Mean Absolute Error                     2.2055  \n",
       "Mean Squared Error                      8.0732  \n",
       "R^2                                     0.6850  \n",
       "Accuracy                               97.3007  "
      ]
     },
     "execution_count": 155,
     "metadata": {},
     "output_type": "execute_result"
    }
   ],
   "source": [
    "# Change the columns of the compariosn table and return it\n",
    "comp.columns = ['Multiple Linear Regression', 'Random Forest', 'Extreme Gradient Boosting']\n",
    "comp"
   ]
  },
  {
   "cell_type": "markdown",
   "metadata": {},
   "source": [
    "Interestingly, compared to the results achieved with one simple train test split, MLR has the highest R^2 and Random Forest ha sthe lowest. Let's have a closer look at the R^2 of every fold of the cross-validation."
   ]
  },
  {
   "cell_type": "code",
   "execution_count": 149,
   "metadata": {},
   "outputs": [
    {
     "data": {
      "text/html": [
       "<div>\n",
       "<style scoped>\n",
       "    .dataframe tbody tr th:only-of-type {\n",
       "        vertical-align: middle;\n",
       "    }\n",
       "\n",
       "    .dataframe tbody tr th {\n",
       "        vertical-align: top;\n",
       "    }\n",
       "\n",
       "    .dataframe thead th {\n",
       "        text-align: right;\n",
       "    }\n",
       "</style>\n",
       "<table border=\"1\" class=\"dataframe\">\n",
       "  <thead>\n",
       "    <tr style=\"text-align: right;\">\n",
       "      <th></th>\n",
       "      <th>1st Fold</th>\n",
       "      <th>2nd Fold</th>\n",
       "      <th>3rd Fold</th>\n",
       "      <th>4th Fold</th>\n",
       "      <th>Average</th>\n",
       "    </tr>\n",
       "  </thead>\n",
       "  <tbody>\n",
       "    <tr>\n",
       "      <th>Multiple Linear Regression</th>\n",
       "      <td>0.5952</td>\n",
       "      <td>0.7319</td>\n",
       "      <td>0.7688</td>\n",
       "      <td>0.7246</td>\n",
       "      <td>0.7051</td>\n",
       "    </tr>\n",
       "    <tr>\n",
       "      <th>Random Forest</th>\n",
       "      <td>0.7028</td>\n",
       "      <td>0.7068</td>\n",
       "      <td>0.7620</td>\n",
       "      <td>0.7287</td>\n",
       "      <td>0.7251</td>\n",
       "    </tr>\n",
       "    <tr>\n",
       "      <th>Extreme Gradient Boosting</th>\n",
       "      <td>0.5586</td>\n",
       "      <td>0.7222</td>\n",
       "      <td>0.7641</td>\n",
       "      <td>0.6952</td>\n",
       "      <td>0.6850</td>\n",
       "    </tr>\n",
       "  </tbody>\n",
       "</table>\n",
       "</div>"
      ],
      "text/plain": [
       "                            1st Fold  2nd Fold  3rd Fold  4th Fold  Average\n",
       "Multiple Linear Regression    0.5952    0.7319    0.7688    0.7246   0.7051\n",
       "Random Forest                 0.7028    0.7068    0.7620    0.7287   0.7251\n",
       "Extreme Gradient Boosting     0.5586    0.7222    0.7641    0.6952   0.6850"
      ]
     },
     "execution_count": 149,
     "metadata": {},
     "output_type": "execute_result"
    }
   ],
   "source": [
    "# Create DataFrame for all R^2s\n",
    "r2_comp = pd.DataFrame(r2s, index=comp.columns, columns=['1st Fold', '2nd Fold', '3rd Fold', '4th Fold'])\n",
    "\n",
    "# Add a column for the averages\n",
    "r2_comp['Average'] = np.round(r2_comp.mean(axis=1),4)\n",
    "r2_comp"
   ]
  },
  {
   "cell_type": "markdown",
   "metadata": {},
   "source": [
    "As the above table shows, R^2s fluctuate a lot depending on which subset is used as the holdout set, i.e. the validation set and which ones are used as the training sets. "
   ]
  },
  {
   "cell_type": "markdown",
   "metadata": {},
   "source": [
    "## Hyperparameter Optimization using Grid Search"
   ]
  },
  {
   "cell_type": "markdown",
   "metadata": {},
   "source": [
    "Most Machine Learning models have hyperparameters, which can be tweaked to reach more optimal performace of the model. Scikit-Learn provides sensible defaults for these hyperparameters but there is no one-size-fits-all. Figuring out good hyperparameters in theory is nearly impossible which is why the best and fastest way to optimise hyperparameters is through experiments.\n",
    "\n",
    "Hyperparameter tuning builds on the concept of cross-validation in order to account for overfitting. Just like for model evaluation itself, if we tried to optimise the hyperparameters used in a model solely on one pair of training and validation data we may tune the hyperparameters in a way that fits the model extremely well to the one validation set but the model may perform poorly when applied beyond the validation set. Cross-validation takes car eof this problem.\n",
    "\n",
    "More specifically, the type of hyperparameter tuning that I will use is called \"Random Search Cross Validation\". Essentially, how this works is we first define a range of values for the hyperparamaters that we would like to tune. We then combine all the ranges for the hyperparameters we want to tune in a grid. The Random Search Cross Validation then picks random values from that grid, uses them as the values for the hyperparameters, runs a cross validation using the model with the randomly selected hyperparameters and evaluate sthe resulting score. We can specify how many random cross validations we want to include, keeping in mind that more random cross validations increase the likelihood of finding optimal hyperparameters but are also take more time and computational power. \n",
    "\n",
    "Because the Multiple Linear regression model technically does not have hyperparameters that we can optimise, I will focus on the hyperparameters of the Random Forest and the Extreme Gradient Boosting models."
   ]
  },
  {
   "cell_type": "markdown",
   "metadata": {},
   "source": [
    "## Hyperparameter Optimisation for Random Forest"
   ]
  },
  {
   "cell_type": "markdown",
   "metadata": {},
   "source": [
    "Before we can set up ranges of values for the different hyperparameters we need to decide which hyperparemeters we want to try and optimise. A good place to start is to look at the official documentation (LINK) and think about which hyperparameters could be important for our model.\n",
    "\n",
    "I will try to adjust the following hyperparameters: n_estimators, max_features, max_depth, criterion, min_samples_split, bootstrap, min_impurity_decrease."
   ]
  },
  {
   "cell_type": "code",
   "execution_count": 156,
   "metadata": {},
   "outputs": [],
   "source": [
    "# Number of trees in Random Forest\n",
    "rf_n_estimators = [int(x) for x in np.linspace(200, 1000, 5)]\n",
    "rf_n_estimators.append(1500)\n",
    "rf_n_estimators.append(2000)\n",
    "\n",
    "# Maximum number of levels in tree\n",
    "rf_max_depth = [int(x) for x in np.linspace(5, 55, 11)]\n",
    "# Add the default as a possible value\n",
    "rf_max_depth.append(None)\n",
    "\n",
    "# Number of features to consider at every split\n",
    "rf_max_features = ['auto', 'sqrt', 'log2']\n",
    "\n",
    "# Criterion to split on\n",
    "rf_criterion = ['mse', 'mae']\n",
    "\n",
    "# Minimum number of samples required to split a node\n",
    "rf_min_samples_split = [int(x) for x in np.linspace(2, 10, 9)]\n",
    "\n",
    "# Minimum decrease in impurity required for split to happen\n",
    "rf_min_impurity_decrease = [0.0, 0.05, 0.1]\n",
    "\n",
    "# Method of selecting samples for training each tree\n",
    "rf_bootstrap = [True, False]"
   ]
  },
  {
   "cell_type": "code",
   "execution_count": 157,
   "metadata": {},
   "outputs": [
    {
     "data": {
      "text/plain": [
       "{'n_estimators': [200, 400, 600, 800, 1000, 1500, 2000],\n",
       " 'max_depth': [5, 10, 15, 20, 25, 30, 35, 40, 45, 50, 55, None],\n",
       " 'max_features': ['auto', 'sqrt', 'log2'],\n",
       " 'criterion': ['mse', 'mae'],\n",
       " 'min_samples_split': [2, 3, 4, 5, 6, 7, 8, 9, 10],\n",
       " 'min_impurity_decrease': [0.0, 0.05, 0.1],\n",
       " 'bootstrap': [True, False]}"
      ]
     },
     "execution_count": 157,
     "metadata": {},
     "output_type": "execute_result"
    }
   ],
   "source": [
    "# Create the grid\n",
    "rf_grid = {'n_estimators': rf_n_estimators,\n",
    "               'max_depth': rf_max_depth,\n",
    "               'max_features': rf_max_features,\n",
    "               'criterion': rf_criterion,\n",
    "               'min_samples_split': rf_min_samples_split,\n",
    "               'min_impurity_decrease': rf_min_impurity_decrease,\n",
    "               'bootstrap': rf_bootstrap}\n",
    "\n",
    "rf_grid"
   ]
  },
  {
   "cell_type": "markdown",
   "metadata": {},
   "source": [
    "I will search across 200 different combinations, meaning that a total of 600 models will be evaluated (3 folds for 200 combinations)."
   ]
  },
  {
   "cell_type": "code",
   "execution_count": 223,
   "metadata": {},
   "outputs": [
    {
     "name": "stdout",
     "output_type": "stream",
     "text": [
      "Fitting 3 folds for each of 200 candidates, totalling 600 fits\n"
     ]
    },
    {
     "name": "stderr",
     "output_type": "stream",
     "text": [
      "[Parallel(n_jobs=-1)]: Using backend LokyBackend with 4 concurrent workers.\n",
      "[Parallel(n_jobs=-1)]: Done  33 tasks      | elapsed:  1.0min\n",
      "[Parallel(n_jobs=-1)]: Done 154 tasks      | elapsed:  3.4min\n",
      "[Parallel(n_jobs=-1)]: Done 357 tasks      | elapsed:  6.8min\n",
      "[Parallel(n_jobs=-1)]: Done 600 out of 600 | elapsed: 10.2min finished\n"
     ]
    },
    {
     "data": {
      "text/plain": [
       "RandomizedSearchCV(cv=3, estimator=RandomForestRegressor(), n_iter=200,\n",
       "                   n_jobs=-1,\n",
       "                   param_distributions={'bootstrap': [True, False],\n",
       "                                        'criterion': ['mse', 'mae'],\n",
       "                                        'max_depth': [5, 10, 15, 20, 25, 30, 35,\n",
       "                                                      40, 45, 50, 55, None],\n",
       "                                        'max_features': ['auto', 'sqrt',\n",
       "                                                         'log2'],\n",
       "                                        'min_impurity_decrease': [0.0, 0.05,\n",
       "                                                                  0.1],\n",
       "                                        'min_samples_split': [2, 3, 4, 5, 6, 7,\n",
       "                                                              8, 9, 10],\n",
       "                                        'n_estimators': [200, 400, 600, 800,\n",
       "                                                         1000, 1500, 2000]},\n",
       "                   random_state=420, verbose=2)"
      ]
     },
     "execution_count": 223,
     "metadata": {},
     "output_type": "execute_result"
    }
   ],
   "source": [
    "# Create the model to be tuned\n",
    "rf_base = RandomForestRegressor()\n",
    "\n",
    "# Create the random search Random Forest\n",
    "rf_random = RandomizedSearchCV(estimator = rf_base, param_distributions = rf_grid, n_iter = 200, cv = 3,\n",
    "                              verbose = 2, random_state = 420, n_jobs = -1)\n",
    "\n",
    "# Fit the random search model\n",
    "rf_random.fit(X_train_temp, y_train_temp)"
   ]
  },
  {
   "cell_type": "code",
   "execution_count": 224,
   "metadata": {},
   "outputs": [
    {
     "data": {
      "text/plain": [
       "{'n_estimators': 200,\n",
       " 'min_samples_split': 6,\n",
       " 'min_impurity_decrease': 0.0,\n",
       " 'max_features': 'sqrt',\n",
       " 'max_depth': 25,\n",
       " 'criterion': 'mae',\n",
       " 'bootstrap': True}"
      ]
     },
     "execution_count": 224,
     "metadata": {},
     "output_type": "execute_result"
    }
   ],
   "source": [
    "# View the best parameters from the random search\n",
    "rf_random.best_params_"
   ]
  },
  {
   "cell_type": "markdown",
   "metadata": {},
   "source": [
    "In the final model, which we train on the entire training set and test on the up until this point completely unseen test data, we will use the above hyperparameters."
   ]
  },
  {
   "cell_type": "markdown",
   "metadata": {},
   "source": [
    "## Hyperparameter Optimisation for Extreme Gradient Boosting"
   ]
  },
  {
   "cell_type": "markdown",
   "metadata": {},
   "source": [
    "For the Extreme Gradient Booster I will try to change the following hyperparameters: n_estimators, max_depth, min_child_weight, tree_method, eta, objective, n_thread, seed, gamma"
   ]
  },
  {
   "cell_type": "code",
   "execution_count": 160,
   "metadata": {},
   "outputs": [],
   "source": [
    "# Number of trees in Random Forest\n",
    "xgb_n_estimators = [int(x) for x in np.linspace(200, 2000, 10)]\n",
    "\n",
    "# Maximum number of levels in tree\n",
    "xgb_max_depth = [int(x) for x in np.linspace(2, 20, 10)]\n",
    "\n",
    "# Minimum number of instaces needed in each node\n",
    "xgb_min_child_weight = [int(x) for x in np.linspace(1, 10, 10)]\n",
    "\n",
    "# Tree construction algorithm used in XGBoost\n",
    "xgb_tree_method = ['auto', 'exact', 'approx', 'hist', 'gpu_hist']\n",
    "\n",
    "# Learning rate\n",
    "xgb_eta = [x for x in np.linspace(0.1, 0.6, 6)]\n",
    "\n",
    "# Minimum loss reduction required to make further partition\n",
    "xgb_gamma = [int(x) for x in np.linspace(0, 0.5, 6)]\n",
    "\n",
    "# Learning objective used\n",
    "xgb_objective = ['reg:squarederror', 'reg:squaredlogerror']"
   ]
  },
  {
   "cell_type": "code",
   "execution_count": 161,
   "metadata": {},
   "outputs": [
    {
     "data": {
      "text/plain": [
       "{'n_estimators': [200, 400, 600, 800, 1000, 1200, 1400, 1600, 1800, 2000],\n",
       " 'max_depth': [2, 4, 6, 8, 10, 12, 14, 16, 18, 20],\n",
       " 'min_child_weight': [1, 2, 3, 4, 5, 6, 7, 8, 9, 10],\n",
       " 'tree_method': ['auto', 'exact', 'approx', 'hist', 'gpu_hist'],\n",
       " 'eta': [0.1, 0.2, 0.30000000000000004, 0.4, 0.5, 0.6],\n",
       " 'gamma': [0, 0, 0, 0, 0, 0],\n",
       " 'objective': ['reg:squarederror', 'reg:squaredlogerror']}"
      ]
     },
     "execution_count": 161,
     "metadata": {},
     "output_type": "execute_result"
    }
   ],
   "source": [
    "# Create the grid\n",
    "xgb_grid = {'n_estimators': xgb_n_estimators,\n",
    "            'max_depth': xgb_max_depth,\n",
    "            'min_child_weight': xgb_min_child_weight,\n",
    "            'tree_method': xgb_tree_method,\n",
    "            'eta': xgb_eta,\n",
    "            'gamma': xgb_gamma,\n",
    "            'objective': xgb_objective}\n",
    "\n",
    "xgb_grid"
   ]
  },
  {
   "cell_type": "markdown",
   "metadata": {},
   "source": [
    "One of the strengths of Extreme Gradient Boosting is execution speed, it tends to be much faster than Random forest models, which is why the random grid search is completed a lot quicker for XGB."
   ]
  },
  {
   "cell_type": "code",
   "execution_count": 225,
   "metadata": {},
   "outputs": [
    {
     "name": "stdout",
     "output_type": "stream",
     "text": [
      "Fitting 3 folds for each of 200 candidates, totalling 600 fits\n"
     ]
    },
    {
     "name": "stderr",
     "output_type": "stream",
     "text": [
      "[Parallel(n_jobs=-1)]: Using backend LokyBackend with 4 concurrent workers.\n",
      "[Parallel(n_jobs=-1)]: Done  92 tasks      | elapsed:    4.2s\n",
      "[Parallel(n_jobs=-1)]: Done 600 out of 600 | elapsed:   27.7s finished\n"
     ]
    },
    {
     "data": {
      "text/plain": [
       "RandomizedSearchCV(cv=3,\n",
       "                   estimator=XGBRegressor(base_score=None, booster=None,\n",
       "                                          colsample_bylevel=None,\n",
       "                                          colsample_bynode=None,\n",
       "                                          colsample_bytree=None, gamma=None,\n",
       "                                          gpu_id=None, importance_type='gain',\n",
       "                                          interaction_constraints=None,\n",
       "                                          learning_rate=None,\n",
       "                                          max_delta_step=None, max_depth=None,\n",
       "                                          min_child_weight=None, missing=nan,\n",
       "                                          monotone_constraints=None,\n",
       "                                          n_estimators=100, n...\n",
       "                   param_distributions={'eta': [0.1, 0.2, 0.30000000000000004,\n",
       "                                                0.4, 0.5, 0.6],\n",
       "                                        'gamma': [0, 0, 0, 0, 0, 0],\n",
       "                                        'max_depth': [2, 4, 6, 8, 10, 12, 14,\n",
       "                                                      16, 18, 20],\n",
       "                                        'min_child_weight': [1, 2, 3, 4, 5, 6,\n",
       "                                                             7, 8, 9, 10],\n",
       "                                        'n_estimators': [200, 400, 600, 800,\n",
       "                                                         1000, 1200, 1400, 1600,\n",
       "                                                         1800, 2000],\n",
       "                                        'objective': ['reg:squarederror',\n",
       "                                                      'reg:squaredlogerror'],\n",
       "                                        'tree_method': ['auto', 'exact',\n",
       "                                                        'approx', 'hist',\n",
       "                                                        'gpu_hist']},\n",
       "                   random_state=420, verbose=2)"
      ]
     },
     "execution_count": 225,
     "metadata": {},
     "output_type": "execute_result"
    }
   ],
   "source": [
    "# Create the model to be tuned\n",
    "xgb_base = XGBRegressor()\n",
    "\n",
    "# Create the random search Random Forest\n",
    "xgb_random = RandomizedSearchCV(estimator = xgb_base, param_distributions = xgb_grid, n_iter = 200, cv = 3,\n",
    "                              verbose = 2, random_state = 420, n_jobs = -1)\n",
    "\n",
    "# Fit the random search model\n",
    "xgb_random.fit(X_train_temp, y_train_temp)"
   ]
  },
  {
   "cell_type": "code",
   "execution_count": 226,
   "metadata": {},
   "outputs": [
    {
     "data": {
      "text/plain": [
       "{'tree_method': 'exact',\n",
       " 'objective': 'reg:squarederror',\n",
       " 'n_estimators': 1600,\n",
       " 'min_child_weight': 6,\n",
       " 'max_depth': 8,\n",
       " 'gamma': 0,\n",
       " 'eta': 0.1}"
      ]
     },
     "execution_count": 226,
     "metadata": {},
     "output_type": "execute_result"
    }
   ],
   "source": [
    "# Get the optimal parameters\n",
    "xgb_random.best_params_"
   ]
  },
  {
   "cell_type": "markdown",
   "metadata": {},
   "source": [
    "## Finally using the test data"
   ]
  },
  {
   "cell_type": "markdown",
   "metadata": {},
   "source": [
    "After inspecting the performance of the three different models used in this analysis and performing hpyerparameter tuning, it's time to try out how good these models really are, this time using the test set for evaluating model performance.\n",
    "\n",
    "In what follows I will train the models on the entire 80% of the original dataset as the training set and test it on the 20% hold out set that we have not touched up until now. I will use the optimal hyperparameters found through randomised grid search for Random Forest and Extreme Gradient Booster."
   ]
  },
  {
   "cell_type": "code",
   "execution_count": 227,
   "metadata": {},
   "outputs": [],
   "source": [
    "# Create the final multiple linear regression\n",
    "mlr_final = LinearRegression()\n",
    "\n",
    "# Create the final Random Forest\n",
    "rf_final = RandomForestRegressor(n_estimators = 200,\n",
    "                                 min_samples_split = 6,\n",
    "                                 min_impurity_decrease = 0.0,\n",
    "                                 max_features = 'sqrt',\n",
    "                                 max_depth = 25,\n",
    "                                 criterion = 'mae',\n",
    "                                 bootstrap = True,\n",
    "                                 random_state = 42)"
   ]
  },
  {
   "cell_type": "code",
   "execution_count": 228,
   "metadata": {},
   "outputs": [],
   "source": [
    "# Create the fnal Extreme Gradient Booster\n",
    "xgb_final = XGBRegressor(tree_method = 'exact',\n",
    "                         objective = 'reg:squarederror',\n",
    "                         n_estimators = 1600,\n",
    "                         min_child_weight = 6,\n",
    "                         max_depth = 8,\n",
    "                         gamma = 0,\n",
    "                         eta = 0.1,\n",
    "                         random_state = 42)"
   ]
  },
  {
   "cell_type": "code",
   "execution_count": 253,
   "metadata": {},
   "outputs": [
    {
     "data": {
      "text/plain": [
       "RandomForestRegressor(criterion='mae', max_depth=25, max_features='sqrt',\n",
       "                      min_samples_split=6, n_estimators=200, random_state=42)"
      ]
     },
     "execution_count": 253,
     "metadata": {},
     "output_type": "execute_result"
    }
   ],
   "source": [
    "# Train the models using 80% of the original data\n",
    "mlr_final.fit(X_train_temp, y_train_temp)\n",
    "rf_final.fit(X_train_temp, y_train_temp)"
   ]
  },
  {
   "cell_type": "code",
   "execution_count": 254,
   "metadata": {},
   "outputs": [
    {
     "data": {
      "text/plain": [
       "XGBRegressor(base_score=0.5, booster='gbtree', colsample_bylevel=1,\n",
       "             colsample_bynode=1, colsample_bytree=1, eta=0.1, gamma=0,\n",
       "             gpu_id=-1, importance_type='gain', interaction_constraints='',\n",
       "             learning_rate=0.100000001, max_delta_step=0, max_depth=8,\n",
       "             min_child_weight=6, missing=nan, monotone_constraints='()',\n",
       "             n_estimators=1600, n_jobs=0, num_parallel_tree=1, random_state=42,\n",
       "             reg_alpha=0, reg_lambda=1, scale_pos_weight=1, subsample=1,\n",
       "             tree_method='exact', validate_parameters=1, verbosity=None)"
      ]
     },
     "execution_count": 254,
     "metadata": {},
     "output_type": "execute_result"
    }
   ],
   "source": [
    "# Train the final XGB using 80% of the original data\n",
    "xgb_final.fit(X_train_temp, y_train_temp)"
   ]
  },
  {
   "cell_type": "code",
   "execution_count": 260,
   "metadata": {},
   "outputs": [],
   "source": [
    "# Define a function that runs cross-validations for all models that are given to it and returns their accuarcies\n",
    "def final_comparison(models, test_features, test_labels):\n",
    "    scores = pd.DataFrame()\n",
    "    for model in models:\n",
    "        predictions = model.predict(test_features)\n",
    "        mae = round(mean_absolute_error(test_labels, predictions), 4)\n",
    "        mse = round(mean_squared_error(test_labels, predictions), 4)\n",
    "        r2 = round(r2_score(test_labels, predictions), 4)\n",
    "        errors = abs(predictions - test_labels)\n",
    "        mape = 100 * np.mean(errors / test_labels)\n",
    "        accuracy = round(100 - mape, 4)\n",
    "        scores[str(model)] = [mae, mse, r2, accuracy]\n",
    "    scores.index = ['Mean Absolute Error', 'Mean Squared Error', 'R^2', 'Accuracy']\n",
    "    return scores"
   ]
  },
  {
   "cell_type": "code",
   "execution_count": 261,
   "metadata": {},
   "outputs": [
    {
     "data": {
      "text/html": [
       "<div>\n",
       "<style scoped>\n",
       "    .dataframe tbody tr th:only-of-type {\n",
       "        vertical-align: middle;\n",
       "    }\n",
       "\n",
       "    .dataframe tbody tr th {\n",
       "        vertical-align: top;\n",
       "    }\n",
       "\n",
       "    .dataframe thead th {\n",
       "        text-align: right;\n",
       "    }\n",
       "</style>\n",
       "<table border=\"1\" class=\"dataframe\">\n",
       "  <thead>\n",
       "    <tr style=\"text-align: right;\">\n",
       "      <th></th>\n",
       "      <th>Linear Regression</th>\n",
       "      <th>Random Forest</th>\n",
       "      <th>Extreme Gradient Boosting</th>\n",
       "    </tr>\n",
       "  </thead>\n",
       "  <tbody>\n",
       "    <tr>\n",
       "      <th>Mean Absolute Error</th>\n",
       "      <td>1.9623</td>\n",
       "      <td>1.9289</td>\n",
       "      <td>2.2957</td>\n",
       "    </tr>\n",
       "    <tr>\n",
       "      <th>Mean Squared Error</th>\n",
       "      <td>6.4451</td>\n",
       "      <td>6.0976</td>\n",
       "      <td>9.9338</td>\n",
       "    </tr>\n",
       "    <tr>\n",
       "      <th>R^2</th>\n",
       "      <td>0.7888</td>\n",
       "      <td>0.8002</td>\n",
       "      <td>0.6745</td>\n",
       "    </tr>\n",
       "    <tr>\n",
       "      <th>Accuracy</th>\n",
       "      <td>97.5790</td>\n",
       "      <td>97.6145</td>\n",
       "      <td>97.1306</td>\n",
       "    </tr>\n",
       "  </tbody>\n",
       "</table>\n",
       "</div>"
      ],
      "text/plain": [
       "                     Linear Regression  Random Forest  \\\n",
       "Mean Absolute Error             1.9623         1.9289   \n",
       "Mean Squared Error              6.4451         6.0976   \n",
       "R^2                             0.7888         0.8002   \n",
       "Accuracy                       97.5790        97.6145   \n",
       "\n",
       "                     Extreme Gradient Boosting  \n",
       "Mean Absolute Error                     2.2957  \n",
       "Mean Squared Error                      9.9338  \n",
       "R^2                                     0.6745  \n",
       "Accuracy                               97.1306  "
      ]
     },
     "execution_count": 261,
     "metadata": {},
     "output_type": "execute_result"
    }
   ],
   "source": [
    "# Call the compariosn function with the three final models\n",
    "final_scores = final_comparison([mlr_final, rf_final, xgb_final], X_test, y_test)\n",
    "final_scores.columns  = ['Linear Regression', 'Random Forest', 'Extreme Gradient Boosting']\n",
    "final_scores"
   ]
  }
 ],
 "metadata": {
  "kernelspec": {
   "display_name": "Python 3",
   "language": "python",
   "name": "python3"
  },
  "language_info": {
   "codemirror_mode": {
    "name": "ipython",
    "version": 3
   },
   "file_extension": ".py",
   "mimetype": "text/x-python",
   "name": "python",
   "nbconvert_exporter": "python",
   "pygments_lexer": "ipython3",
   "version": "3.8.2"
  }
 },
 "nbformat": 4,
 "nbformat_minor": 4
}
