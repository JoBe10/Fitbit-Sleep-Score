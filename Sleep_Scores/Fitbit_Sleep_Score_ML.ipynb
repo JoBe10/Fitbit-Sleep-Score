{
 "cells": [
  {
   "cell_type": "markdown",
   "metadata": {},
   "source": [
    "# Using Machine Learning to Predict Fitbit Sleep Scores"
   ]
  },
  {
   "cell_type": "markdown",
   "metadata": {},
   "source": [
    "In this project I'm going to apply various Machine Learning models to predict Fitbit Sleep Scores based on a sample of almost one year of sleep score data. I will compare the accuracies of teh different models and look into the feature importances in each of the models."
   ]
  },
  {
   "cell_type": "markdown",
   "metadata": {},
   "source": [
    "## Import the relevant libraries and data"
   ]
  },
  {
   "cell_type": "code",
   "execution_count": 1,
   "metadata": {},
   "outputs": [],
   "source": [
    "# Import all relevant libraries\n",
    "import pandas as pd\n",
    "import matplotlib.pyplot as plt\n",
    "import numpy as np\n",
    "import seaborn as sns\n",
    "from sklearn.preprocessing import MinMaxScaler\n",
    "from sklearn.preprocessing import StandardScaler\n",
    "from sklearn.model_selection import train_test_split\n",
    "from sklearn.linear_model import LinearRegression\n",
    "from sklearn.ensemble import RandomForestRegressor\n",
    "from xgboost import XGBRegressor\n",
    "import statsmodels.api as sm"
   ]
  },
  {
   "cell_type": "code",
   "execution_count": 2,
   "metadata": {},
   "outputs": [],
   "source": [
    "# Import the data\n",
    "sleep_data = pd.read_csv('combined.csv')"
   ]
  },
  {
   "cell_type": "markdown",
   "metadata": {},
   "source": [
    "## Isolate the Fitbit App data"
   ]
  },
  {
   "cell_type": "code",
   "execution_count": 4,
   "metadata": {},
   "outputs": [
    {
     "data": {
      "text/html": [
       "<div>\n",
       "<style scoped>\n",
       "    .dataframe tbody tr th:only-of-type {\n",
       "        vertical-align: middle;\n",
       "    }\n",
       "\n",
       "    .dataframe tbody tr th {\n",
       "        vertical-align: top;\n",
       "    }\n",
       "\n",
       "    .dataframe thead th {\n",
       "        text-align: right;\n",
       "    }\n",
       "</style>\n",
       "<table border=\"1\" class=\"dataframe\">\n",
       "  <thead>\n",
       "    <tr style=\"text-align: right;\">\n",
       "      <th></th>\n",
       "      <th>Unnamed: 0</th>\n",
       "      <th>Date</th>\n",
       "      <th>Minutes Asleep</th>\n",
       "      <th>Minutes Awake</th>\n",
       "      <th>Number of Awakenings</th>\n",
       "      <th>Time in Bed</th>\n",
       "      <th>Minutes REM Sleep</th>\n",
       "      <th>Minutes Light Sleep</th>\n",
       "      <th>Minutes Deep Sleep</th>\n",
       "      <th>overall_score</th>\n",
       "      <th>composition_score</th>\n",
       "      <th>revitalization_score</th>\n",
       "      <th>duration_score</th>\n",
       "      <th>deep_sleep_in_minutes</th>\n",
       "      <th>resting_heart_rate</th>\n",
       "      <th>restlessness</th>\n",
       "    </tr>\n",
       "  </thead>\n",
       "  <tbody>\n",
       "    <tr>\n",
       "      <th>0</th>\n",
       "      <td>0</td>\n",
       "      <td>2020-07-02</td>\n",
       "      <td>456</td>\n",
       "      <td>42</td>\n",
       "      <td>37</td>\n",
       "      <td>498</td>\n",
       "      <td>94</td>\n",
       "      <td>271</td>\n",
       "      <td>91</td>\n",
       "      <td>86.0</td>\n",
       "      <td>21.0</td>\n",
       "      <td>22.0</td>\n",
       "      <td>43.0</td>\n",
       "      <td>90.0</td>\n",
       "      <td>59.0</td>\n",
       "      <td>0.059426</td>\n",
       "    </tr>\n",
       "    <tr>\n",
       "      <th>1</th>\n",
       "      <td>1</td>\n",
       "      <td>2020-07-01</td>\n",
       "      <td>412</td>\n",
       "      <td>88</td>\n",
       "      <td>32</td>\n",
       "      <td>500</td>\n",
       "      <td>79</td>\n",
       "      <td>208</td>\n",
       "      <td>125</td>\n",
       "      <td>77.0</td>\n",
       "      <td>21.0</td>\n",
       "      <td>21.0</td>\n",
       "      <td>35.0</td>\n",
       "      <td>125.0</td>\n",
       "      <td>61.0</td>\n",
       "      <td>0.091463</td>\n",
       "    </tr>\n",
       "    <tr>\n",
       "      <th>2</th>\n",
       "      <td>2</td>\n",
       "      <td>2020-06-30</td>\n",
       "      <td>412</td>\n",
       "      <td>61</td>\n",
       "      <td>26</td>\n",
       "      <td>473</td>\n",
       "      <td>91</td>\n",
       "      <td>242</td>\n",
       "      <td>79</td>\n",
       "      <td>78.0</td>\n",
       "      <td>20.0</td>\n",
       "      <td>22.0</td>\n",
       "      <td>36.0</td>\n",
       "      <td>79.0</td>\n",
       "      <td>60.0</td>\n",
       "      <td>0.058201</td>\n",
       "    </tr>\n",
       "    <tr>\n",
       "      <th>3</th>\n",
       "      <td>3</td>\n",
       "      <td>2020-06-29</td>\n",
       "      <td>342</td>\n",
       "      <td>59</td>\n",
       "      <td>26</td>\n",
       "      <td>401</td>\n",
       "      <td>71</td>\n",
       "      <td>196</td>\n",
       "      <td>75</td>\n",
       "      <td>76.0</td>\n",
       "      <td>20.0</td>\n",
       "      <td>22.0</td>\n",
       "      <td>34.0</td>\n",
       "      <td>75.0</td>\n",
       "      <td>61.0</td>\n",
       "      <td>0.067885</td>\n",
       "    </tr>\n",
       "    <tr>\n",
       "      <th>4</th>\n",
       "      <td>4</td>\n",
       "      <td>2020-06-28</td>\n",
       "      <td>530</td>\n",
       "      <td>108</td>\n",
       "      <td>39</td>\n",
       "      <td>638</td>\n",
       "      <td>98</td>\n",
       "      <td>305</td>\n",
       "      <td>127</td>\n",
       "      <td>82.0</td>\n",
       "      <td>20.0</td>\n",
       "      <td>20.0</td>\n",
       "      <td>42.0</td>\n",
       "      <td>126.0</td>\n",
       "      <td>62.0</td>\n",
       "      <td>0.097103</td>\n",
       "    </tr>\n",
       "  </tbody>\n",
       "</table>\n",
       "</div>"
      ],
      "text/plain": [
       "   Unnamed: 0        Date  Minutes Asleep  Minutes Awake  \\\n",
       "0           0  2020-07-02             456             42   \n",
       "1           1  2020-07-01             412             88   \n",
       "2           2  2020-06-30             412             61   \n",
       "3           3  2020-06-29             342             59   \n",
       "4           4  2020-06-28             530            108   \n",
       "\n",
       "   Number of Awakenings  Time in Bed  Minutes REM Sleep  Minutes Light Sleep  \\\n",
       "0                    37          498                 94                  271   \n",
       "1                    32          500                 79                  208   \n",
       "2                    26          473                 91                  242   \n",
       "3                    26          401                 71                  196   \n",
       "4                    39          638                 98                  305   \n",
       "\n",
       "   Minutes Deep Sleep  overall_score  composition_score  revitalization_score  \\\n",
       "0                  91           86.0               21.0                  22.0   \n",
       "1                 125           77.0               21.0                  21.0   \n",
       "2                  79           78.0               20.0                  22.0   \n",
       "3                  75           76.0               20.0                  22.0   \n",
       "4                 127           82.0               20.0                  20.0   \n",
       "\n",
       "   duration_score  deep_sleep_in_minutes  resting_heart_rate  restlessness  \n",
       "0            43.0                   90.0                59.0      0.059426  \n",
       "1            35.0                  125.0                61.0      0.091463  \n",
       "2            36.0                   79.0                60.0      0.058201  \n",
       "3            34.0                   75.0                61.0      0.067885  \n",
       "4            42.0                  126.0                62.0      0.097103  "
      ]
     },
     "execution_count": 4,
     "metadata": {},
     "output_type": "execute_result"
    }
   ],
   "source": [
    "sleep_data.head()"
   ]
  },
  {
   "cell_type": "code",
   "execution_count": 5,
   "metadata": {},
   "outputs": [],
   "source": [
    "# Obtain the data available through the app\n",
    "app_data = sleep_data[sleep_data.columns[2:10]]"
   ]
  },
  {
   "cell_type": "code",
   "execution_count": 6,
   "metadata": {},
   "outputs": [
    {
     "data": {
      "text/html": [
       "<div>\n",
       "<style scoped>\n",
       "    .dataframe tbody tr th:only-of-type {\n",
       "        vertical-align: middle;\n",
       "    }\n",
       "\n",
       "    .dataframe tbody tr th {\n",
       "        vertical-align: top;\n",
       "    }\n",
       "\n",
       "    .dataframe thead th {\n",
       "        text-align: right;\n",
       "    }\n",
       "</style>\n",
       "<table border=\"1\" class=\"dataframe\">\n",
       "  <thead>\n",
       "    <tr style=\"text-align: right;\">\n",
       "      <th></th>\n",
       "      <th>Minutes Asleep</th>\n",
       "      <th>Minutes Awake</th>\n",
       "      <th>Number of Awakenings</th>\n",
       "      <th>Time in Bed</th>\n",
       "      <th>Minutes REM Sleep</th>\n",
       "      <th>Minutes Light Sleep</th>\n",
       "      <th>Minutes Deep Sleep</th>\n",
       "      <th>overall_score</th>\n",
       "    </tr>\n",
       "  </thead>\n",
       "  <tbody>\n",
       "    <tr>\n",
       "      <th>0</th>\n",
       "      <td>456</td>\n",
       "      <td>42</td>\n",
       "      <td>37</td>\n",
       "      <td>498</td>\n",
       "      <td>94</td>\n",
       "      <td>271</td>\n",
       "      <td>91</td>\n",
       "      <td>86.0</td>\n",
       "    </tr>\n",
       "    <tr>\n",
       "      <th>1</th>\n",
       "      <td>412</td>\n",
       "      <td>88</td>\n",
       "      <td>32</td>\n",
       "      <td>500</td>\n",
       "      <td>79</td>\n",
       "      <td>208</td>\n",
       "      <td>125</td>\n",
       "      <td>77.0</td>\n",
       "    </tr>\n",
       "    <tr>\n",
       "      <th>2</th>\n",
       "      <td>412</td>\n",
       "      <td>61</td>\n",
       "      <td>26</td>\n",
       "      <td>473</td>\n",
       "      <td>91</td>\n",
       "      <td>242</td>\n",
       "      <td>79</td>\n",
       "      <td>78.0</td>\n",
       "    </tr>\n",
       "    <tr>\n",
       "      <th>3</th>\n",
       "      <td>342</td>\n",
       "      <td>59</td>\n",
       "      <td>26</td>\n",
       "      <td>401</td>\n",
       "      <td>71</td>\n",
       "      <td>196</td>\n",
       "      <td>75</td>\n",
       "      <td>76.0</td>\n",
       "    </tr>\n",
       "    <tr>\n",
       "      <th>4</th>\n",
       "      <td>530</td>\n",
       "      <td>108</td>\n",
       "      <td>39</td>\n",
       "      <td>638</td>\n",
       "      <td>98</td>\n",
       "      <td>305</td>\n",
       "      <td>127</td>\n",
       "      <td>82.0</td>\n",
       "    </tr>\n",
       "  </tbody>\n",
       "</table>\n",
       "</div>"
      ],
      "text/plain": [
       "   Minutes Asleep  Minutes Awake  Number of Awakenings  Time in Bed  \\\n",
       "0             456             42                    37          498   \n",
       "1             412             88                    32          500   \n",
       "2             412             61                    26          473   \n",
       "3             342             59                    26          401   \n",
       "4             530            108                    39          638   \n",
       "\n",
       "   Minutes REM Sleep  Minutes Light Sleep  Minutes Deep Sleep  overall_score  \n",
       "0                 94                  271                  91           86.0  \n",
       "1                 79                  208                 125           77.0  \n",
       "2                 91                  242                  79           78.0  \n",
       "3                 71                  196                  75           76.0  \n",
       "4                 98                  305                 127           82.0  "
      ]
     },
     "execution_count": 6,
     "metadata": {},
     "output_type": "execute_result"
    }
   ],
   "source": [
    "app_data.head()"
   ]
  },
  {
   "cell_type": "code",
   "execution_count": 7,
   "metadata": {},
   "outputs": [],
   "source": [
    "# Obtain the subset of independent variables used for MLR previously\n",
    "app_reduced = app_data.drop(columns=['Minutes Asleep', 'Number of Awakenings', 'Minutes Light Sleep'])"
   ]
  },
  {
   "cell_type": "code",
   "execution_count": 8,
   "metadata": {},
   "outputs": [
    {
     "data": {
      "text/html": [
       "<div>\n",
       "<style scoped>\n",
       "    .dataframe tbody tr th:only-of-type {\n",
       "        vertical-align: middle;\n",
       "    }\n",
       "\n",
       "    .dataframe tbody tr th {\n",
       "        vertical-align: top;\n",
       "    }\n",
       "\n",
       "    .dataframe thead th {\n",
       "        text-align: right;\n",
       "    }\n",
       "</style>\n",
       "<table border=\"1\" class=\"dataframe\">\n",
       "  <thead>\n",
       "    <tr style=\"text-align: right;\">\n",
       "      <th></th>\n",
       "      <th>Minutes Awake</th>\n",
       "      <th>Time in Bed</th>\n",
       "      <th>Minutes REM Sleep</th>\n",
       "      <th>Minutes Deep Sleep</th>\n",
       "      <th>overall_score</th>\n",
       "    </tr>\n",
       "  </thead>\n",
       "  <tbody>\n",
       "    <tr>\n",
       "      <th>0</th>\n",
       "      <td>42</td>\n",
       "      <td>498</td>\n",
       "      <td>94</td>\n",
       "      <td>91</td>\n",
       "      <td>86.0</td>\n",
       "    </tr>\n",
       "    <tr>\n",
       "      <th>1</th>\n",
       "      <td>88</td>\n",
       "      <td>500</td>\n",
       "      <td>79</td>\n",
       "      <td>125</td>\n",
       "      <td>77.0</td>\n",
       "    </tr>\n",
       "    <tr>\n",
       "      <th>2</th>\n",
       "      <td>61</td>\n",
       "      <td>473</td>\n",
       "      <td>91</td>\n",
       "      <td>79</td>\n",
       "      <td>78.0</td>\n",
       "    </tr>\n",
       "    <tr>\n",
       "      <th>3</th>\n",
       "      <td>59</td>\n",
       "      <td>401</td>\n",
       "      <td>71</td>\n",
       "      <td>75</td>\n",
       "      <td>76.0</td>\n",
       "    </tr>\n",
       "    <tr>\n",
       "      <th>4</th>\n",
       "      <td>108</td>\n",
       "      <td>638</td>\n",
       "      <td>98</td>\n",
       "      <td>127</td>\n",
       "      <td>82.0</td>\n",
       "    </tr>\n",
       "  </tbody>\n",
       "</table>\n",
       "</div>"
      ],
      "text/plain": [
       "   Minutes Awake  Time in Bed  Minutes REM Sleep  Minutes Deep Sleep  \\\n",
       "0             42          498                 94                  91   \n",
       "1             88          500                 79                 125   \n",
       "2             61          473                 91                  79   \n",
       "3             59          401                 71                  75   \n",
       "4            108          638                 98                 127   \n",
       "\n",
       "   overall_score  \n",
       "0           86.0  \n",
       "1           77.0  \n",
       "2           78.0  \n",
       "3           76.0  \n",
       "4           82.0  "
      ]
     },
     "execution_count": 8,
     "metadata": {},
     "output_type": "execute_result"
    }
   ],
   "source": [
    "app_reduced.head()"
   ]
  },
  {
   "cell_type": "markdown",
   "metadata": {},
   "source": [
    "## Split the data into training and test set"
   ]
  },
  {
   "cell_type": "code",
   "execution_count": 11,
   "metadata": {},
   "outputs": [],
   "source": [
    "# Perform split\n",
    "X_train, X_test, y_train, y_test = train_test_split(app_reduced[app_reduced.columns[:-1]], app_reduced['overall_score'],\n",
    "                                                   random_state=420)"
   ]
  },
  {
   "cell_type": "markdown",
   "metadata": {},
   "source": [
    "## Scaling the features"
   ]
  },
  {
   "cell_type": "markdown",
   "metadata": {},
   "source": [
    "Although for the Machine Learning Models in this project feature scaling is not required, it is considered best practice to scale features when comparing different models and their performance."
   ]
  },
  {
   "cell_type": "code",
   "execution_count": 18,
   "metadata": {
    "scrolled": true
   },
   "outputs": [
    {
     "data": {
      "text/plain": [
       "array([[0.23076923, 0.54659498, 0.53939394, 0.53900709],\n",
       "       [0.44444444, 0.47849462, 0.40606061, 0.53900709],\n",
       "       [0.4017094 , 0.63799283, 0.53939394, 0.68085106],\n",
       "       [0.43589744, 0.68996416, 0.70909091, 0.64539007],\n",
       "       [0.30769231, 0.57526882, 0.68484848, 0.75886525],\n",
       "       [0.58974359, 0.84767025, 0.51515152, 0.68794326],\n",
       "       [0.33333333, 0.35483871, 0.23636364, 0.39007092],\n",
       "       [0.51282051, 0.71505376, 0.6969697 , 0.53900709],\n",
       "       [0.35897436, 0.44623656, 0.28484848, 0.73049645],\n",
       "       [0.37606838, 0.58243728, 0.27272727, 0.45390071],\n",
       "       [0.41025641, 0.5125448 , 0.54545455, 0.68085106],\n",
       "       [0.45299145, 0.69713262, 0.51515152, 0.64539007],\n",
       "       [0.52136752, 0.4265233 , 0.        , 0.44680851],\n",
       "       [0.51282051, 0.70430108, 0.57575758, 0.5106383 ],\n",
       "       [0.31623932, 0.5125448 , 0.56969697, 0.41134752],\n",
       "       [0.47863248, 0.52150538, 0.43030303, 0.53900709],\n",
       "       [0.84615385, 1.        , 0.64848485, 0.77304965],\n",
       "       [0.33333333, 0.32437276, 0.06666667, 0.28368794],\n",
       "       [0.21367521, 0.51075269, 0.41818182, 0.4893617 ],\n",
       "       [0.53846154, 0.56989247, 0.46060606, 0.53191489],\n",
       "       [0.44444444, 0.54659498, 0.52727273, 0.56028369],\n",
       "       [0.28205128, 0.5734767 , 0.62424242, 0.63120567],\n",
       "       [0.42735043, 0.53225806, 0.24242424, 0.55319149],\n",
       "       [0.41880342, 0.77240143, 0.75757576, 0.57446809],\n",
       "       [0.31623932, 0.39605735, 0.20606061, 0.44680851],\n",
       "       [0.4957265 , 0.5       , 0.38787879, 0.73758865],\n",
       "       [0.56410256, 0.66308244, 0.54545455, 0.72340426],\n",
       "       [0.56410256, 0.55734767, 0.32727273, 0.65957447],\n",
       "       [0.56410256, 0.72759857, 0.6       , 0.38297872],\n",
       "       [0.36752137, 0.64336918, 0.56969697, 0.75886525],\n",
       "       [0.27350427, 0.35125448, 0.41212121, 0.5106383 ],\n",
       "       [0.41025641, 0.57168459, 0.56363636, 0.55319149],\n",
       "       [0.58119658, 0.65949821, 0.47878788, 0.36879433],\n",
       "       [0.5042735 , 0.73476703, 0.50909091, 0.5106383 ],\n",
       "       [0.43589744, 0.46594982, 0.42424242, 0.4893617 ],\n",
       "       [0.38461538, 0.64336918, 0.52121212, 0.78014184],\n",
       "       [0.33333333, 0.55376344, 0.47878788, 0.39007092],\n",
       "       [0.41880342, 0.52329749, 0.22424242, 0.37588652],\n",
       "       [0.30769231, 0.56630824, 0.46666667, 0.60992908],\n",
       "       [0.42735043, 0.57706093, 0.26666667, 0.43262411],\n",
       "       [0.43589744, 0.50896057, 0.37575758, 0.4751773 ],\n",
       "       [0.57264957, 0.82437276, 0.68484848, 0.66666667],\n",
       "       [0.34188034, 0.40143369, 0.23030303, 0.30496454],\n",
       "       [0.31623932, 0.36917563, 0.28484848, 0.39716312],\n",
       "       [0.52991453, 0.66845878, 0.59393939, 0.33333333],\n",
       "       [0.37606838, 0.52329749, 0.20606061, 0.5106383 ],\n",
       "       [0.53846154, 0.53763441, 0.38181818, 0.05673759],\n",
       "       [0.41880342, 0.49462366, 0.32727273, 0.4751773 ],\n",
       "       [0.39316239, 0.64695341, 0.44848485, 0.43262411],\n",
       "       [0.63247863, 0.71505376, 0.37575758, 0.4893617 ],\n",
       "       [0.72649573, 0.76702509, 0.43636364, 0.83687943],\n",
       "       [0.58119658, 0.91039427, 0.47878788, 0.62411348],\n",
       "       [0.47008547, 0.53584229, 0.56969697, 0.58865248],\n",
       "       [0.4017094 , 0.53225806, 0.38787879, 0.34751773],\n",
       "       [0.33333333, 0.53225806, 0.38181818, 0.56737589],\n",
       "       [0.22222222, 0.48028674, 0.42424242, 0.63120567],\n",
       "       [0.34188034, 0.64874552, 0.62424242, 0.71631206],\n",
       "       [0.70940171, 0.71863799, 0.63030303, 0.4751773 ],\n",
       "       [0.52136752, 0.6344086 , 0.50909091, 0.5177305 ],\n",
       "       [0.76923077, 0.92114695, 0.50909091, 0.70921986],\n",
       "       [0.21367521, 0.29928315, 0.34545455, 0.28368794],\n",
       "       [0.4017094 , 0.56630824, 0.32727273, 0.4964539 ],\n",
       "       [0.41880342, 0.51792115, 0.43030303, 0.61702128],\n",
       "       [0.75213675, 0.77777778, 0.44242424, 0.65248227],\n",
       "       [0.21367521, 0.29569892, 0.03030303, 0.39716312],\n",
       "       [0.32478632, 0.52867384, 0.55757576, 0.66666667],\n",
       "       [0.43589744, 0.61111111, 0.56363636, 0.87943262],\n",
       "       [0.58974359, 0.65949821, 0.36969697, 0.78723404],\n",
       "       [0.41880342, 0.609319  , 0.45454545, 0.4822695 ],\n",
       "       [0.31623932, 0.57526882, 0.56969697, 0.36879433],\n",
       "       [0.47863248, 0.49641577, 0.28484848, 0.4964539 ],\n",
       "       [0.43589744, 0.55017921, 0.50909091, 0.55319149]])"
      ]
     },
     "execution_count": 18,
     "metadata": {},
     "output_type": "execute_result"
    }
   ],
   "source": [
    "# Create the scaler with object range of 0-1\n",
    "scaler = MinMaxScaler()\n",
    "\n",
    "# Fit and transform using the training data\n",
    "scaler.fit_transform(X_train)\n",
    "\n",
    "# Transform the test features\n",
    "scaler.transform(X_test)"
   ]
  },
  {
   "cell_type": "markdown",
   "metadata": {},
   "source": [
    "## Defining performance measures"
   ]
  },
  {
   "cell_type": "markdown",
   "metadata": {},
   "source": [
    "The performance measures I want to use to compare the different ML models are Accuracy and Score. Average Error is added to the list as an extra."
   ]
  },
  {
   "cell_type": "code",
   "execution_count": 19,
   "metadata": {},
   "outputs": [],
   "source": [
    "# Define a function for scoring the model and returning its accuracy\n",
    "def evaluate(model, test_features, test_labels):\n",
    "    predictions = model.predict(test_features)\n",
    "    errors = abs(predictions - test_labels)\n",
    "    mape = 100 * np.mean(errors / test_labels)\n",
    "    accuracy = 100 - mape\n",
    "    score = model.score(test_features, test_labels)\n",
    "    print('Model Performance')\n",
    "    print('Average Error: {:0.4f}.'.format(np.mean(errors)))\n",
    "    print('Accuracy = {:0.2f}%.'.format(accuracy))\n",
    "    print('Score = {:0.4f}.'.format(score))"
   ]
  },
  {
   "cell_type": "markdown",
   "metadata": {},
   "source": [
    "## Multiple Linear Regression"
   ]
  },
  {
   "cell_type": "markdown",
   "metadata": {},
   "source": [
    "The first model I would like to use is MLR. I used MLR in another project to understand the relationship between the independent variables and the sleep score. This time, I will use it to make predictions about sleep scores and test the accuracy of this linear model."
   ]
  },
  {
   "cell_type": "code",
   "execution_count": 20,
   "metadata": {},
   "outputs": [],
   "source": [
    "# Create regressor\n",
    "regressor = LinearRegression()\n",
    "\n",
    "# Fit MLR model to training data\n",
    "mlr = regressor.fit(X_train, y_train)"
   ]
  },
  {
   "cell_type": "code",
   "execution_count": 23,
   "metadata": {},
   "outputs": [
    {
     "name": "stdout",
     "output_type": "stream",
     "text": [
      "Model Performance\n",
      "Average Error: 2.3757.\n",
      "Accuracy = 97.06%.\n",
      "Score = 0.7165.\n"
     ]
    }
   ],
   "source": [
    "# Evaluate the performance\n",
    "evaluate(mlr, X_test, y_test)"
   ]
  },
  {
   "cell_type": "markdown",
   "metadata": {},
   "source": [
    "Let's have a look at the feature importances in the Regression. To compute them I will use the relative weight of the coefficients."
   ]
  },
  {
   "cell_type": "code",
   "execution_count": 29,
   "metadata": {},
   "outputs": [],
   "source": [
    "# Get coefficients\n",
    "coef = mlr.coef_"
   ]
  },
  {
   "cell_type": "code",
   "execution_count": 36,
   "metadata": {},
   "outputs": [
    {
     "data": {
      "text/html": [
       "<div>\n",
       "<style scoped>\n",
       "    .dataframe tbody tr th:only-of-type {\n",
       "        vertical-align: middle;\n",
       "    }\n",
       "\n",
       "    .dataframe tbody tr th {\n",
       "        vertical-align: top;\n",
       "    }\n",
       "\n",
       "    .dataframe thead th {\n",
       "        text-align: right;\n",
       "    }\n",
       "</style>\n",
       "<table border=\"1\" class=\"dataframe\">\n",
       "  <thead>\n",
       "    <tr style=\"text-align: right;\">\n",
       "      <th></th>\n",
       "      <th>Coefficient</th>\n",
       "      <th>Feature Importance</th>\n",
       "    </tr>\n",
       "  </thead>\n",
       "  <tbody>\n",
       "    <tr>\n",
       "      <th>Minutes Awake</th>\n",
       "      <td>-0.163098</td>\n",
       "      <td>0.509441</td>\n",
       "    </tr>\n",
       "    <tr>\n",
       "      <th>Time in Bed</th>\n",
       "      <td>0.048444</td>\n",
       "      <td>0.151317</td>\n",
       "    </tr>\n",
       "    <tr>\n",
       "      <th>Minutes REM Sleep</th>\n",
       "      <td>0.069580</td>\n",
       "      <td>0.217336</td>\n",
       "    </tr>\n",
       "    <tr>\n",
       "      <th>Minutes Deep Sleep</th>\n",
       "      <td>0.039028</td>\n",
       "      <td>0.121906</td>\n",
       "    </tr>\n",
       "  </tbody>\n",
       "</table>\n",
       "</div>"
      ],
      "text/plain": [
       "                    Coefficient  Feature Importance\n",
       "Minutes Awake         -0.163098            0.509441\n",
       "Time in Bed            0.048444            0.151317\n",
       "Minutes REM Sleep      0.069580            0.217336\n",
       "Minutes Deep Sleep     0.039028            0.121906"
      ]
     },
     "execution_count": 36,
     "metadata": {},
     "output_type": "execute_result"
    }
   ],
   "source": [
    "# Create a DataFrame with the coefficients and feature importances of all independent variables\n",
    "mlr_feats = pd.DataFrame()\n",
    "\n",
    "# Create coeffciient column\n",
    "mlr_feats['Coefficient'] = coef\n",
    "\n",
    "# Set the index to teh corresponding independent variables\n",
    "mlr_feats.index = X_train.columns\n",
    "\n",
    "# Compute feature importances\n",
    "mlr_feats['Feature Importance'] = mlr_feats.apply(lambda x: abs(x)/mlr_feats.Coefficient.abs().sum())\n",
    "mlr_feats"
   ]
  },
  {
   "cell_type": "markdown",
   "metadata": {},
   "source": [
    "## Random Forest"
   ]
  },
  {
   "cell_type": "code",
   "execution_count": 26,
   "metadata": {},
   "outputs": [],
   "source": [
    "# Create regressor\n",
    "rf_regressor = RandomForestRegressor(n_estimators=500, random_state=420)\n",
    "\n",
    "# Fit RF model to training data\n",
    "rf = rf_regressor.fit(X_train, y_train)"
   ]
  },
  {
   "cell_type": "code",
   "execution_count": 27,
   "metadata": {},
   "outputs": [
    {
     "name": "stdout",
     "output_type": "stream",
     "text": [
      "Model Performance\n",
      "Average Error: 2.1169.\n",
      "Accuracy = 97.38%.\n",
      "Score = 0.7423.\n"
     ]
    }
   ],
   "source": [
    "# # Evaluate the performance\n",
    "evaluate(rf, X_test, y_test)"
   ]
  }
 ],
 "metadata": {
  "kernelspec": {
   "display_name": "Python 3",
   "language": "python",
   "name": "python3"
  },
  "language_info": {
   "codemirror_mode": {
    "name": "ipython",
    "version": 3
   },
   "file_extension": ".py",
   "mimetype": "text/x-python",
   "name": "python",
   "nbconvert_exporter": "python",
   "pygments_lexer": "ipython3",
   "version": "3.8.2"
  }
 },
 "nbformat": 4,
 "nbformat_minor": 4
}
